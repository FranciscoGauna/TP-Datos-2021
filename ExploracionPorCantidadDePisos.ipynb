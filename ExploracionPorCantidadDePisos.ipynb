{
 "cells": [
  {
   "cell_type": "code",
   "execution_count": 245,
   "metadata": {},
   "outputs": [],
   "source": [
    "import pandas as pd\n",
    "import matplotlib.pyplot as plt\n",
    "df_train_labels_original = pd.read_csv('train_labels.csv',low_memory=False)\n",
    "df_train_values_original = pd.read_csv('train_values.csv',low_memory=False, dtype= {\n",
    "'geo_level_1_id':'uint8', 'geo_level_2_id':'uint16', 'geo_level_3_id':'uint16', 'count_floors_pre_eq':'uint8','age':'uint16', 'area_percentage':'uint16', 'height_percentage':'uint16', \n",
    "'land_surface_condition':'category', 'foundation_type':'category', 'roof_type':'category', 'ground_floor_type':'category', 'other_floor_type':'category', 'position':'category','plan_configuration':'category', \n",
    "'has_superstructure_adobe_mud':'bool', 'has_superstructure_mud_mortar_stone':'bool','has_superstructure_stone_flag':'bool', 'has_superstructure_cement_mortar_stone':'bool', 'has_superstructure_mud_mortar_brick':'bool', 'has_superstructure_cement_mortar_brick':'bool', 'has_superstructure_timber':'bool', 'has_superstructure_bamboo':'bool', 'has_superstructure_rc_non_engineered':'bool', 'has_superstructure_rc_engineered':'bool', 'has_superstructure_other':'bool', \n",
    "'legal_ownership_status':'category', 'count_families':'uint16', \n",
    "'has_secondary_use':'bool', 'has_secondary_use_agriculture':'bool', 'has_secondary_use_hotel':'bool', 'has_secondary_use_rental':'bool', 'has_secondary_use_institution':'bool', 'has_secondary_use_school':'bool', 'has_secondary_use_industry':'bool', 'has_secondary_use_health_post':'bool', 'has_secondary_use_gov_office':'bool', 'has_secondary_use_use_police':'bool', 'has_secondary_use_other':'bool',})\n",
    "\n",
    "pd.options.display.float_format = '{:20,.2f}'.format"
   ]
  },
  {
   "cell_type": "code",
   "execution_count": 246,
   "metadata": {},
   "outputs": [
    {
     "output_type": "stream",
     "name": "stdout",
     "text": [
      "<class 'pandas.core.frame.DataFrame'>\nRangeIndex: 260601 entries, 0 to 260600\nData columns (total 39 columns):\n #   Column                                  Non-Null Count   Dtype   \n---  ------                                  --------------   -----   \n 0   building_id                             260601 non-null  int64   \n 1   geo_level_1_id                          260601 non-null  uint8   \n 2   geo_level_2_id                          260601 non-null  uint16  \n 3   geo_level_3_id                          260601 non-null  uint16  \n 4   count_floors_pre_eq                     260601 non-null  uint8   \n 5   age                                     260601 non-null  uint16  \n 6   area_percentage                         260601 non-null  uint16  \n 7   height_percentage                       260601 non-null  uint16  \n 8   land_surface_condition                  260601 non-null  category\n 9   foundation_type                         260601 non-null  category\n 10  roof_type                               260601 non-null  category\n 11  ground_floor_type                       260601 non-null  category\n 12  other_floor_type                        260601 non-null  category\n 13  position                                260601 non-null  category\n 14  plan_configuration                      260601 non-null  category\n 15  has_superstructure_adobe_mud            260601 non-null  bool    \n 16  has_superstructure_mud_mortar_stone     260601 non-null  bool    \n 17  has_superstructure_stone_flag           260601 non-null  bool    \n 18  has_superstructure_cement_mortar_stone  260601 non-null  bool    \n 19  has_superstructure_mud_mortar_brick     260601 non-null  bool    \n 20  has_superstructure_cement_mortar_brick  260601 non-null  bool    \n 21  has_superstructure_timber               260601 non-null  bool    \n 22  has_superstructure_bamboo               260601 non-null  bool    \n 23  has_superstructure_rc_non_engineered    260601 non-null  bool    \n 24  has_superstructure_rc_engineered        260601 non-null  bool    \n 25  has_superstructure_other                260601 non-null  bool    \n 26  legal_ownership_status                  260601 non-null  category\n 27  count_families                          260601 non-null  uint16  \n 28  has_secondary_use                       260601 non-null  bool    \n 29  has_secondary_use_agriculture           260601 non-null  bool    \n 30  has_secondary_use_hotel                 260601 non-null  bool    \n 31  has_secondary_use_rental                260601 non-null  bool    \n 32  has_secondary_use_institution           260601 non-null  bool    \n 33  has_secondary_use_school                260601 non-null  bool    \n 34  has_secondary_use_industry              260601 non-null  bool    \n 35  has_secondary_use_health_post           260601 non-null  bool    \n 36  has_secondary_use_gov_office            260601 non-null  bool    \n 37  has_secondary_use_use_police            260601 non-null  bool    \n 38  has_secondary_use_other                 260601 non-null  bool    \ndtypes: bool(22), category(8), int64(1), uint16(6), uint8(2)\nmemory usage: 12.9 MB\n"
     ]
    }
   ],
   "source": [
    "df_train_values_original.info()"
   ]
  },
  {
   "cell_type": "code",
   "execution_count": 247,
   "metadata": {},
   "outputs": [
    {
     "output_type": "execute_result",
     "data": {
      "text/plain": [
       "2    156623\n",
       "3     55617\n",
       "1     40441\n",
       "4      5424\n",
       "5      2246\n",
       "6       209\n",
       "7        39\n",
       "8         1\n",
       "9         1\n",
       "Name: count_floors_pre_eq, dtype: int64"
      ]
     },
     "metadata": {},
     "execution_count": 247
    }
   ],
   "source": [
    "df_train_values_original.count_floors_pre_eq.value_counts()"
   ]
  },
  {
   "cell_type": "code",
   "execution_count": 248,
   "metadata": {},
   "outputs": [
    {
     "output_type": "execute_result",
     "data": {
      "text/plain": [
       "               building_id         damage_grade\n",
       "count           260,601.00           260,601.00\n",
       "mean            525,675.48                 2.24\n",
       "std             304,545.00                 0.61\n",
       "min                   4.00                 1.00\n",
       "25%             261,190.00                 2.00\n",
       "50%             525,757.00                 2.00\n",
       "75%             789,762.00                 3.00\n",
       "max           1,052,934.00                 3.00"
      ],
      "text/html": "<div>\n<style scoped>\n    .dataframe tbody tr th:only-of-type {\n        vertical-align: middle;\n    }\n\n    .dataframe tbody tr th {\n        vertical-align: top;\n    }\n\n    .dataframe thead th {\n        text-align: right;\n    }\n</style>\n<table border=\"1\" class=\"dataframe\">\n  <thead>\n    <tr style=\"text-align: right;\">\n      <th></th>\n      <th>building_id</th>\n      <th>damage_grade</th>\n    </tr>\n  </thead>\n  <tbody>\n    <tr>\n      <th>count</th>\n      <td>260,601.00</td>\n      <td>260,601.00</td>\n    </tr>\n    <tr>\n      <th>mean</th>\n      <td>525,675.48</td>\n      <td>2.24</td>\n    </tr>\n    <tr>\n      <th>std</th>\n      <td>304,545.00</td>\n      <td>0.61</td>\n    </tr>\n    <tr>\n      <th>min</th>\n      <td>4.00</td>\n      <td>1.00</td>\n    </tr>\n    <tr>\n      <th>25%</th>\n      <td>261,190.00</td>\n      <td>2.00</td>\n    </tr>\n    <tr>\n      <th>50%</th>\n      <td>525,757.00</td>\n      <td>2.00</td>\n    </tr>\n    <tr>\n      <th>75%</th>\n      <td>789,762.00</td>\n      <td>3.00</td>\n    </tr>\n    <tr>\n      <th>max</th>\n      <td>1,052,934.00</td>\n      <td>3.00</td>\n    </tr>\n  </tbody>\n</table>\n</div>"
     },
     "metadata": {},
     "execution_count": 248
    }
   ],
   "source": [
    "df_train_labels_original.describe()"
   ]
  },
  {
   "cell_type": "code",
   "execution_count": null,
   "metadata": {},
   "outputs": [],
   "source": [
    "#Creo Df para cada tipo de categoria teniendo en cuenta la cantidad de pisos antes del terremoto\n",
    "#Categorias: 1 piso\n",
    "#            2 pisos\n",
    "#            edificios medios = 3, 4 pisos\n",
    "#            edificios altos = 5, 6, 7, 8, 9 pisos"
   ]
  },
  {
   "cell_type": "code",
   "execution_count": 249,
   "metadata": {},
   "outputs": [
    {
     "output_type": "execute_result",
     "data": {
      "text/plain": [
       "               building_id         damage_grade\n",
       "count            40,441.00            40,441.00\n",
       "mean            525,466.20                 2.04\n",
       "std             304,192.93                 0.70\n",
       "min                   4.00                 1.00\n",
       "25%             261,194.00                 2.00\n",
       "50%             525,360.00                 2.00\n",
       "75%             787,826.00                 3.00\n",
       "max           1,052,908.00                 3.00"
      ],
      "text/html": "<div>\n<style scoped>\n    .dataframe tbody tr th:only-of-type {\n        vertical-align: middle;\n    }\n\n    .dataframe tbody tr th {\n        vertical-align: top;\n    }\n\n    .dataframe thead th {\n        text-align: right;\n    }\n</style>\n<table border=\"1\" class=\"dataframe\">\n  <thead>\n    <tr style=\"text-align: right;\">\n      <th></th>\n      <th>building_id</th>\n      <th>damage_grade</th>\n    </tr>\n  </thead>\n  <tbody>\n    <tr>\n      <th>count</th>\n      <td>40,441.00</td>\n      <td>40,441.00</td>\n    </tr>\n    <tr>\n      <th>mean</th>\n      <td>525,466.20</td>\n      <td>2.04</td>\n    </tr>\n    <tr>\n      <th>std</th>\n      <td>304,192.93</td>\n      <td>0.70</td>\n    </tr>\n    <tr>\n      <th>min</th>\n      <td>4.00</td>\n      <td>1.00</td>\n    </tr>\n    <tr>\n      <th>25%</th>\n      <td>261,194.00</td>\n      <td>2.00</td>\n    </tr>\n    <tr>\n      <th>50%</th>\n      <td>525,360.00</td>\n      <td>2.00</td>\n    </tr>\n    <tr>\n      <th>75%</th>\n      <td>787,826.00</td>\n      <td>3.00</td>\n    </tr>\n    <tr>\n      <th>max</th>\n      <td>1,052,908.00</td>\n      <td>3.00</td>\n    </tr>\n  </tbody>\n</table>\n</div>"
     },
     "metadata": {},
     "execution_count": 249
    }
   ],
   "source": [
    "unPisoDf = df_train_values_original[df_train_values_original[\"count_floors_pre_eq\"] == 1]\n",
    "unPisoIdDf= pd.DataFrame(unPisoDf.building_id).rename(columns = {0 :\"building_id\"})\n",
    "unPisoIdDf.merge(df_train_labels_original, how=\"inner\").describe()"
   ]
  },
  {
   "cell_type": "code",
   "execution_count": 250,
   "metadata": {},
   "outputs": [
    {
     "output_type": "execute_result",
     "data": {
      "text/plain": [
       "               building_id         damage_grade\n",
       "count           156,623.00           156,623.00\n",
       "mean            525,632.53                 2.24\n",
       "std             304,340.01                 0.59\n",
       "min                   8.00                 1.00\n",
       "25%             262,327.00                 2.00\n",
       "50%             525,463.00                 2.00\n",
       "75%             789,725.50                 3.00\n",
       "max           1,052,934.00                 3.00"
      ],
      "text/html": "<div>\n<style scoped>\n    .dataframe tbody tr th:only-of-type {\n        vertical-align: middle;\n    }\n\n    .dataframe tbody tr th {\n        vertical-align: top;\n    }\n\n    .dataframe thead th {\n        text-align: right;\n    }\n</style>\n<table border=\"1\" class=\"dataframe\">\n  <thead>\n    <tr style=\"text-align: right;\">\n      <th></th>\n      <th>building_id</th>\n      <th>damage_grade</th>\n    </tr>\n  </thead>\n  <tbody>\n    <tr>\n      <th>count</th>\n      <td>156,623.00</td>\n      <td>156,623.00</td>\n    </tr>\n    <tr>\n      <th>mean</th>\n      <td>525,632.53</td>\n      <td>2.24</td>\n    </tr>\n    <tr>\n      <th>std</th>\n      <td>304,340.01</td>\n      <td>0.59</td>\n    </tr>\n    <tr>\n      <th>min</th>\n      <td>8.00</td>\n      <td>1.00</td>\n    </tr>\n    <tr>\n      <th>25%</th>\n      <td>262,327.00</td>\n      <td>2.00</td>\n    </tr>\n    <tr>\n      <th>50%</th>\n      <td>525,463.00</td>\n      <td>2.00</td>\n    </tr>\n    <tr>\n      <th>75%</th>\n      <td>789,725.50</td>\n      <td>3.00</td>\n    </tr>\n    <tr>\n      <th>max</th>\n      <td>1,052,934.00</td>\n      <td>3.00</td>\n    </tr>\n  </tbody>\n</table>\n</div>"
     },
     "metadata": {},
     "execution_count": 250
    }
   ],
   "source": [
    "dosPisosDf = df_train_values_original[df_train_values_original[\"count_floors_pre_eq\"] == 2]\n",
    "dosPisosIdDf= pd.DataFrame(dosPisosDf.building_id).rename(columns = {0 :\"building_id\"})\n",
    "dosPisosIdDf.merge(df_train_labels_original, how=\"inner\").describe()"
   ]
  },
  {
   "cell_type": "code",
   "execution_count": 251,
   "metadata": {},
   "outputs": [
    {
     "output_type": "execute_result",
     "data": {
      "text/plain": [
       "               building_id         damage_grade\n",
       "count            61,041.00            61,041.00\n",
       "mean            526,528.52                 2.37\n",
       "std             305,211.68                 0.58\n",
       "min                  34.00                 1.00\n",
       "25%             259,381.00                 2.00\n",
       "50%             527,876.00                 2.00\n",
       "75%             791,751.00                 3.00\n",
       "max           1,052,931.00                 3.00"
      ],
      "text/html": "<div>\n<style scoped>\n    .dataframe tbody tr th:only-of-type {\n        vertical-align: middle;\n    }\n\n    .dataframe tbody tr th {\n        vertical-align: top;\n    }\n\n    .dataframe thead th {\n        text-align: right;\n    }\n</style>\n<table border=\"1\" class=\"dataframe\">\n  <thead>\n    <tr style=\"text-align: right;\">\n      <th></th>\n      <th>building_id</th>\n      <th>damage_grade</th>\n    </tr>\n  </thead>\n  <tbody>\n    <tr>\n      <th>count</th>\n      <td>61,041.00</td>\n      <td>61,041.00</td>\n    </tr>\n    <tr>\n      <th>mean</th>\n      <td>526,528.52</td>\n      <td>2.37</td>\n    </tr>\n    <tr>\n      <th>std</th>\n      <td>305,211.68</td>\n      <td>0.58</td>\n    </tr>\n    <tr>\n      <th>min</th>\n      <td>34.00</td>\n      <td>1.00</td>\n    </tr>\n    <tr>\n      <th>25%</th>\n      <td>259,381.00</td>\n      <td>2.00</td>\n    </tr>\n    <tr>\n      <th>50%</th>\n      <td>527,876.00</td>\n      <td>2.00</td>\n    </tr>\n    <tr>\n      <th>75%</th>\n      <td>791,751.00</td>\n      <td>3.00</td>\n    </tr>\n    <tr>\n      <th>max</th>\n      <td>1,052,931.00</td>\n      <td>3.00</td>\n    </tr>\n  </tbody>\n</table>\n</div>"
     },
     "metadata": {},
     "execution_count": 251
    }
   ],
   "source": [
    "edificiosMediosDf = df_train_values_original[df_train_values_original[\"count_floors_pre_eq\"] > 2]\n",
    "edificiosMediosDf = edificiosMediosDf[edificiosMediosDf[\"count_floors_pre_eq\"] < 5]\n",
    "edificiosMediosIdDf= pd.DataFrame(edificiosMediosDf.building_id).rename(columns = {0 :\"building_id\"})\n",
    "edificiosMediosIdDf.merge(df_train_labels_original, how=\"inner\").describe()"
   ]
  },
  {
   "cell_type": "code",
   "execution_count": 252,
   "metadata": {},
   "outputs": [
    {
     "output_type": "execute_result",
     "data": {
      "text/plain": [
       "               building_id         damage_grade\n",
       "count             2,496.00             2,496.00\n",
       "mean            510,900.12                 2.09\n",
       "std             306,570.66                 0.58\n",
       "min                  17.00                 1.00\n",
       "25%             232,509.50                 2.00\n",
       "50%             510,563.50                 2.00\n",
       "75%             778,045.75                 2.00\n",
       "max           1,052,515.00                 3.00"
      ],
      "text/html": "<div>\n<style scoped>\n    .dataframe tbody tr th:only-of-type {\n        vertical-align: middle;\n    }\n\n    .dataframe tbody tr th {\n        vertical-align: top;\n    }\n\n    .dataframe thead th {\n        text-align: right;\n    }\n</style>\n<table border=\"1\" class=\"dataframe\">\n  <thead>\n    <tr style=\"text-align: right;\">\n      <th></th>\n      <th>building_id</th>\n      <th>damage_grade</th>\n    </tr>\n  </thead>\n  <tbody>\n    <tr>\n      <th>count</th>\n      <td>2,496.00</td>\n      <td>2,496.00</td>\n    </tr>\n    <tr>\n      <th>mean</th>\n      <td>510,900.12</td>\n      <td>2.09</td>\n    </tr>\n    <tr>\n      <th>std</th>\n      <td>306,570.66</td>\n      <td>0.58</td>\n    </tr>\n    <tr>\n      <th>min</th>\n      <td>17.00</td>\n      <td>1.00</td>\n    </tr>\n    <tr>\n      <th>25%</th>\n      <td>232,509.50</td>\n      <td>2.00</td>\n    </tr>\n    <tr>\n      <th>50%</th>\n      <td>510,563.50</td>\n      <td>2.00</td>\n    </tr>\n    <tr>\n      <th>75%</th>\n      <td>778,045.75</td>\n      <td>2.00</td>\n    </tr>\n    <tr>\n      <th>max</th>\n      <td>1,052,515.00</td>\n      <td>3.00</td>\n    </tr>\n  </tbody>\n</table>\n</div>"
     },
     "metadata": {},
     "execution_count": 252
    }
   ],
   "source": [
    "edificiosAltosDf = df_train_values_original[df_train_values_original[\"count_floors_pre_eq\"] > 4]\n",
    "edificiosAltosIdDf = pd.DataFrame(edificiosAltosDf.building_id).rename(columns = {0 :\"building_id\"})\n",
    "edificiosAltosIdDf.merge(df_train_labels_original, how=\"inner\").describe()"
   ]
  },
  {
   "cell_type": "code",
   "execution_count": null,
   "metadata": {},
   "outputs": [],
   "source": [
    "# Busco para edificios de 1 piso cual es la superestructura prevalente y veo cual es su danio promedio"
   ]
  },
  {
   "cell_type": "code",
   "execution_count": 306,
   "metadata": {},
   "outputs": [
    {
     "output_type": "execute_result",
     "data": {
      "text/plain": [
       "building_id     25874\n",
       "damage_grade    25874\n",
       "dtype: int64"
      ]
     },
     "metadata": {},
     "execution_count": 306
    }
   ],
   "source": [
    "# Las superestructuras de piedra y barro(mud_mortar_stone, adobe_mur y stone_flag) comprenden mas de la mitad de los edificios de 1 piso\n",
    "unPisoBarroDf = unPisoDf[unPisoDf[\"has_superstructure_adobe_mud\"] == True]\n",
    "unPisoBarroPiedraDf = unPisoDf[unPisoDf[\"has_superstructure_mud_mortar_stone\"] == True]\n",
    "unPisoPiedraDf = unPisoDf[unPisoDf[\"has_superstructure_stone_flag\"] == True]\n",
    "unPisoBarroPiedraDf = pd.DataFrame(pd.concat([unPisoBarroDf, unPisoBarroPiedraDf, unPisoPiedraDf]).building_id)\n",
    "unPisoBarroPiedraDf = unPisoBarroPiedraDf.merge(df_train_labels_original, how=\"inner\")\n",
    "unPisoBarroPiedraDf.count()"
   ]
  },
  {
   "cell_type": "code",
   "execution_count": 307,
   "metadata": {},
   "outputs": [
    {
     "output_type": "execute_result",
     "data": {
      "text/plain": [
       "2.326969158228337"
      ]
     },
     "metadata": {},
     "execution_count": 307
    }
   ],
   "source": [
    "# Ademas tienen un indice de danio mayor al promedio general de edificiod de 1 piso\n",
    "unPisoBarroPiedraDf.damage_grade.mean()"
   ]
  },
  {
   "cell_type": "code",
   "execution_count": 298,
   "metadata": {},
   "outputs": [
    {
     "output_type": "execute_result",
     "data": {
      "text/plain": [
       "building_id     13969\n",
       "damage_grade    13969\n",
       "dtype: int64"
      ]
     },
     "metadata": {},
     "execution_count": 298
    }
   ],
   "source": [
    "# Los edificios de Madera( Timber y Bamboo) comprenden 1/4 del total\n",
    "unPisoMaderaDf = unPisoDf[unPisoDf[\"has_superstructure_timber\"] == True]\n",
    "unPisoBambooDf = unPisoDf[unPisoDf[\"has_superstructure_bamboo\"] == True]\n",
    "unPisoMaderasDf = pd.DataFrame(pd.concat([unPisoMaderaDf, unPisoBambooDf]).building_id)\n",
    "unPisoMaderasDf = unPisoMaderasDf.merge(df_train_labels_original, how=\"inner\")\n",
    "unPisoMaderasDf.count()"
   ]
  },
  {
   "cell_type": "code",
   "execution_count": 299,
   "metadata": {},
   "outputs": [
    {
     "output_type": "execute_result",
     "data": {
      "text/plain": [
       "1.9985682582862052"
      ]
     },
     "metadata": {},
     "execution_count": 299
    }
   ],
   "source": [
    "# Estan dentro de la norma del danio generado en edificios de 1 piso\n",
    "unPisoMaderasDf.damage_grade.mean()"
   ]
  },
  {
   "cell_type": "code",
   "execution_count": 300,
   "metadata": {},
   "outputs": [
    {
     "output_type": "execute_result",
     "data": {
      "text/plain": [
       "building_id     4031\n",
       "damage_grade    4031\n",
       "dtype: int64"
      ]
     },
     "metadata": {},
     "execution_count": 300
    }
   ],
   "source": [
    "# Los edificios de Concreto(rc_non_engineered y rc_engineered) comprenden un 10%\n",
    "unPisoSuperConcretoDf = unPisoDf[unPisoDf[\"has_superstructure_rc_non_engineered\"] == True]\n",
    "unPisoConcretoDf = unPisoDf[unPisoDf[\"has_superstructure_rc_engineered\"] == True]\n",
    "unPisoConcretosDf = pd.DataFrame(pd.concat([unPisoSuperConcretoDf, unPisoConcretoDf]).building_id)\n",
    "unPisoConcretosDf = unPisoConcretosDf.merge(df_train_labels_original, how=\"inner\")\n",
    "unPisoConcretosDf.count()"
   ]
  },
  {
   "cell_type": "code",
   "execution_count": 301,
   "metadata": {},
   "outputs": [
    {
     "output_type": "execute_result",
     "data": {
      "text/plain": [
       "1.550979905730588"
      ]
     },
     "metadata": {},
     "execution_count": 301
    }
   ],
   "source": [
    "# Estan bastante por debajo del promedio para 1 piso\n",
    "unPisoConcretosDf.damage_grade.mean()"
   ]
  },
  {
   "cell_type": "code",
   "execution_count": 308,
   "metadata": {},
   "outputs": [
    {
     "output_type": "execute_result",
     "data": {
      "text/plain": [
       "building_id     11528\n",
       "damage_grade    11528\n",
       "dtype: int64"
      ]
     },
     "metadata": {},
     "execution_count": 308
    }
   ],
   "source": [
    "# Los edificios de Cemento( cement_mortar_stone, mud_mortar_brick y cement_moratr_brick) comprenden otro  1/4 del total\n",
    "unPisoCementoPiedraDf = unPisoDf[unPisoDf[\"has_superstructure_cement_mortar_stone\"] == True]\n",
    "unPisoLadrilloDf = unPisoDf[unPisoDf[\"has_superstructure_mud_mortar_brick\"] == True]\n",
    "unPisoCementoLadrilloDf = unPisoDf[unPisoDf[\"has_superstructure_cement_mortar_brick\"] == True]\n",
    "unPisoCementoLadrilloPiedraDf = pd.DataFrame(pd.concat([unPisoCementoLadrilloDf, unPisoLadrilloDf, unPisoCementoPiedraDf]).building_id)\n",
    "unPisoCementoLadrilloPiedraDf = unPisoCementoLadrilloPiedraDf.merge(df_train_labels_original, how=\"inner\")\n",
    "unPisoCementoLadrilloPiedraDf.count()"
   ]
  },
  {
   "cell_type": "code",
   "execution_count": 309,
   "metadata": {},
   "outputs": [
    {
     "output_type": "execute_result",
     "data": {
      "text/plain": [
       "1.7123525329632199"
      ]
     },
     "metadata": {},
     "execution_count": 309
    }
   ],
   "source": [
    "unPisoCementoLadrilloPiedraDf.damage_grade.mean()"
   ]
  },
  {
   "cell_type": "code",
   "execution_count": 310,
   "metadata": {},
   "outputs": [
    {
     "output_type": "execute_result",
     "data": {
      "text/plain": [
       "building_id     918\n",
       "damage_grade    918\n",
       "dtype: int64"
      ]
     },
     "metadata": {},
     "execution_count": 310
    }
   ],
   "source": [
    "# Los edificios de Madera( Timber y Bamboo) comprenden 1/4 del total\n",
    "unPisoOtrosDf = unPisoDf[unPisoDf[\"has_superstructure_other\"] == True].building_id\n",
    "unPisoOtrosDf = pd.DataFrame(unPisoOtrosDf)\n",
    "unPisoOtrosDf = unPisoOtrosDf.merge(df_train_labels_original, how=\"inner\")\n",
    "unPisoOtrosDf.count()"
   ]
  },
  {
   "cell_type": "code",
   "execution_count": 311,
   "metadata": {},
   "outputs": [
    {
     "output_type": "execute_result",
     "data": {
      "text/plain": [
       "1.8006535947712419"
      ]
     },
     "metadata": {},
     "execution_count": 311
    }
   ],
   "source": [
    "unPisoOtrosDf.damage_grade.mean()"
   ]
  },
  {
   "cell_type": "code",
   "execution_count": null,
   "metadata": {},
   "outputs": [],
   "source": []
  }
 ],
 "metadata": {
  "kernelspec": {
   "name": "python388jvsc74a57bd03a71bc561c3cf80a189fade0558661ea193a03d830b1c291b8b4d70b19ee586f",
   "display_name": "Python 3.8.8 64-bit ('pandas_test1': conda)"
  },
  "language_info": {
   "codemirror_mode": {
    "name": "ipython",
    "version": 3
   },
   "file_extension": ".py",
   "mimetype": "text/x-python",
   "name": "python",
   "nbconvert_exporter": "python",
   "pygments_lexer": "ipython3",
   "version": "3.8.8"
  },
  "metadata": {
   "interpreter": {
    "hash": "88ce181b8cd0eb812200b9b411a136cd9c7c972aa91497a27a228178326dd49d"
   }
  }
 },
 "nbformat": 4,
 "nbformat_minor": 4
}