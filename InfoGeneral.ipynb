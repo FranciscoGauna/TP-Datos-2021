{
 "cells": [
  {
   "cell_type": "code",
   "execution_count": 199,
   "metadata": {},
   "outputs": [],
   "source": [
    "import pandas as pd\n",
    "import matplotlib.pyplot as plt\n",
    "df_train_labels_original = pd.read_csv('train_labels.csv',low_memory=False)\n",
    "df_train_values_original = pd.read_csv('train_values.csv',low_memory=False, dtype= {\n",
    "'geo_level_1_id':'uint8', 'geo_level_2_id':'uint16', 'geo_level_3_id':'uint16', 'count_floors_pre_eq':'uint8','age':'uint16', 'area_percentage':'uint16', 'height_percentage':'uint16', \n",
    "'land_surface_condition':'category', 'foundation_type':'category', 'roof_type':'category', 'ground_floor_type':'category', 'other_floor_type':'category', 'position':'category','plan_configuration':'category', \n",
    "'has_superstructure_adobe_mud':'bool', 'has_superstructure_mud_mortar_stone':'bool','has_superstructure_stone_flag':'bool', 'has_superstructure_cement_mortar_stone':'bool', 'has_superstructure_mud_mortar_brick':'bool', 'has_superstructure_cement_mortar_brick':'bool', 'has_superstructure_timber':'bool', 'has_superstructure_bamboo':'bool', 'has_superstructure_rc_non_engineered':'bool', 'has_superstructure_rc_engineered':'bool', 'has_superstructure_other':'bool', \n",
    "'legal_ownership_status':'category', 'count_families':'uint16', \n",
    "'has_secondary_use':'bool', 'has_secondary_use_agriculture':'bool', 'has_secondary_use_hotel':'bool', 'has_secondary_use_rental':'bool', 'has_secondary_use_institution':'bool', 'has_secondary_use_school':'bool', 'has_secondary_use_industry':'bool', 'has_secondary_use_health_post':'bool', 'has_secondary_use_gov_office':'bool', 'has_secondary_use_use_police':'bool', 'has_secondary_use_other':'bool',})"
   ]
  },
  {
   "cell_type": "code",
   "execution_count": 195,
   "metadata": {},
   "outputs": [
    {
     "output_type": "execute_result",
     "data": {
      "text/plain": [
       "   building_id  damage_grade\n",
       "0       802906             3\n",
       "1        28830             2\n",
       "2        94947             3\n",
       "3       590882             2\n",
       "4       201944             3\n",
       "5       333020             2\n",
       "6       728451             3\n",
       "7       475515             1\n",
       "8       441126             2\n",
       "9       989500             1"
      ],
      "text/html": "<div>\n<style scoped>\n    .dataframe tbody tr th:only-of-type {\n        vertical-align: middle;\n    }\n\n    .dataframe tbody tr th {\n        vertical-align: top;\n    }\n\n    .dataframe thead th {\n        text-align: right;\n    }\n</style>\n<table border=\"1\" class=\"dataframe\">\n  <thead>\n    <tr style=\"text-align: right;\">\n      <th></th>\n      <th>building_id</th>\n      <th>damage_grade</th>\n    </tr>\n  </thead>\n  <tbody>\n    <tr>\n      <th>0</th>\n      <td>802906</td>\n      <td>3</td>\n    </tr>\n    <tr>\n      <th>1</th>\n      <td>28830</td>\n      <td>2</td>\n    </tr>\n    <tr>\n      <th>2</th>\n      <td>94947</td>\n      <td>3</td>\n    </tr>\n    <tr>\n      <th>3</th>\n      <td>590882</td>\n      <td>2</td>\n    </tr>\n    <tr>\n      <th>4</th>\n      <td>201944</td>\n      <td>3</td>\n    </tr>\n    <tr>\n      <th>5</th>\n      <td>333020</td>\n      <td>2</td>\n    </tr>\n    <tr>\n      <th>6</th>\n      <td>728451</td>\n      <td>3</td>\n    </tr>\n    <tr>\n      <th>7</th>\n      <td>475515</td>\n      <td>1</td>\n    </tr>\n    <tr>\n      <th>8</th>\n      <td>441126</td>\n      <td>2</td>\n    </tr>\n    <tr>\n      <th>9</th>\n      <td>989500</td>\n      <td>1</td>\n    </tr>\n  </tbody>\n</table>\n</div>"
     },
     "metadata": {},
     "execution_count": 195
    }
   ],
   "source": [
    "df_train_labels_original.head(10)"
   ]
  },
  {
   "cell_type": "code",
   "execution_count": 196,
   "metadata": {},
   "outputs": [
    {
     "output_type": "stream",
     "name": "stdout",
     "text": [
      "<class 'pandas.core.frame.DataFrame'>\nRangeIndex: 260601 entries, 0 to 260600\nData columns (total 2 columns):\n #   Column        Non-Null Count   Dtype\n---  ------        --------------   -----\n 0   building_id   260601 non-null  int64\n 1   damage_grade  260601 non-null  int64\ndtypes: int64(2)\nmemory usage: 4.0 MB\n"
     ]
    }
   ],
   "source": [
    "df_train_labels_original.info()"
   ]
  },
  {
   "cell_type": "code",
   "execution_count": 200,
   "metadata": {},
   "outputs": [
    {
     "output_type": "execute_result",
     "data": {
      "text/plain": [
       "   building_id  geo_level_1_id  geo_level_2_id  geo_level_3_id  \\\n",
       "0       802906               6             487           12198   \n",
       "1        28830               8             900            2812   \n",
       "2        94947              21             363            8973   \n",
       "3       590882              22             418           10694   \n",
       "4       201944              11             131            1488   \n",
       "5       333020               8             558            6089   \n",
       "6       728451               9             475           12066   \n",
       "7       475515              20             323           12236   \n",
       "8       441126               0             757            7219   \n",
       "9       989500              26             886             994   \n",
       "\n",
       "   count_floors_pre_eq  age  area_percentage  height_percentage  \\\n",
       "0                    2   30                6                  5   \n",
       "1                    2   10                8                  7   \n",
       "2                    2   10                5                  5   \n",
       "3                    2   10                6                  5   \n",
       "4                    3   30                8                  9   \n",
       "5                    2   10                9                  5   \n",
       "6                    2   25                3                  4   \n",
       "7                    2    0                8                  6   \n",
       "8                    2   15                8                  6   \n",
       "9                    1    0               13                  4   \n",
       "\n",
       "  land_surface_condition foundation_type  ... has_secondary_use_agriculture  \\\n",
       "0                      t               r  ...                         False   \n",
       "1                      o               r  ...                         False   \n",
       "2                      t               r  ...                         False   \n",
       "3                      t               r  ...                         False   \n",
       "4                      t               r  ...                         False   \n",
       "5                      t               r  ...                          True   \n",
       "6                      n               r  ...                         False   \n",
       "7                      t               w  ...                         False   \n",
       "8                      t               r  ...                         False   \n",
       "9                      t               i  ...                         False   \n",
       "\n",
       "  has_secondary_use_hotel has_secondary_use_rental  \\\n",
       "0                   False                    False   \n",
       "1                   False                    False   \n",
       "2                   False                    False   \n",
       "3                   False                    False   \n",
       "4                   False                    False   \n",
       "5                   False                    False   \n",
       "6                   False                    False   \n",
       "7                   False                    False   \n",
       "8                   False                    False   \n",
       "9                   False                    False   \n",
       "\n",
       "  has_secondary_use_institution has_secondary_use_school  \\\n",
       "0                         False                    False   \n",
       "1                         False                    False   \n",
       "2                         False                    False   \n",
       "3                         False                    False   \n",
       "4                         False                    False   \n",
       "5                         False                    False   \n",
       "6                         False                    False   \n",
       "7                         False                    False   \n",
       "8                         False                    False   \n",
       "9                         False                    False   \n",
       "\n",
       "   has_secondary_use_industry  has_secondary_use_health_post  \\\n",
       "0                       False                          False   \n",
       "1                       False                          False   \n",
       "2                       False                          False   \n",
       "3                       False                          False   \n",
       "4                       False                          False   \n",
       "5                       False                          False   \n",
       "6                       False                          False   \n",
       "7                       False                          False   \n",
       "8                       False                          False   \n",
       "9                       False                          False   \n",
       "\n",
       "   has_secondary_use_gov_office  has_secondary_use_use_police  \\\n",
       "0                         False                         False   \n",
       "1                         False                         False   \n",
       "2                         False                         False   \n",
       "3                         False                         False   \n",
       "4                         False                         False   \n",
       "5                         False                         False   \n",
       "6                         False                         False   \n",
       "7                         False                         False   \n",
       "8                         False                         False   \n",
       "9                         False                         False   \n",
       "\n",
       "   has_secondary_use_other  \n",
       "0                    False  \n",
       "1                    False  \n",
       "2                    False  \n",
       "3                    False  \n",
       "4                    False  \n",
       "5                    False  \n",
       "6                    False  \n",
       "7                    False  \n",
       "8                    False  \n",
       "9                    False  \n",
       "\n",
       "[10 rows x 39 columns]"
      ],
      "text/html": "<div>\n<style scoped>\n    .dataframe tbody tr th:only-of-type {\n        vertical-align: middle;\n    }\n\n    .dataframe tbody tr th {\n        vertical-align: top;\n    }\n\n    .dataframe thead th {\n        text-align: right;\n    }\n</style>\n<table border=\"1\" class=\"dataframe\">\n  <thead>\n    <tr style=\"text-align: right;\">\n      <th></th>\n      <th>building_id</th>\n      <th>geo_level_1_id</th>\n      <th>geo_level_2_id</th>\n      <th>geo_level_3_id</th>\n      <th>count_floors_pre_eq</th>\n      <th>age</th>\n      <th>area_percentage</th>\n      <th>height_percentage</th>\n      <th>land_surface_condition</th>\n      <th>foundation_type</th>\n      <th>...</th>\n      <th>has_secondary_use_agriculture</th>\n      <th>has_secondary_use_hotel</th>\n      <th>has_secondary_use_rental</th>\n      <th>has_secondary_use_institution</th>\n      <th>has_secondary_use_school</th>\n      <th>has_secondary_use_industry</th>\n      <th>has_secondary_use_health_post</th>\n      <th>has_secondary_use_gov_office</th>\n      <th>has_secondary_use_use_police</th>\n      <th>has_secondary_use_other</th>\n    </tr>\n  </thead>\n  <tbody>\n    <tr>\n      <th>0</th>\n      <td>802906</td>\n      <td>6</td>\n      <td>487</td>\n      <td>12198</td>\n      <td>2</td>\n      <td>30</td>\n      <td>6</td>\n      <td>5</td>\n      <td>t</td>\n      <td>r</td>\n      <td>...</td>\n      <td>False</td>\n      <td>False</td>\n      <td>False</td>\n      <td>False</td>\n      <td>False</td>\n      <td>False</td>\n      <td>False</td>\n      <td>False</td>\n      <td>False</td>\n      <td>False</td>\n    </tr>\n    <tr>\n      <th>1</th>\n      <td>28830</td>\n      <td>8</td>\n      <td>900</td>\n      <td>2812</td>\n      <td>2</td>\n      <td>10</td>\n      <td>8</td>\n      <td>7</td>\n      <td>o</td>\n      <td>r</td>\n      <td>...</td>\n      <td>False</td>\n      <td>False</td>\n      <td>False</td>\n      <td>False</td>\n      <td>False</td>\n      <td>False</td>\n      <td>False</td>\n      <td>False</td>\n      <td>False</td>\n      <td>False</td>\n    </tr>\n    <tr>\n      <th>2</th>\n      <td>94947</td>\n      <td>21</td>\n      <td>363</td>\n      <td>8973</td>\n      <td>2</td>\n      <td>10</td>\n      <td>5</td>\n      <td>5</td>\n      <td>t</td>\n      <td>r</td>\n      <td>...</td>\n      <td>False</td>\n      <td>False</td>\n      <td>False</td>\n      <td>False</td>\n      <td>False</td>\n      <td>False</td>\n      <td>False</td>\n      <td>False</td>\n      <td>False</td>\n      <td>False</td>\n    </tr>\n    <tr>\n      <th>3</th>\n      <td>590882</td>\n      <td>22</td>\n      <td>418</td>\n      <td>10694</td>\n      <td>2</td>\n      <td>10</td>\n      <td>6</td>\n      <td>5</td>\n      <td>t</td>\n      <td>r</td>\n      <td>...</td>\n      <td>False</td>\n      <td>False</td>\n      <td>False</td>\n      <td>False</td>\n      <td>False</td>\n      <td>False</td>\n      <td>False</td>\n      <td>False</td>\n      <td>False</td>\n      <td>False</td>\n    </tr>\n    <tr>\n      <th>4</th>\n      <td>201944</td>\n      <td>11</td>\n      <td>131</td>\n      <td>1488</td>\n      <td>3</td>\n      <td>30</td>\n      <td>8</td>\n      <td>9</td>\n      <td>t</td>\n      <td>r</td>\n      <td>...</td>\n      <td>False</td>\n      <td>False</td>\n      <td>False</td>\n      <td>False</td>\n      <td>False</td>\n      <td>False</td>\n      <td>False</td>\n      <td>False</td>\n      <td>False</td>\n      <td>False</td>\n    </tr>\n    <tr>\n      <th>5</th>\n      <td>333020</td>\n      <td>8</td>\n      <td>558</td>\n      <td>6089</td>\n      <td>2</td>\n      <td>10</td>\n      <td>9</td>\n      <td>5</td>\n      <td>t</td>\n      <td>r</td>\n      <td>...</td>\n      <td>True</td>\n      <td>False</td>\n      <td>False</td>\n      <td>False</td>\n      <td>False</td>\n      <td>False</td>\n      <td>False</td>\n      <td>False</td>\n      <td>False</td>\n      <td>False</td>\n    </tr>\n    <tr>\n      <th>6</th>\n      <td>728451</td>\n      <td>9</td>\n      <td>475</td>\n      <td>12066</td>\n      <td>2</td>\n      <td>25</td>\n      <td>3</td>\n      <td>4</td>\n      <td>n</td>\n      <td>r</td>\n      <td>...</td>\n      <td>False</td>\n      <td>False</td>\n      <td>False</td>\n      <td>False</td>\n      <td>False</td>\n      <td>False</td>\n      <td>False</td>\n      <td>False</td>\n      <td>False</td>\n      <td>False</td>\n    </tr>\n    <tr>\n      <th>7</th>\n      <td>475515</td>\n      <td>20</td>\n      <td>323</td>\n      <td>12236</td>\n      <td>2</td>\n      <td>0</td>\n      <td>8</td>\n      <td>6</td>\n      <td>t</td>\n      <td>w</td>\n      <td>...</td>\n      <td>False</td>\n      <td>False</td>\n      <td>False</td>\n      <td>False</td>\n      <td>False</td>\n      <td>False</td>\n      <td>False</td>\n      <td>False</td>\n      <td>False</td>\n      <td>False</td>\n    </tr>\n    <tr>\n      <th>8</th>\n      <td>441126</td>\n      <td>0</td>\n      <td>757</td>\n      <td>7219</td>\n      <td>2</td>\n      <td>15</td>\n      <td>8</td>\n      <td>6</td>\n      <td>t</td>\n      <td>r</td>\n      <td>...</td>\n      <td>False</td>\n      <td>False</td>\n      <td>False</td>\n      <td>False</td>\n      <td>False</td>\n      <td>False</td>\n      <td>False</td>\n      <td>False</td>\n      <td>False</td>\n      <td>False</td>\n    </tr>\n    <tr>\n      <th>9</th>\n      <td>989500</td>\n      <td>26</td>\n      <td>886</td>\n      <td>994</td>\n      <td>1</td>\n      <td>0</td>\n      <td>13</td>\n      <td>4</td>\n      <td>t</td>\n      <td>i</td>\n      <td>...</td>\n      <td>False</td>\n      <td>False</td>\n      <td>False</td>\n      <td>False</td>\n      <td>False</td>\n      <td>False</td>\n      <td>False</td>\n      <td>False</td>\n      <td>False</td>\n      <td>False</td>\n    </tr>\n  </tbody>\n</table>\n<p>10 rows × 39 columns</p>\n</div>"
     },
     "metadata": {},
     "execution_count": 200
    }
   ],
   "source": [
    "df_train_values_original.head(10)"
   ]
  },
  {
   "cell_type": "code",
   "execution_count": 201,
   "metadata": {},
   "outputs": [
    {
     "output_type": "stream",
     "name": "stdout",
     "text": [
      "<class 'pandas.core.frame.DataFrame'>\nRangeIndex: 260601 entries, 0 to 260600\nData columns (total 39 columns):\n #   Column                                  Non-Null Count   Dtype   \n---  ------                                  --------------   -----   \n 0   building_id                             260601 non-null  int64   \n 1   geo_level_1_id                          260601 non-null  uint8   \n 2   geo_level_2_id                          260601 non-null  uint16  \n 3   geo_level_3_id                          260601 non-null  uint16  \n 4   count_floors_pre_eq                     260601 non-null  uint8   \n 5   age                                     260601 non-null  uint16  \n 6   area_percentage                         260601 non-null  uint16  \n 7   height_percentage                       260601 non-null  uint16  \n 8   land_surface_condition                  260601 non-null  category\n 9   foundation_type                         260601 non-null  category\n 10  roof_type                               260601 non-null  category\n 11  ground_floor_type                       260601 non-null  category\n 12  other_floor_type                        260601 non-null  category\n 13  position                                260601 non-null  category\n 14  plan_configuration                      260601 non-null  category\n 15  has_superstructure_adobe_mud            260601 non-null  bool    \n 16  has_superstructure_mud_mortar_stone     260601 non-null  bool    \n 17  has_superstructure_stone_flag           260601 non-null  bool    \n 18  has_superstructure_cement_mortar_stone  260601 non-null  bool    \n 19  has_superstructure_mud_mortar_brick     260601 non-null  bool    \n 20  has_superstructure_cement_mortar_brick  260601 non-null  bool    \n 21  has_superstructure_timber               260601 non-null  bool    \n 22  has_superstructure_bamboo               260601 non-null  bool    \n 23  has_superstructure_rc_non_engineered    260601 non-null  bool    \n 24  has_superstructure_rc_engineered        260601 non-null  bool    \n 25  has_superstructure_other                260601 non-null  bool    \n 26  legal_ownership_status                  260601 non-null  category\n 27  count_families                          260601 non-null  uint16  \n 28  has_secondary_use                       260601 non-null  bool    \n 29  has_secondary_use_agriculture           260601 non-null  bool    \n 30  has_secondary_use_hotel                 260601 non-null  bool    \n 31  has_secondary_use_rental                260601 non-null  bool    \n 32  has_secondary_use_institution           260601 non-null  bool    \n 33  has_secondary_use_school                260601 non-null  bool    \n 34  has_secondary_use_industry              260601 non-null  bool    \n 35  has_secondary_use_health_post           260601 non-null  bool    \n 36  has_secondary_use_gov_office            260601 non-null  bool    \n 37  has_secondary_use_use_police            260601 non-null  bool    \n 38  has_secondary_use_other                 260601 non-null  bool    \ndtypes: bool(22), category(8), int64(1), uint16(6), uint8(2)\nmemory usage: 12.9 MB\n"
     ]
    }
   ],
   "source": [
    "df_train_values_original.info()"
   ]
  },
  {
   "cell_type": "code",
   "execution_count": 181,
   "metadata": {},
   "outputs": [
    {
     "output_type": "execute_result",
     "data": {
      "text/plain": [
       "t    216757\n",
       "n     35528\n",
       "o      8316\n",
       "Name: land_surface_condition, dtype: int64"
      ]
     },
     "metadata": {},
     "execution_count": 181
    }
   ],
   "source": [
    "df_train_values_original['land_surface_condition'].value_counts()"
   ]
  },
  {
   "cell_type": "code",
   "execution_count": 182,
   "metadata": {},
   "outputs": [
    {
     "output_type": "execute_result",
     "data": {
      "text/plain": [
       "r    219196\n",
       "w     15118\n",
       "u     14260\n",
       "i     10579\n",
       "h      1448\n",
       "Name: foundation_type, dtype: int64"
      ]
     },
     "metadata": {},
     "execution_count": 182
    }
   ],
   "source": [
    "df_train_values_original['foundation_type'].value_counts()"
   ]
  },
  {
   "cell_type": "code",
   "execution_count": 183,
   "metadata": {},
   "outputs": [
    {
     "output_type": "execute_result",
     "data": {
      "text/plain": [
       "n    182842\n",
       "q     61576\n",
       "x     16183\n",
       "Name: roof_type, dtype: int64"
      ]
     },
     "metadata": {},
     "execution_count": 183
    }
   ],
   "source": [
    "df_train_values_original['roof_type'].value_counts()"
   ]
  },
  {
   "cell_type": "code",
   "execution_count": 184,
   "metadata": {},
   "outputs": [
    {
     "output_type": "execute_result",
     "data": {
      "text/plain": [
       "f    209619\n",
       "x     24877\n",
       "v     24593\n",
       "z      1004\n",
       "m       508\n",
       "Name: ground_floor_type, dtype: int64"
      ]
     },
     "metadata": {},
     "execution_count": 184
    }
   ],
   "source": [
    "df_train_values_original['ground_floor_type'].value_counts()"
   ]
  },
  {
   "cell_type": "code",
   "execution_count": 185,
   "metadata": {},
   "outputs": [
    {
     "output_type": "execute_result",
     "data": {
      "text/plain": [
       "q    165282\n",
       "x     43448\n",
       "j     39843\n",
       "s     12028\n",
       "Name: other_floor_type, dtype: int64"
      ]
     },
     "metadata": {},
     "execution_count": 185
    }
   ],
   "source": [
    "df_train_values_original['other_floor_type'].value_counts()"
   ]
  },
  {
   "cell_type": "code",
   "execution_count": 186,
   "metadata": {},
   "outputs": [
    {
     "output_type": "execute_result",
     "data": {
      "text/plain": [
       "s    202090\n",
       "t     42896\n",
       "j     13282\n",
       "o      2333\n",
       "Name: position, dtype: int64"
      ]
     },
     "metadata": {},
     "execution_count": 186
    }
   ],
   "source": [
    "df_train_values_original['position'].value_counts()"
   ]
  },
  {
   "cell_type": "code",
   "execution_count": 187,
   "metadata": {},
   "outputs": [
    {
     "output_type": "execute_result",
     "data": {
      "text/plain": [
       "d    250072\n",
       "q      5692\n",
       "u      3649\n",
       "s       346\n",
       "c       325\n",
       "a       252\n",
       "o       159\n",
       "m        46\n",
       "n        38\n",
       "f        22\n",
       "Name: plan_configuration, dtype: int64"
      ]
     },
     "metadata": {},
     "execution_count": 187
    }
   ],
   "source": [
    "df_train_values_original['plan_configuration'].value_counts()"
   ]
  },
  {
   "cell_type": "code",
   "execution_count": 188,
   "metadata": {},
   "outputs": [
    {
     "output_type": "execute_result",
     "data": {
      "text/plain": [
       "v    250939\n",
       "a      5512\n",
       "w      2677\n",
       "r      1473\n",
       "Name: legal_ownership_status, dtype: int64"
      ]
     },
     "metadata": {},
     "execution_count": 188
    }
   ],
   "source": [
    "df_train_values_original['legal_ownership_status'].value_counts()"
   ]
  }
 ],
 "metadata": {
  "kernelspec": {
   "name": "python388jvsc74a57bd03a71bc561c3cf80a189fade0558661ea193a03d830b1c291b8b4d70b19ee586f",
   "display_name": "Python 3.8.8 64-bit ('pandas_test1': conda)"
  },
  "language_info": {
   "codemirror_mode": {
    "name": "ipython",
    "version": 3
   },
   "file_extension": ".py",
   "mimetype": "text/x-python",
   "name": "python",
   "nbconvert_exporter": "python",
   "pygments_lexer": "ipython3",
   "version": "3.8.8"
  },
  "metadata": {
   "interpreter": {
    "hash": "88ce181b8cd0eb812200b9b411a136cd9c7c972aa91497a27a228178326dd49d"
   }
  }
 },
 "nbformat": 4,
 "nbformat_minor": 4
}