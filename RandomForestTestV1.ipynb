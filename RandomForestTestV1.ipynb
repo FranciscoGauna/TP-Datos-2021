{
 "metadata": {
  "language_info": {
   "codemirror_mode": {
    "name": "ipython",
    "version": 3
   },
   "file_extension": ".py",
   "mimetype": "text/x-python",
   "name": "python",
   "nbconvert_exporter": "python",
   "pygments_lexer": "ipython3",
   "version": "3.8.8"
  },
  "orig_nbformat": 4,
  "kernelspec": {
   "name": "python3",
   "display_name": "Python 3.8.8 64-bit ('pandas_test1': conda)"
  },
  "interpreter": {
   "hash": "3a71bc561c3cf80a189fade0558661ea193a03d830b1c291b8b4d70b19ee586f"
  }
 },
 "nbformat": 4,
 "nbformat_minor": 2,
 "cells": [
  {
   "cell_type": "code",
   "execution_count": 105,
   "metadata": {},
   "outputs": [],
   "source": [
    "import pandas as pd\n",
    "pd.options.display.float_format = '{:20,.2f}'.format\n",
    "import matplotlib.pyplot as plt\n",
    "import plotly.express as px"
   ]
  },
  {
   "cell_type": "code",
   "execution_count": 106,
   "metadata": {},
   "outputs": [],
   "source": [
    "# for preprocessing the data\n",
    "from sklearn.preprocessing import StandardScaler\n",
    "\n",
    "# the model\n",
    "from sklearn.ensemble import RandomForestClassifier\n",
    "\n",
    "# for combining the preprocess with model training\n",
    "from sklearn.pipeline import make_pipeline\n",
    "\n",
    "# for optimizing the hyperparameters of the pipeline\n",
    "from sklearn.model_selection import GridSearchCV\n",
    "\n",
    "from sklearn.metrics import f1_score"
   ]
  },
  {
   "cell_type": "code",
   "execution_count": 107,
   "metadata": {},
   "outputs": [],
   "source": [
    "df_train_labels_original = pd.read_csv('train_labels.csv',low_memory=False,index_col='building_id')\n",
    "df_train_values_original = pd.read_csv('train_values.csv',low_memory=False, index_col='building_id', dtype= {\n",
    "'geo_level_1_id':'uint8', 'geo_level_2_id':'uint16', 'geo_level_3_id':'uint16', 'count_floors_pre_eq':'uint8','age':'uint16', 'area_percentage':'uint16', 'height_percentage':'uint16', \n",
    "'land_surface_condition':'category', 'foundation_type':'category', 'roof_type':'category', 'ground_floor_type':'category', 'other_floor_type':'category', 'position':'category','plan_configuration':'category', \n",
    "'has_superstructure_adobe_mud':'bool', 'has_superstructure_mud_mortar_stone':'bool','has_superstructure_stone_flag':'bool', 'has_superstructure_cement_mortar_stone':'bool', 'has_superstructure_mud_mortar_brick':'bool', 'has_superstructure_cement_mortar_brick':'bool', 'has_superstructure_timber':'bool', 'has_superstructure_bamboo':'bool', 'has_superstructure_rc_non_engineered':'bool', 'has_superstructure_rc_engineered':'bool', 'has_superstructure_other':'bool', \n",
    "'legal_ownership_status':'category', 'count_families':'uint16', \n",
    "'has_secondary_use':'bool', 'has_secondary_use_agriculture':'bool', 'has_secondary_use_hotel':'bool', 'has_secondary_use_rental':'bool', 'has_secondary_use_institution':'bool', 'has_secondary_use_school':'bool', 'has_secondary_use_industry':'bool', 'has_secondary_use_health_post':'bool', 'has_secondary_use_gov_office':'bool', 'has_secondary_use_use_police':'bool', 'has_secondary_use_other':'bool',})"
   ]
  },
  {
   "cell_type": "code",
   "execution_count": 108,
   "metadata": {},
   "outputs": [
    {
     "output_type": "execute_result",
     "data": {
      "text/plain": [
       "geo_level_1_id                               uint8\n",
       "geo_level_2_id                              uint16\n",
       "geo_level_3_id                              uint16\n",
       "count_floors_pre_eq                          uint8\n",
       "age                                         uint16\n",
       "area_percentage                             uint16\n",
       "height_percentage                           uint16\n",
       "land_surface_condition                    category\n",
       "foundation_type                           category\n",
       "roof_type                                 category\n",
       "ground_floor_type                         category\n",
       "other_floor_type                          category\n",
       "position                                  category\n",
       "plan_configuration                        category\n",
       "has_superstructure_adobe_mud                  bool\n",
       "has_superstructure_mud_mortar_stone           bool\n",
       "has_superstructure_stone_flag                 bool\n",
       "has_superstructure_cement_mortar_stone        bool\n",
       "has_superstructure_mud_mortar_brick           bool\n",
       "has_superstructure_cement_mortar_brick        bool\n",
       "has_superstructure_timber                     bool\n",
       "has_superstructure_bamboo                     bool\n",
       "has_superstructure_rc_non_engineered          bool\n",
       "has_superstructure_rc_engineered              bool\n",
       "has_superstructure_other                      bool\n",
       "legal_ownership_status                    category\n",
       "count_families                              uint16\n",
       "has_secondary_use                             bool\n",
       "has_secondary_use_agriculture                 bool\n",
       "has_secondary_use_hotel                       bool\n",
       "has_secondary_use_rental                      bool\n",
       "has_secondary_use_institution                 bool\n",
       "has_secondary_use_school                      bool\n",
       "has_secondary_use_industry                    bool\n",
       "has_secondary_use_health_post                 bool\n",
       "has_secondary_use_gov_office                  bool\n",
       "has_secondary_use_use_police                  bool\n",
       "has_secondary_use_other                       bool\n",
       "dtype: object"
      ]
     },
     "metadata": {},
     "execution_count": 108
    }
   ],
   "source": [
    "df_train_values_original.dtypes"
   ]
  },
  {
   "cell_type": "code",
   "execution_count": 109,
   "metadata": {},
   "outputs": [],
   "source": [
    "df_test_values_original = pd.read_csv('test_values.csv',low_memory=False, index_col='building_id', dtype= {\n",
    "'geo_level_1_id':'uint8', 'geo_level_2_id':'uint16', 'geo_level_3_id':'uint16', 'count_floors_pre_eq':'uint8','age':'uint16', 'area_percentage':'uint16', 'height_percentage':'uint16', \n",
    "'land_surface_condition':'category', 'foundation_type':'category', 'roof_type':'category', 'ground_floor_type':'category', 'other_floor_type':'category', 'position':'category','plan_configuration':'category', \n",
    "'has_superstructure_adobe_mud':'bool', 'has_superstructure_mud_mortar_stone':'bool','has_superstructure_stone_flag':'bool', 'has_superstructure_cement_mortar_stone':'bool', 'has_superstructure_mud_mortar_brick':'bool', 'has_superstructure_cement_mortar_brick':'bool', 'has_superstructure_timber':'bool', 'has_superstructure_bamboo':'bool', 'has_superstructure_rc_non_engineered':'bool', 'has_superstructure_rc_engineered':'bool', 'has_superstructure_other':'bool', \n",
    "'legal_ownership_status':'category', 'count_families':'uint16', \n",
    "'has_secondary_use':'bool', 'has_secondary_use_agriculture':'bool', 'has_secondary_use_hotel':'bool', 'has_secondary_use_rental':'bool', 'has_secondary_use_institution':'bool', 'has_secondary_use_school':'bool', 'has_secondary_use_industry':'bool', 'has_secondary_use_health_post':'bool', 'has_secondary_use_gov_office':'bool', 'has_secondary_use_use_police':'bool', 'has_secondary_use_other':'bool',})"
   ]
  },
  {
   "cell_type": "code",
   "execution_count": 110,
   "metadata": {},
   "outputs": [
    {
     "output_type": "execute_result",
     "data": {
      "text/plain": [
       "             1  2  3  4\n",
       "building_id            \n",
       "802906       0  1  0  0\n",
       "28830        0  1  0  0\n",
       "94947        0  1  0  0\n",
       "590882       0  1  0  0\n",
       "201944       0  0  1  0\n",
       "...         .. .. .. ..\n",
       "688636       1  0  0  0\n",
       "669485       0  1  0  0\n",
       "602512       0  0  1  0\n",
       "151409       0  1  0  0\n",
       "747594       0  0  1  0\n",
       "\n",
       "[260601 rows x 4 columns]"
      ],
      "text/html": "<div>\n<style scoped>\n    .dataframe tbody tr th:only-of-type {\n        vertical-align: middle;\n    }\n\n    .dataframe tbody tr th {\n        vertical-align: top;\n    }\n\n    .dataframe thead th {\n        text-align: right;\n    }\n</style>\n<table border=\"1\" class=\"dataframe\">\n  <thead>\n    <tr style=\"text-align: right;\">\n      <th></th>\n      <th>1</th>\n      <th>2</th>\n      <th>3</th>\n      <th>4</th>\n    </tr>\n    <tr>\n      <th>building_id</th>\n      <th></th>\n      <th></th>\n      <th></th>\n      <th></th>\n    </tr>\n  </thead>\n  <tbody>\n    <tr>\n      <th>802906</th>\n      <td>0</td>\n      <td>1</td>\n      <td>0</td>\n      <td>0</td>\n    </tr>\n    <tr>\n      <th>28830</th>\n      <td>0</td>\n      <td>1</td>\n      <td>0</td>\n      <td>0</td>\n    </tr>\n    <tr>\n      <th>94947</th>\n      <td>0</td>\n      <td>1</td>\n      <td>0</td>\n      <td>0</td>\n    </tr>\n    <tr>\n      <th>590882</th>\n      <td>0</td>\n      <td>1</td>\n      <td>0</td>\n      <td>0</td>\n    </tr>\n    <tr>\n      <th>201944</th>\n      <td>0</td>\n      <td>0</td>\n      <td>1</td>\n      <td>0</td>\n    </tr>\n    <tr>\n      <th>...</th>\n      <td>...</td>\n      <td>...</td>\n      <td>...</td>\n      <td>...</td>\n    </tr>\n    <tr>\n      <th>688636</th>\n      <td>1</td>\n      <td>0</td>\n      <td>0</td>\n      <td>0</td>\n    </tr>\n    <tr>\n      <th>669485</th>\n      <td>0</td>\n      <td>1</td>\n      <td>0</td>\n      <td>0</td>\n    </tr>\n    <tr>\n      <th>602512</th>\n      <td>0</td>\n      <td>0</td>\n      <td>1</td>\n      <td>0</td>\n    </tr>\n    <tr>\n      <th>151409</th>\n      <td>0</td>\n      <td>1</td>\n      <td>0</td>\n      <td>0</td>\n    </tr>\n    <tr>\n      <th>747594</th>\n      <td>0</td>\n      <td>0</td>\n      <td>1</td>\n      <td>0</td>\n    </tr>\n  </tbody>\n</table>\n<p>260601 rows × 4 columns</p>\n</div>"
     },
     "metadata": {},
     "execution_count": 110
    }
   ],
   "source": [
    "floors_bool = pd.get_dummies(df_train_values_original['count_floors_pre_eq'])\n",
    "floors_bool = floors_bool.drop(columns = [5, 6, 7, 8, 9])\n",
    "floors_bool"
   ]
  },
  {
   "cell_type": "code",
   "execution_count": 128,
   "metadata": {},
   "outputs": [
    {
     "output_type": "execute_result",
     "data": {
      "text/plain": [
       "             geo_level_3_id  has_superstructure_adobe_mud  \\\n",
       "building_id                                                 \n",
       "3354                   6872                         False   \n",
       "819032                 7350                         False   \n",
       "900564                 7369                         False   \n",
       "\n",
       "             has_superstructure_mud_mortar_stone  \\\n",
       "building_id                                        \n",
       "3354                                        True   \n",
       "819032                                      True   \n",
       "900564                                     False   \n",
       "\n",
       "             has_superstructure_stone_flag  \\\n",
       "building_id                                  \n",
       "3354                                 False   \n",
       "819032                               False   \n",
       "900564                               False   \n",
       "\n",
       "             has_superstructure_cement_mortar_stone  \\\n",
       "building_id                                           \n",
       "3354                                          False   \n",
       "819032                                        False   \n",
       "900564                                        False   \n",
       "\n",
       "             has_superstructure_mud_mortar_brick  \\\n",
       "building_id                                        \n",
       "3354                                       False   \n",
       "819032                                     False   \n",
       "900564                                      True   \n",
       "\n",
       "             has_superstructure_cement_mortar_brick  \\\n",
       "building_id                                           \n",
       "3354                                          False   \n",
       "819032                                        False   \n",
       "900564                                        False   \n",
       "\n",
       "             has_superstructure_timber  has_superstructure_bamboo  \\\n",
       "building_id                                                         \n",
       "3354                             False                      False   \n",
       "819032                            True                       True   \n",
       "900564                            True                      False   \n",
       "\n",
       "             has_superstructure_rc_non_engineered  ...  \\\n",
       "building_id                                        ...   \n",
       "3354                                        False  ...   \n",
       "819032                                      False  ...   \n",
       "900564                                      False  ...   \n",
       "\n",
       "             has_superstructure_other  area_percentage  height_percentage  \\\n",
       "building_id                                                                 \n",
       "3354                            False                5                  5   \n",
       "819032                          False                7                  5   \n",
       "900564                          False               10                  8   \n",
       "\n",
       "             legal_ownership_status_a  legal_ownership_status_r  \\\n",
       "building_id                                                       \n",
       "3354                                0                         0   \n",
       "819032                              0                         0   \n",
       "900564                              0                         0   \n",
       "\n",
       "             legal_ownership_status_w  1  2  3  4  \n",
       "building_id                                        \n",
       "3354                                0  0  1  0  0  \n",
       "819032                              0  0  1  0  0  \n",
       "900564                              0  0  0  0  1  \n",
       "\n",
       "[3 rows x 21 columns]"
      ],
      "text/html": "<div>\n<style scoped>\n    .dataframe tbody tr th:only-of-type {\n        vertical-align: middle;\n    }\n\n    .dataframe tbody tr th {\n        vertical-align: top;\n    }\n\n    .dataframe thead th {\n        text-align: right;\n    }\n</style>\n<table border=\"1\" class=\"dataframe\">\n  <thead>\n    <tr style=\"text-align: right;\">\n      <th></th>\n      <th>geo_level_3_id</th>\n      <th>has_superstructure_adobe_mud</th>\n      <th>has_superstructure_mud_mortar_stone</th>\n      <th>has_superstructure_stone_flag</th>\n      <th>has_superstructure_cement_mortar_stone</th>\n      <th>has_superstructure_mud_mortar_brick</th>\n      <th>has_superstructure_cement_mortar_brick</th>\n      <th>has_superstructure_timber</th>\n      <th>has_superstructure_bamboo</th>\n      <th>has_superstructure_rc_non_engineered</th>\n      <th>...</th>\n      <th>has_superstructure_other</th>\n      <th>area_percentage</th>\n      <th>height_percentage</th>\n      <th>legal_ownership_status_a</th>\n      <th>legal_ownership_status_r</th>\n      <th>legal_ownership_status_w</th>\n      <th>1</th>\n      <th>2</th>\n      <th>3</th>\n      <th>4</th>\n    </tr>\n    <tr>\n      <th>building_id</th>\n      <th></th>\n      <th></th>\n      <th></th>\n      <th></th>\n      <th></th>\n      <th></th>\n      <th></th>\n      <th></th>\n      <th></th>\n      <th></th>\n      <th></th>\n      <th></th>\n      <th></th>\n      <th></th>\n      <th></th>\n      <th></th>\n      <th></th>\n      <th></th>\n      <th></th>\n      <th></th>\n      <th></th>\n    </tr>\n  </thead>\n  <tbody>\n    <tr>\n      <th>3354</th>\n      <td>6872</td>\n      <td>False</td>\n      <td>True</td>\n      <td>False</td>\n      <td>False</td>\n      <td>False</td>\n      <td>False</td>\n      <td>False</td>\n      <td>False</td>\n      <td>False</td>\n      <td>...</td>\n      <td>False</td>\n      <td>5</td>\n      <td>5</td>\n      <td>0</td>\n      <td>0</td>\n      <td>0</td>\n      <td>0</td>\n      <td>1</td>\n      <td>0</td>\n      <td>0</td>\n    </tr>\n    <tr>\n      <th>819032</th>\n      <td>7350</td>\n      <td>False</td>\n      <td>True</td>\n      <td>False</td>\n      <td>False</td>\n      <td>False</td>\n      <td>False</td>\n      <td>True</td>\n      <td>True</td>\n      <td>False</td>\n      <td>...</td>\n      <td>False</td>\n      <td>7</td>\n      <td>5</td>\n      <td>0</td>\n      <td>0</td>\n      <td>0</td>\n      <td>0</td>\n      <td>1</td>\n      <td>0</td>\n      <td>0</td>\n    </tr>\n    <tr>\n      <th>900564</th>\n      <td>7369</td>\n      <td>False</td>\n      <td>False</td>\n      <td>False</td>\n      <td>False</td>\n      <td>True</td>\n      <td>False</td>\n      <td>True</td>\n      <td>False</td>\n      <td>False</td>\n      <td>...</td>\n      <td>False</td>\n      <td>10</td>\n      <td>8</td>\n      <td>0</td>\n      <td>0</td>\n      <td>0</td>\n      <td>0</td>\n      <td>0</td>\n      <td>0</td>\n      <td>1</td>\n    </tr>\n  </tbody>\n</table>\n<p>3 rows × 21 columns</p>\n</div>"
     },
     "metadata": {},
     "execution_count": 128
    }
   ],
   "source": [
    "# codigo para iteracion 1-3\n",
    "# selected_features = ['geo_level_3_id', 'has_superstructure_adobe_mud', 'has_superstructure_mud_mortar_stone', 'has_superstructure_stone_flag', 'has_superstructure_cement_mortar_stone', 'has_superstructure_mud_mortar_brick', 'has_superstructure_cement_mortar_brick', 'has_superstructure_timber', 'has_superstructure_bamboo', 'has_superstructure_rc_non_engineered', 'has_superstructure_rc_engineered', 'has_superstructure_other', 'area_percentage', 'height_percentage', 'legal_ownership_status']\n",
    "# train_values_subset = df_train_values_original[selected_features]\n",
    "# train_values_subset = pd.get_dummies(train_values_subset)\n",
    "# train_values_subset = train_values_subset.drop(columns=['legal_ownership_status_v'])\n",
    "# train_values_subset = pd.concat([train_values_subset, floors_bool], axis=1)\n",
    "# train_values_subset.sample(3)"
   ]
  },
  {
   "cell_type": "code",
   "execution_count": 112,
   "metadata": {},
   "outputs": [
    {
     "output_type": "execute_result",
     "data": {
      "text/plain": [
       "             geo_level_1_id  geo_level_2_id  geo_level_3_id  \\\n",
       "building_id                                                   \n",
       "544201                    6             376            4080   \n",
       "12998                    20             120            5039   \n",
       "962232                   27            1106            6874   \n",
       "\n",
       "             count_floors_pre_eq  age  area_percentage  height_percentage  \\\n",
       "building_id                                                                 \n",
       "544201                         2   15                8                  4   \n",
       "12998                          2   20                5                  7   \n",
       "962232                         3   50                8                  7   \n",
       "\n",
       "             has_superstructure_adobe_mud  \\\n",
       "building_id                                 \n",
       "544201                              False   \n",
       "12998                               False   \n",
       "962232                               True   \n",
       "\n",
       "             has_superstructure_mud_mortar_stone  \\\n",
       "building_id                                        \n",
       "544201                                      True   \n",
       "12998                                       True   \n",
       "962232                                     False   \n",
       "\n",
       "             has_superstructure_stone_flag  ...  plan_configuration_m  \\\n",
       "building_id                                 ...                         \n",
       "544201                               False  ...                     0   \n",
       "12998                                False  ...                     0   \n",
       "962232                               False  ...                     0   \n",
       "\n",
       "             plan_configuration_n  plan_configuration_o  plan_configuration_q  \\\n",
       "building_id                                                                     \n",
       "544201                          0                     0                     0   \n",
       "12998                           0                     0                     0   \n",
       "962232                          0                     0                     0   \n",
       "\n",
       "             plan_configuration_s  plan_configuration_u  \\\n",
       "building_id                                               \n",
       "544201                          0                     0   \n",
       "12998                           0                     0   \n",
       "962232                          0                     0   \n",
       "\n",
       "             legal_ownership_status_a  legal_ownership_status_r  \\\n",
       "building_id                                                       \n",
       "544201                              0                         0   \n",
       "12998                               0                         0   \n",
       "962232                              0                         0   \n",
       "\n",
       "             legal_ownership_status_v  legal_ownership_status_w  \n",
       "building_id                                                      \n",
       "544201                              1                         0  \n",
       "12998                               1                         0  \n",
       "962232                              1                         0  \n",
       "\n",
       "[3 rows x 68 columns]"
      ],
      "text/html": "<div>\n<style scoped>\n    .dataframe tbody tr th:only-of-type {\n        vertical-align: middle;\n    }\n\n    .dataframe tbody tr th {\n        vertical-align: top;\n    }\n\n    .dataframe thead th {\n        text-align: right;\n    }\n</style>\n<table border=\"1\" class=\"dataframe\">\n  <thead>\n    <tr style=\"text-align: right;\">\n      <th></th>\n      <th>geo_level_1_id</th>\n      <th>geo_level_2_id</th>\n      <th>geo_level_3_id</th>\n      <th>count_floors_pre_eq</th>\n      <th>age</th>\n      <th>area_percentage</th>\n      <th>height_percentage</th>\n      <th>has_superstructure_adobe_mud</th>\n      <th>has_superstructure_mud_mortar_stone</th>\n      <th>has_superstructure_stone_flag</th>\n      <th>...</th>\n      <th>plan_configuration_m</th>\n      <th>plan_configuration_n</th>\n      <th>plan_configuration_o</th>\n      <th>plan_configuration_q</th>\n      <th>plan_configuration_s</th>\n      <th>plan_configuration_u</th>\n      <th>legal_ownership_status_a</th>\n      <th>legal_ownership_status_r</th>\n      <th>legal_ownership_status_v</th>\n      <th>legal_ownership_status_w</th>\n    </tr>\n    <tr>\n      <th>building_id</th>\n      <th></th>\n      <th></th>\n      <th></th>\n      <th></th>\n      <th></th>\n      <th></th>\n      <th></th>\n      <th></th>\n      <th></th>\n      <th></th>\n      <th></th>\n      <th></th>\n      <th></th>\n      <th></th>\n      <th></th>\n      <th></th>\n      <th></th>\n      <th></th>\n      <th></th>\n      <th></th>\n      <th></th>\n    </tr>\n  </thead>\n  <tbody>\n    <tr>\n      <th>544201</th>\n      <td>6</td>\n      <td>376</td>\n      <td>4080</td>\n      <td>2</td>\n      <td>15</td>\n      <td>8</td>\n      <td>4</td>\n      <td>False</td>\n      <td>True</td>\n      <td>False</td>\n      <td>...</td>\n      <td>0</td>\n      <td>0</td>\n      <td>0</td>\n      <td>0</td>\n      <td>0</td>\n      <td>0</td>\n      <td>0</td>\n      <td>0</td>\n      <td>1</td>\n      <td>0</td>\n    </tr>\n    <tr>\n      <th>12998</th>\n      <td>20</td>\n      <td>120</td>\n      <td>5039</td>\n      <td>2</td>\n      <td>20</td>\n      <td>5</td>\n      <td>7</td>\n      <td>False</td>\n      <td>True</td>\n      <td>False</td>\n      <td>...</td>\n      <td>0</td>\n      <td>0</td>\n      <td>0</td>\n      <td>0</td>\n      <td>0</td>\n      <td>0</td>\n      <td>0</td>\n      <td>0</td>\n      <td>1</td>\n      <td>0</td>\n    </tr>\n    <tr>\n      <th>962232</th>\n      <td>27</td>\n      <td>1106</td>\n      <td>6874</td>\n      <td>3</td>\n      <td>50</td>\n      <td>8</td>\n      <td>7</td>\n      <td>True</td>\n      <td>False</td>\n      <td>False</td>\n      <td>...</td>\n      <td>0</td>\n      <td>0</td>\n      <td>0</td>\n      <td>0</td>\n      <td>0</td>\n      <td>0</td>\n      <td>0</td>\n      <td>0</td>\n      <td>1</td>\n      <td>0</td>\n    </tr>\n  </tbody>\n</table>\n<p>3 rows × 68 columns</p>\n</div>"
     },
     "metadata": {},
     "execution_count": 112
    }
   ],
   "source": [
    "# iteracion 4\n",
    "train_values_subset =  pd.get_dummies(df_train_values_original)\n",
    "train_values_subset.sample(3)\n"
   ]
  },
  {
   "cell_type": "code",
   "execution_count": 113,
   "metadata": {},
   "outputs": [],
   "source": [
    "train_labels_subset = df_train_labels_original['damage_grade']"
   ]
  },
  {
   "cell_type": "code",
   "execution_count": 114,
   "metadata": {},
   "outputs": [],
   "source": [
    "pipe = make_pipeline(StandardScaler(), \n",
    "                     RandomForestClassifier(random_state=2018, oob_score=True, n_jobs=-1))"
   ]
  },
  {
   "cell_type": "code",
   "execution_count": 115,
   "metadata": {},
   "outputs": [],
   "source": [
    "param_grid = {'randomforestclassifier__n_estimators': [50, 200],\n",
    "              'randomforestclassifier__min_samples_leaf': [1, 10]}\n",
    "gs = GridSearchCV(pipe, param_grid, cv=5)"
   ]
  },
  {
   "cell_type": "code",
   "execution_count": 116,
   "metadata": {
    "tags": []
   },
   "outputs": [
    {
     "output_type": "execute_result",
     "data": {
      "text/plain": [
       "GridSearchCV(cv=5,\n",
       "             estimator=Pipeline(steps=[('standardscaler', StandardScaler()),\n",
       "                                       ('randomforestclassifier',\n",
       "                                        RandomForestClassifier(n_jobs=-1,\n",
       "                                                               oob_score=True,\n",
       "                                                               random_state=2018))]),\n",
       "             param_grid={'randomforestclassifier__min_samples_leaf': [1, 10],\n",
       "                         'randomforestclassifier__n_estimators': [50, 200]})"
      ]
     },
     "metadata": {},
     "execution_count": 116
    }
   ],
   "source": [
    "gs.fit(train_values_subset, train_labels_subset.values.ravel())"
   ]
  },
  {
   "cell_type": "code",
   "execution_count": 117,
   "metadata": {},
   "outputs": [
    {
     "output_type": "execute_result",
     "data": {
      "text/plain": [
       "{'randomforestclassifier__min_samples_leaf': 1,\n",
       " 'randomforestclassifier__n_estimators': 200}"
      ]
     },
     "metadata": {},
     "execution_count": 117
    }
   ],
   "source": [
    "gs.best_params_"
   ]
  },
  {
   "cell_type": "code",
   "execution_count": 118,
   "metadata": {},
   "outputs": [
    {
     "output_type": "execute_result",
     "data": {
      "text/plain": [
       "0.984297834620742"
      ]
     },
     "metadata": {},
     "execution_count": 118
    }
   ],
   "source": [
    "in_sample_preds = gs.predict(train_values_subset)\n",
    "f1_score(train_labels_subset, in_sample_preds, average='micro')"
   ]
  },
  {
   "cell_type": "code",
   "execution_count": 119,
   "metadata": {},
   "outputs": [],
   "source": [
    "test_values_subset = df_test_values_original\n",
    "test_values_subset = pd.get_dummies(test_values_subset)"
   ]
  },
  {
   "cell_type": "code",
   "execution_count": 120,
   "metadata": {},
   "outputs": [],
   "source": [
    "predictions = gs.predict(test_values_subset)"
   ]
  },
  {
   "cell_type": "code",
   "execution_count": 121,
   "metadata": {},
   "outputs": [],
   "source": [
    "submission_format = pd.read_csv('submission_format.csv', index_col='building_id')"
   ]
  },
  {
   "cell_type": "code",
   "execution_count": 122,
   "metadata": {},
   "outputs": [],
   "source": [
    "my_submission = pd.DataFrame(data=predictions,\n",
    "                             columns=submission_format.columns,\n",
    "                             index=submission_format.index)"
   ]
  },
  {
   "cell_type": "code",
   "execution_count": 123,
   "metadata": {},
   "outputs": [
    {
     "output_type": "execute_result",
     "data": {
      "text/plain": [
       "             damage_grade\n",
       "building_id              \n",
       "300051                  2\n",
       "99355                   2\n",
       "890251                  2\n",
       "745817                  1\n",
       "421793                  3"
      ],
      "text/html": "<div>\n<style scoped>\n    .dataframe tbody tr th:only-of-type {\n        vertical-align: middle;\n    }\n\n    .dataframe tbody tr th {\n        vertical-align: top;\n    }\n\n    .dataframe thead th {\n        text-align: right;\n    }\n</style>\n<table border=\"1\" class=\"dataframe\">\n  <thead>\n    <tr style=\"text-align: right;\">\n      <th></th>\n      <th>damage_grade</th>\n    </tr>\n    <tr>\n      <th>building_id</th>\n      <th></th>\n    </tr>\n  </thead>\n  <tbody>\n    <tr>\n      <th>300051</th>\n      <td>2</td>\n    </tr>\n    <tr>\n      <th>99355</th>\n      <td>2</td>\n    </tr>\n    <tr>\n      <th>890251</th>\n      <td>2</td>\n    </tr>\n    <tr>\n      <th>745817</th>\n      <td>1</td>\n    </tr>\n    <tr>\n      <th>421793</th>\n      <td>3</td>\n    </tr>\n  </tbody>\n</table>\n</div>"
     },
     "metadata": {},
     "execution_count": 123
    }
   ],
   "source": [
    "my_submission.head()"
   ]
  },
  {
   "cell_type": "code",
   "execution_count": 126,
   "metadata": {},
   "outputs": [],
   "source": [
    "my_submission.to_csv('submission3.csv')"
   ]
  },
  {
   "cell_type": "code",
   "execution_count": null,
   "metadata": {},
   "outputs": [],
   "source": []
  },
  {
   "cell_type": "code",
   "execution_count": 125,
   "metadata": {},
   "outputs": [
    {
     "output_type": "error",
     "ename": "SyntaxError",
     "evalue": "invalid syntax (<ipython-input-125-ab25fa539c34>, line 1)",
     "traceback": [
      "\u001b[1;36m  File \u001b[1;32m\"<ipython-input-125-ab25fa539c34>\"\u001b[1;36m, line \u001b[1;32m1\u001b[0m\n\u001b[1;33m    first iteration:\u001b[0m\n\u001b[1;37m          ^\u001b[0m\n\u001b[1;31mSyntaxError\u001b[0m\u001b[1;31m:\u001b[0m invalid syntax\n"
     ]
    }
   ],
   "source": [
    "first iteration: \n",
    "    - sigo tutorial y elijo parametros que parecen importantes segun el informe        realizaco para la primer parte\n",
    "    - selected_features = ['geo_level_1_id', 'has_superstructure_adobe_mud', 'has_superstructure_mud_mortar_stone', 'has_superstructure_stone_flag', 'has_superstructure_cement_mortar_stone', 'has_superstructure_mud_mortar_brick', 'has_superstructure_cement_mortar_brick', 'has_superstructure_timber', 'has_superstructure_bamboo', 'has_superstructure_rc_non_engineered', 'has_superstructure_rc_engineered', 'has_superstructure_other', 'area_percentage', 'height_percentage', 'legal_ownership_status']\n",
    "    - param_grid = {'randomforestclassifier__n_estimators': [50, 200],\n",
    "              'randomforestclassifier__min_samples_leaf': [1, 10]}\n",
    "    - f1Score = 0.6830211702948186"
   ]
  },
  {
   "cell_type": "code",
   "execution_count": null,
   "metadata": {},
   "outputs": [],
   "source": [
    "second iteration: \n",
    "    - cambio geolevel 1 por 3, mas especifico\n",
    "    - selected_features = ['geo_level_3_id', 'has_superstructure_adobe_mud', 'has_superstructure_mud_mortar_stone', 'has_superstructure_stone_flag', 'has_superstructure_cement_mortar_stone', 'has_superstructure_mud_mortar_brick', 'has_superstructure_cement_mortar_brick', 'has_superstructure_timber', 'has_superstructure_bamboo', 'has_superstructure_rc_non_engineered', 'has_superstructure_rc_engineered', 'has_superstructure_other', 'area_percentage', 'height_percentage', 'legal_ownership_status']\n",
    "    - param_grid = {'randomforestclassifier__n_estimators': [50, 200],\n",
    "              'randomforestclassifier__min_samples_leaf': [1, 10]}\n",
    "    - f1Score = 0.8886305117785427"
   ]
  },
  {
   "cell_type": "code",
   "execution_count": null,
   "metadata": {},
   "outputs": [],
   "source": [
    "third iteration:\n",
    "    - igual que la segunda, solo que dropeo legal_ownership_status_v y sumo los pisos 1 2 3 y 4 como columnas 1/0\n",
    "    - f1Score = 0.8920533689433273"
   ]
  },
  {
   "cell_type": "code",
   "execution_count": null,
   "metadata": {},
   "outputs": [],
   "source": [
    "Realizo la primer entrega, conseguimos un score del 0.6520"
   ]
  },
  {
   "cell_type": "code",
   "execution_count": null,
   "metadata": {},
   "outputs": [],
   "source": [
    "fourth iteration:\n",
    "    - agregue todas las columnas, pasando los categorys con get_dummys. Nos da un total de 68 columnas.\n",
    "    - f1Score = 0.984297834620742\n",
    "    - puede ser un caso de overfitting?"
   ]
  },
  {
   "cell_type": "code",
   "execution_count": 127,
   "metadata": {},
   "outputs": [
    {
     "output_type": "error",
     "ename": "SyntaxError",
     "evalue": "invalid syntax (<ipython-input-127-fec072e3d6fd>, line 1)",
     "traceback": [
      "\u001b[1;36m  File \u001b[1;32m\"<ipython-input-127-fec072e3d6fd>\"\u001b[1;36m, line \u001b[1;32m1\u001b[0m\n\u001b[1;33m    Realizo segunda entrega, conseguimos un score del 0.71\u001b[0m\n\u001b[1;37m            ^\u001b[0m\n\u001b[1;31mSyntaxError\u001b[0m\u001b[1;31m:\u001b[0m invalid syntax\n"
     ]
    }
   ],
   "source": [
    "Realizo segunda entrega, conseguimos un score del 0.71\n",
    "Tener todos los features basicos mejora el score, no por mucho igualmente\n",
    "Teniendo en cuenta una diferencia de 3 veces mas features, solo hubo un aumento del 0.06 en el F1 score"
   ]
  },
  {
   "cell_type": "code",
   "execution_count": null,
   "metadata": {},
   "outputs": [],
   "source": [
    "# "
   ]
  }
 ]
}