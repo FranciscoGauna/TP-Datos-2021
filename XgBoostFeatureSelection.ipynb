{
 "cells": [
  {
   "cell_type": "code",
   "execution_count": 56,
   "source": [
    "import pandas as pd\r\n",
    "pd.options.display.float_format = '{:20,.2f}'.format"
   ],
   "outputs": [],
   "metadata": {}
  },
  {
   "cell_type": "code",
   "execution_count": 57,
   "source": [
    "pd.options.display.max_seq_items = 2000"
   ],
   "outputs": [],
   "metadata": {}
  },
  {
   "cell_type": "code",
   "execution_count": 58,
   "source": [
    "from sklearn.feature_selection import SelectFromModel\r\n",
    "from xgboost.sklearn import XGBClassifier"
   ],
   "outputs": [],
   "metadata": {}
  },
  {
   "cell_type": "code",
   "execution_count": 59,
   "source": [
    "df_train_labels_original = pd.read_csv('train_labels.csv',low_memory=False,index_col='building_id')\r\n",
    "df_train_values_original = pd.read_csv('train_values.csv',low_memory=False, index_col='building_id', dtype= {\r\n",
    "'geo_level_1_id':'uint8', 'geo_level_2_id':'uint16', 'geo_level_3_id':'uint16', 'count_floors_pre_eq':'uint8','age':'uint16', 'area_percentage':'uint16', 'height_percentage':'uint16', \r\n",
    "'land_surface_condition':'category', 'foundation_type':'category', 'roof_type':'category', 'ground_floor_type':'category', 'other_floor_type':'category', 'position':'category','plan_configuration':'category', \r\n",
    "'has_superstructure_adobe_mud':'bool', 'has_superstructure_mud_mortar_stone':'bool','has_superstructure_stone_flag':'bool', 'has_superstructure_cement_mortar_stone':'bool', 'has_superstructure_mud_mortar_brick':'bool', 'has_superstructure_cement_mortar_brick':'bool', 'has_superstructure_timber':'bool', 'has_superstructure_bamboo':'bool', 'has_superstructure_rc_non_engineered':'bool', 'has_superstructure_rc_engineered':'bool', 'has_superstructure_other':'bool', \r\n",
    "'legal_ownership_status':'category', 'count_families':'uint16', \r\n",
    "'has_secondary_use':'bool', 'has_secondary_use_agriculture':'bool', 'has_secondary_use_hotel':'bool', 'has_secondary_use_rental':'bool', 'has_secondary_use_institution':'bool', 'has_secondary_use_school':'bool', 'has_secondary_use_industry':'bool', 'has_secondary_use_health_post':'bool', 'has_secondary_use_gov_office':'bool', 'has_secondary_use_use_police':'bool', 'has_secondary_use_other':'bool',})\r\n",
    "df_test_values_original = pd.read_csv('test_values.csv',low_memory=False, index_col='building_id', dtype= {\r\n",
    "'geo_level_1_id':'uint8', 'geo_level_2_id':'uint16', 'geo_level_3_id':'uint16', 'count_floors_pre_eq':'uint8','age':'uint16', 'area_percentage':'uint16', 'height_percentage':'uint16', \r\n",
    "'land_surface_condition':'category', 'foundation_type':'category', 'roof_type':'category', 'ground_floor_type':'category', 'other_floor_type':'category', 'position':'category','plan_configuration':'category', \r\n",
    "'has_superstructure_adobe_mud':'bool', 'has_superstructure_mud_mortar_stone':'bool','has_superstructure_stone_flag':'bool', 'has_superstructure_cement_mortar_stone':'bool', 'has_superstructure_mud_mortar_brick':'bool', 'has_superstructure_cement_mortar_brick':'bool', 'has_superstructure_timber':'bool', 'has_superstructure_bamboo':'bool', 'has_superstructure_rc_non_engineered':'bool', 'has_superstructure_rc_engineered':'bool', 'has_superstructure_other':'bool', \r\n",
    "'legal_ownership_status':'category', 'count_families':'uint16', \r\n",
    "'has_secondary_use':'bool', 'has_secondary_use_agriculture':'bool', 'has_secondary_use_hotel':'bool', 'has_secondary_use_rental':'bool', 'has_secondary_use_institution':'bool', 'has_secondary_use_school':'bool', 'has_secondary_use_industry':'bool', 'has_secondary_use_health_post':'bool', 'has_secondary_use_gov_office':'bool', 'has_secondary_use_use_police':'bool', 'has_secondary_use_other':'bool',})"
   ],
   "outputs": [],
   "metadata": {}
  },
  {
   "cell_type": "code",
   "execution_count": 60,
   "source": [
    "train_values_subset = pd.get_dummies(df_train_values_original)\r\n",
    "train_labels_subset = df_train_labels_original['damage_grade']\r\n",
    "\r\n",
    "validation_size = df_train_values_original.index.size - df_test_values_original.index.size"
   ],
   "outputs": [],
   "metadata": {}
  },
  {
   "cell_type": "code",
   "execution_count": 61,
   "source": [
    "geo1 = pd.get_dummies(train_values_subset[\"geo_level_1_id\"])\r\n",
    "geo1Names = {}\r\n",
    "for x in geo1.columns: geo1Names[x] = ('geo1_'+ str(x))\r\n",
    "geo1 = geo1.rename(geo1Names, axis=1)"
   ],
   "outputs": [],
   "metadata": {}
  },
  {
   "cell_type": "code",
   "execution_count": 62,
   "source": [
    "geo2 = pd.get_dummies(train_values_subset[\"geo_level_2_id\"])\r\n",
    "geo2Names = {}\r\n",
    "for x in geo2.columns: geo2Names[x] = ('geo2_'+ str(x))\r\n",
    "geo2 = geo2.rename(geo2Names, axis=1)"
   ],
   "outputs": [],
   "metadata": {}
  },
  {
   "cell_type": "code",
   "execution_count": 63,
   "source": [
    "train_values_subset = pd.concat([geo1], axis=1)"
   ],
   "outputs": [],
   "metadata": {}
  },
  {
   "cell_type": "code",
   "execution_count": 64,
   "source": [
    "train_values, validation_values = (train_values_subset.iloc[0:173733], train_values_subset.iloc[173733:-1])\r\n",
    "train_labels, validation_labels = (train_labels_subset.iloc[0:173733], train_labels_subset.iloc[173733:-1])"
   ],
   "outputs": [],
   "metadata": {}
  },
  {
   "cell_type": "code",
   "execution_count": 68,
   "source": [
    "sel = SelectFromModel(XGBClassifier(eta=0.4, n_estimators=400, subsample=1, \r\n",
    "                        reg_lambda=0.5, reg_alpha= 5, min_child_weight=3, max_depth=6, \r\n",
    "                        gamma=0.25, colsample_bytree=1, colsample_bylevel=1, colsample_bynode=0.5), max_features=20)\r\n",
    "sel.fit(train_values, train_labels)\r\n",
    "selected_feat= train_values_subset.columns[(sel.get_support())]\r\n",
    "selected_feat"
   ],
   "outputs": [
    {
     "output_type": "stream",
     "name": "stdout",
     "text": [
      "[00:04:19] WARNING: C:/Users/Administrator/workspace/xgboost-win64_release_1.4.0/src/learner.cc:1095: Starting in XGBoost 1.3.0, the default evaluation metric used with the objective 'multi:softprob' was changed from 'merror' to 'mlogloss'. Explicitly set eval_metric if you'd like to restore the old behavior.\n"
     ]
    },
    {
     "output_type": "execute_result",
     "data": {
      "text/plain": [
       "Index(['geo1_8', 'geo1_13', 'geo1_17', 'geo1_18', 'geo1_20', 'geo1_21', 'geo1_26', 'geo1_27'], dtype='object')"
      ]
     },
     "metadata": {},
     "execution_count": 68
    }
   ],
   "metadata": {}
  },
  {
   "cell_type": "code",
   "execution_count": 66,
   "source": [
    "sel = SelectFromModel(XGBClassifier(eta=0.4, n_estimators=400, subsample=1, \r\n",
    "                        reg_lambda=0.5, reg_alpha= 5, min_child_weight=3, max_depth=6, \r\n",
    "                        gamma=0.25, colsample_bytree=1, colsample_bylevel=1, colsample_bynode=0.5), max_features=10)\r\n",
    "sel.fit(train_values, train_labels)\r\n",
    "selected_feat= train_values_subset.columns[(sel.get_support())]\r\n",
    "selected_feat"
   ],
   "outputs": [
    {
     "output_type": "stream",
     "name": "stdout",
     "text": [
      "[23:59:58] WARNING: C:/Users/Administrator/workspace/xgboost-win64_release_1.4.0/src/learner.cc:1095: Starting in XGBoost 1.3.0, the default evaluation metric used with the objective 'multi:softprob' was changed from 'merror' to 'mlogloss'. Explicitly set eval_metric if you'd like to restore the old behavior.\n"
     ]
    },
    {
     "output_type": "execute_result",
     "data": {
      "text/plain": [
       "Index(['geo1_8', 'geo1_13', 'geo1_17', 'geo1_18', 'geo1_20', 'geo1_21', 'geo1_26', 'geo1_27'], dtype='object')"
      ]
     },
     "metadata": {},
     "execution_count": 66
    }
   ],
   "metadata": {}
  },
  {
   "cell_type": "code",
   "execution_count": 67,
   "source": [
    "sel = SelectFromModel(XGBClassifier(eta=0.4, n_estimators=400, subsample=1, \r\n",
    "                        reg_lambda=0.5, reg_alpha= 5, min_child_weight=3, max_depth=6, \r\n",
    "                        gamma=0.25, colsample_bytree=1, colsample_bylevel=1, colsample_bynode=0.5), max_features=15)\r\n",
    "sel.fit(train_values, train_labels)\r\n",
    "selected_feat= train_values_subset.columns[(sel.get_support())]\r\n",
    "selected_feat"
   ],
   "outputs": [
    {
     "output_type": "stream",
     "name": "stdout",
     "text": [
      "[00:00:15] WARNING: C:/Users/Administrator/workspace/xgboost-win64_release_1.4.0/src/learner.cc:1095: Starting in XGBoost 1.3.0, the default evaluation metric used with the objective 'multi:softprob' was changed from 'merror' to 'mlogloss'. Explicitly set eval_metric if you'd like to restore the old behavior.\n"
     ]
    },
    {
     "output_type": "execute_result",
     "data": {
      "text/plain": [
       "Index(['geo1_8', 'geo1_13', 'geo1_17', 'geo1_18', 'geo1_20', 'geo1_21', 'geo1_26', 'geo1_27'], dtype='object')"
      ]
     },
     "metadata": {},
     "execution_count": 67
    }
   ],
   "metadata": {}
  },
  {
   "cell_type": "code",
   "execution_count": 52,
   "source": [
    "sel = SelectFromModel(XGBClassifier(eta=0.4, n_estimators=400, subsample=1, \r\n",
    "                        reg_lambda=0.5, reg_alpha= 5, min_child_weight=3, max_depth=6, \r\n",
    "                        gamma=0.25, colsample_bytree=1, colsample_bylevel=1, colsample_bynode=0.5), max_features=5)\r\n",
    "sel.fit(train_values, train_labels)\r\n",
    "selected_feat= train_values_subset.columns[(sel.get_support())]\r\n",
    "selected_feat"
   ],
   "outputs": [
    {
     "output_type": "stream",
     "name": "stdout",
     "text": [
      "[23:15:33] WARNING: C:/Users/Administrator/workspace/xgboost-win64_release_1.4.0/src/learner.cc:1095: Starting in XGBoost 1.3.0, the default evaluation metric used with the objective 'multi:softprob' was changed from 'merror' to 'mlogloss'. Explicitly set eval_metric if you'd like to restore the old behavior.\n"
     ]
    },
    {
     "output_type": "execute_result",
     "data": {
      "text/plain": [
       "Index(['geo2_36', 'geo2_39', 'geo2_105', 'geo2_142', 'geo2_173', 'geo2_229', 'geo2_233', 'geo2_303', 'geo2_323', 'geo2_399', 'geo2_421', 'geo2_477', 'geo2_617', 'geo2_641', 'geo2_682', 'geo2_811', 'geo2_817', 'geo2_819', 'geo2_886', 'geo2_896', 'geo2_937', 'geo2_977', 'geo2_1001', 'geo2_1050', 'geo2_1074', 'geo2_1080', 'geo2_1149', 'geo2_1183', 'geo2_1253', 'geo2_1401'], dtype='object')"
      ]
     },
     "metadata": {},
     "execution_count": 52
    }
   ],
   "metadata": {}
  },
  {
   "cell_type": "code",
   "execution_count": 53,
   "source": [
    "sel = SelectFromModel(XGBClassifier(eta=0.4, n_estimators=400, subsample=1, \r\n",
    "                        reg_lambda=0.5, reg_alpha= 5, min_child_weight=3, max_depth=6, \r\n",
    "                        gamma=0.25, colsample_bytree=1, colsample_bylevel=1, colsample_bynode=0.5), max_features=5)\r\n",
    "sel.fit(train_values, train_labels)\r\n",
    "selected_feat= train_values_subset.columns[(sel.get_support())]\r\n",
    "selected_feat"
   ],
   "outputs": [
    {
     "output_type": "stream",
     "name": "stdout",
     "text": [
      "[23:22:26] WARNING: C:/Users/Administrator/workspace/xgboost-win64_release_1.4.0/src/learner.cc:1095: Starting in XGBoost 1.3.0, the default evaluation metric used with the objective 'multi:softprob' was changed from 'merror' to 'mlogloss'. Explicitly set eval_metric if you'd like to restore the old behavior.\n"
     ]
    },
    {
     "output_type": "execute_result",
     "data": {
      "text/plain": [
       "Index(['geo2_36', 'geo2_39', 'geo2_421', 'geo2_617', 'geo2_1149'], dtype='object')"
      ]
     },
     "metadata": {},
     "execution_count": 53
    }
   ],
   "metadata": {}
  },
  {
   "cell_type": "code",
   "execution_count": 54,
   "source": [
    "sel = SelectFromModel(XGBClassifier(eta=0.4, n_estimators=400, subsample=1, \r\n",
    "                        reg_lambda=0.5, reg_alpha= 5, min_child_weight=3, max_depth=6, \r\n",
    "                        gamma=0.25, colsample_bytree=1, colsample_bylevel=1, colsample_bynode=0.5), max_features=2)\r\n",
    "sel.fit(train_values, train_labels)\r\n",
    "selected_feat= train_values_subset.columns[(sel.get_support())]\r\n",
    "selected_feat"
   ],
   "outputs": [
    {
     "output_type": "stream",
     "name": "stdout",
     "text": [
      "[23:29:25] WARNING: C:/Users/Administrator/workspace/xgboost-win64_release_1.4.0/src/learner.cc:1095: Starting in XGBoost 1.3.0, the default evaluation metric used with the objective 'multi:softprob' was changed from 'merror' to 'mlogloss'. Explicitly set eval_metric if you'd like to restore the old behavior.\n"
     ]
    },
    {
     "output_type": "execute_result",
     "data": {
      "text/plain": [
       "Index(['geo2_39', 'geo2_421'], dtype='object')"
      ]
     },
     "metadata": {},
     "execution_count": 54
    }
   ],
   "metadata": {}
  },
  {
   "cell_type": "code",
   "execution_count": 37,
   "source": [
    "selected_feat"
   ],
   "outputs": [
    {
     "output_type": "execute_result",
     "data": {
      "text/plain": [
       "Index(['geo_level_1_id', 'has_superstructure_adobe_mud', 'has_superstructure_mud_mortar_stone', 'has_superstructure_stone_flag', 'has_superstructure_mud_mortar_brick', 'has_superstructure_cement_mortar_brick', 'foundation_type_h', 'foundation_type_i', 'foundation_type_r', 'foundation_type_w', 'roof_type_x', 'ground_floor_type_v', 'other_floor_type_q', 'other_floor_type_s', 'plan_configuration_u', 'geo1_1', 'geo1_3', 'geo1_4', 'geo1_5', 'geo1_6', 'geo1_8', 'geo1_10', 'geo1_11', 'geo1_13', 'geo1_17', 'geo1_18', 'geo1_20', 'geo1_21', 'geo1_24', 'geo1_26', 'geo1_27', 'geo2_10', 'geo2_14', 'geo2_21', 'geo2_29', 'geo2_30', 'geo2_38', 'geo2_41', 'geo2_46', 'geo2_48', 'geo2_49', 'geo2_76', 'geo2_87', 'geo2_88', 'geo2_91', 'geo2_95', 'geo2_104', 'geo2_105', 'geo2_107', 'geo2_127', 'geo2_138', 'geo2_142', 'geo2_155', 'geo2_165', 'geo2_173', 'geo2_181', 'geo2_199', 'geo2_225', 'geo2_239', 'geo2_257', 'geo2_258', 'geo2_260', 'geo2_269', 'geo2_275', 'geo2_276', 'geo2_282', 'geo2_310', 'geo2_323',\n",
       "       'geo2_363', 'geo2_395', 'geo2_414', 'geo2_417', 'geo2_438', 'geo2_459', 'geo2_469', 'geo2_477', 'geo2_480', 'geo2_487', 'geo2_488', 'geo2_499', 'geo2_508', 'geo2_512', 'geo2_521', 'geo2_557', 'geo2_562', 'geo2_574', 'geo2_575', 'geo2_613', 'geo2_617', 'geo2_641', 'geo2_645', 'geo2_658', 'geo2_673', 'geo2_690', 'geo2_720', 'geo2_727', 'geo2_728', 'geo2_729', 'geo2_730', 'geo2_747', 'geo2_760', 'geo2_761', 'geo2_773', 'geo2_803', 'geo2_818', 'geo2_819', 'geo2_838', 'geo2_839', 'geo2_869', 'geo2_892', 'geo2_896', 'geo2_930', 'geo2_937', 'geo2_946', 'geo2_953', 'geo2_992', 'geo2_1006', 'geo2_1009', 'geo2_1012', 'geo2_1015', 'geo2_1038', 'geo2_1055', 'geo2_1073', 'geo2_1074', 'geo2_1095', 'geo2_1127', 'geo2_1134', 'geo2_1137', 'geo2_1149', 'geo2_1155', 'geo2_1166', 'geo2_1181', 'geo2_1193', 'geo2_1219', 'geo2_1227', 'geo2_1228', 'geo2_1240', 'geo2_1251', 'geo2_1265', 'geo2_1277', 'geo2_1278', 'geo2_1287', 'geo2_1357', 'geo2_1365', 'geo2_1389', 'geo2_1398', 'geo2_1402', 'geo2_1411',\n",
       "       'geo2_1421', 'geo2_1425'],\n",
       "      dtype='object')"
      ]
     },
     "metadata": {},
     "execution_count": 37
    }
   ],
   "metadata": {}
  }
 ],
 "metadata": {
  "orig_nbformat": 4,
  "language_info": {
   "name": "python",
   "version": "3.7.4",
   "mimetype": "text/x-python",
   "codemirror_mode": {
    "name": "ipython",
    "version": 3
   },
   "pygments_lexer": "ipython3",
   "nbconvert_exporter": "python",
   "file_extension": ".py"
  },
  "kernelspec": {
   "name": "python3",
   "display_name": "Python 3.7.4 64-bit"
  },
  "interpreter": {
   "hash": "88ce181b8cd0eb812200b9b411a136cd9c7c972aa91497a27a228178326dd49d"
  }
 },
 "nbformat": 4,
 "nbformat_minor": 2
}