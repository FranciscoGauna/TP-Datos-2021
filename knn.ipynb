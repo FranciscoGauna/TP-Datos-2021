{
 "cells": [
  {
   "cell_type": "code",
   "execution_count": 3,
   "metadata": {},
   "outputs": [],
   "source": [
    "import matplotlib.pyplot as plt\n",
    "import pandas as pd\n",
    "import seaborn as sns\n",
    "from sklearn.neighbors import KNeighborsClassifier"
   ]
  },
  {
   "cell_type": "code",
   "execution_count": 4,
   "metadata": {},
   "outputs": [],
   "source": [
    "train_labels = pd.read_csv('train_labels.csv',low_memory=False, dtype= {\n",
    "    'damage_grade':'uint8'\n",
    "}).set_index('building_id')\n",
    "train_values = pd.read_csv('train_values.csv',low_memory=False, dtype= {\n",
    "    'geo_level_1_id':'category', \n",
    "    'geo_level_2_id':'category',\n",
    "    'geo_level_3_id':'category', \n",
    "    'count_floors_pre_eq':'uint8',\n",
    "    'age':'uint16',\n",
    "    'area_percentage':'uint16', \n",
    "    'height_percentage':'uint16', \n",
    "    'land_surface_condition':'category', \n",
    "    'foundation_type':'category',\n",
    "    'roof_type':'category',\n",
    "    'ground_floor_type':'category',\n",
    "    'other_floor_type':'category',\n",
    "    'position':'category',\n",
    "    'plan_configuration':'category', \n",
    "    'has_superstructure_adobe_mud':'uint8',\n",
    "    'has_superstructure_mud_mortar_stone':'uint8',\n",
    "    'has_superstructure_stone_flag':'uint8',\n",
    "    'has_superstructure_cement_mortar_stone':'uint8', \n",
    "    'has_superstructure_mud_mortar_brick':'uint8', \n",
    "    'has_superstructure_cement_mortar_brick':'uint8', \n",
    "    'has_superstructure_timber':'uint8', \n",
    "    'has_superstructure_bamboo':'uint8',\n",
    "    'has_superstructure_rc_non_engineered':'uint8',\n",
    "    'has_superstructure_rc_engineered':'uint8',\n",
    "    'has_superstructure_other':'uint8', \n",
    "    'legal_ownership_status':'category',\n",
    "    'count_families':'uint16', \n",
    "    'has_secondary_use':'uint8', \n",
    "    'has_secondary_use_agriculture':'uint8', \n",
    "    'has_secondary_use_hotel':'uint8',\n",
    "    'has_secondary_use_rental':'uint8',\n",
    "    'has_secondary_use_institution':'uint8',\n",
    "    'has_secondary_use_school':'uint8', \n",
    "    'has_secondary_use_industry':'uint8', \n",
    "    'has_secondary_use_health_post':'uint8', \n",
    "    'has_secondary_use_gov_office':'uint8', \n",
    "    'has_secondary_use_use_police':'uint8', \n",
    "    'has_secondary_use_other':'uint8',\n",
    "}).set_index('building_id')\n",
    "\n",
    "pd.options.display.float_format = '{:20,.2f}'.format"
   ]
  },
  {
   "cell_type": "code",
   "execution_count": 5,
   "metadata": {},
   "outputs": [
    {
     "data": {
      "text/html": [
       "<div>\n",
       "<style scoped>\n",
       "    .dataframe tbody tr th:only-of-type {\n",
       "        vertical-align: middle;\n",
       "    }\n",
       "\n",
       "    .dataframe tbody tr th {\n",
       "        vertical-align: top;\n",
       "    }\n",
       "\n",
       "    .dataframe thead th {\n",
       "        text-align: right;\n",
       "    }\n",
       "</style>\n",
       "<table border=\"1\" class=\"dataframe\">\n",
       "  <thead>\n",
       "    <tr style=\"text-align: right;\">\n",
       "      <th></th>\n",
       "      <th>geo_level_1_id</th>\n",
       "      <th>geo_level_2_id</th>\n",
       "      <th>geo_level_3_id</th>\n",
       "      <th>count_floors_pre_eq</th>\n",
       "      <th>age</th>\n",
       "      <th>area_percentage</th>\n",
       "      <th>height_percentage</th>\n",
       "      <th>land_surface_condition</th>\n",
       "      <th>foundation_type</th>\n",
       "      <th>roof_type</th>\n",
       "      <th>...</th>\n",
       "      <th>has_secondary_use_hotel</th>\n",
       "      <th>has_secondary_use_rental</th>\n",
       "      <th>has_secondary_use_institution</th>\n",
       "      <th>has_secondary_use_school</th>\n",
       "      <th>has_secondary_use_industry</th>\n",
       "      <th>has_secondary_use_health_post</th>\n",
       "      <th>has_secondary_use_gov_office</th>\n",
       "      <th>has_secondary_use_use_police</th>\n",
       "      <th>has_secondary_use_other</th>\n",
       "      <th>damage_grade</th>\n",
       "    </tr>\n",
       "    <tr>\n",
       "      <th>building_id</th>\n",
       "      <th></th>\n",
       "      <th></th>\n",
       "      <th></th>\n",
       "      <th></th>\n",
       "      <th></th>\n",
       "      <th></th>\n",
       "      <th></th>\n",
       "      <th></th>\n",
       "      <th></th>\n",
       "      <th></th>\n",
       "      <th></th>\n",
       "      <th></th>\n",
       "      <th></th>\n",
       "      <th></th>\n",
       "      <th></th>\n",
       "      <th></th>\n",
       "      <th></th>\n",
       "      <th></th>\n",
       "      <th></th>\n",
       "      <th></th>\n",
       "      <th></th>\n",
       "    </tr>\n",
       "  </thead>\n",
       "  <tbody>\n",
       "    <tr>\n",
       "      <th>802906</th>\n",
       "      <td>6</td>\n",
       "      <td>487</td>\n",
       "      <td>12198</td>\n",
       "      <td>2</td>\n",
       "      <td>30</td>\n",
       "      <td>6</td>\n",
       "      <td>5</td>\n",
       "      <td>t</td>\n",
       "      <td>r</td>\n",
       "      <td>n</td>\n",
       "      <td>...</td>\n",
       "      <td>0</td>\n",
       "      <td>0</td>\n",
       "      <td>0</td>\n",
       "      <td>0</td>\n",
       "      <td>0</td>\n",
       "      <td>0</td>\n",
       "      <td>0</td>\n",
       "      <td>0</td>\n",
       "      <td>0</td>\n",
       "      <td>3</td>\n",
       "    </tr>\n",
       "    <tr>\n",
       "      <th>28830</th>\n",
       "      <td>8</td>\n",
       "      <td>900</td>\n",
       "      <td>2812</td>\n",
       "      <td>2</td>\n",
       "      <td>10</td>\n",
       "      <td>8</td>\n",
       "      <td>7</td>\n",
       "      <td>o</td>\n",
       "      <td>r</td>\n",
       "      <td>n</td>\n",
       "      <td>...</td>\n",
       "      <td>0</td>\n",
       "      <td>0</td>\n",
       "      <td>0</td>\n",
       "      <td>0</td>\n",
       "      <td>0</td>\n",
       "      <td>0</td>\n",
       "      <td>0</td>\n",
       "      <td>0</td>\n",
       "      <td>0</td>\n",
       "      <td>2</td>\n",
       "    </tr>\n",
       "    <tr>\n",
       "      <th>94947</th>\n",
       "      <td>21</td>\n",
       "      <td>363</td>\n",
       "      <td>8973</td>\n",
       "      <td>2</td>\n",
       "      <td>10</td>\n",
       "      <td>5</td>\n",
       "      <td>5</td>\n",
       "      <td>t</td>\n",
       "      <td>r</td>\n",
       "      <td>n</td>\n",
       "      <td>...</td>\n",
       "      <td>0</td>\n",
       "      <td>0</td>\n",
       "      <td>0</td>\n",
       "      <td>0</td>\n",
       "      <td>0</td>\n",
       "      <td>0</td>\n",
       "      <td>0</td>\n",
       "      <td>0</td>\n",
       "      <td>0</td>\n",
       "      <td>3</td>\n",
       "    </tr>\n",
       "    <tr>\n",
       "      <th>590882</th>\n",
       "      <td>22</td>\n",
       "      <td>418</td>\n",
       "      <td>10694</td>\n",
       "      <td>2</td>\n",
       "      <td>10</td>\n",
       "      <td>6</td>\n",
       "      <td>5</td>\n",
       "      <td>t</td>\n",
       "      <td>r</td>\n",
       "      <td>n</td>\n",
       "      <td>...</td>\n",
       "      <td>0</td>\n",
       "      <td>0</td>\n",
       "      <td>0</td>\n",
       "      <td>0</td>\n",
       "      <td>0</td>\n",
       "      <td>0</td>\n",
       "      <td>0</td>\n",
       "      <td>0</td>\n",
       "      <td>0</td>\n",
       "      <td>2</td>\n",
       "    </tr>\n",
       "    <tr>\n",
       "      <th>201944</th>\n",
       "      <td>11</td>\n",
       "      <td>131</td>\n",
       "      <td>1488</td>\n",
       "      <td>3</td>\n",
       "      <td>30</td>\n",
       "      <td>8</td>\n",
       "      <td>9</td>\n",
       "      <td>t</td>\n",
       "      <td>r</td>\n",
       "      <td>n</td>\n",
       "      <td>...</td>\n",
       "      <td>0</td>\n",
       "      <td>0</td>\n",
       "      <td>0</td>\n",
       "      <td>0</td>\n",
       "      <td>0</td>\n",
       "      <td>0</td>\n",
       "      <td>0</td>\n",
       "      <td>0</td>\n",
       "      <td>0</td>\n",
       "      <td>3</td>\n",
       "    </tr>\n",
       "    <tr>\n",
       "      <th>...</th>\n",
       "      <td>...</td>\n",
       "      <td>...</td>\n",
       "      <td>...</td>\n",
       "      <td>...</td>\n",
       "      <td>...</td>\n",
       "      <td>...</td>\n",
       "      <td>...</td>\n",
       "      <td>...</td>\n",
       "      <td>...</td>\n",
       "      <td>...</td>\n",
       "      <td>...</td>\n",
       "      <td>...</td>\n",
       "      <td>...</td>\n",
       "      <td>...</td>\n",
       "      <td>...</td>\n",
       "      <td>...</td>\n",
       "      <td>...</td>\n",
       "      <td>...</td>\n",
       "      <td>...</td>\n",
       "      <td>...</td>\n",
       "      <td>...</td>\n",
       "    </tr>\n",
       "    <tr>\n",
       "      <th>688636</th>\n",
       "      <td>25</td>\n",
       "      <td>1335</td>\n",
       "      <td>1621</td>\n",
       "      <td>1</td>\n",
       "      <td>55</td>\n",
       "      <td>6</td>\n",
       "      <td>3</td>\n",
       "      <td>n</td>\n",
       "      <td>r</td>\n",
       "      <td>n</td>\n",
       "      <td>...</td>\n",
       "      <td>0</td>\n",
       "      <td>0</td>\n",
       "      <td>0</td>\n",
       "      <td>0</td>\n",
       "      <td>0</td>\n",
       "      <td>0</td>\n",
       "      <td>0</td>\n",
       "      <td>0</td>\n",
       "      <td>0</td>\n",
       "      <td>2</td>\n",
       "    </tr>\n",
       "    <tr>\n",
       "      <th>669485</th>\n",
       "      <td>17</td>\n",
       "      <td>715</td>\n",
       "      <td>2060</td>\n",
       "      <td>2</td>\n",
       "      <td>0</td>\n",
       "      <td>6</td>\n",
       "      <td>5</td>\n",
       "      <td>t</td>\n",
       "      <td>r</td>\n",
       "      <td>n</td>\n",
       "      <td>...</td>\n",
       "      <td>0</td>\n",
       "      <td>0</td>\n",
       "      <td>0</td>\n",
       "      <td>0</td>\n",
       "      <td>0</td>\n",
       "      <td>0</td>\n",
       "      <td>0</td>\n",
       "      <td>0</td>\n",
       "      <td>0</td>\n",
       "      <td>3</td>\n",
       "    </tr>\n",
       "    <tr>\n",
       "      <th>602512</th>\n",
       "      <td>17</td>\n",
       "      <td>51</td>\n",
       "      <td>8163</td>\n",
       "      <td>3</td>\n",
       "      <td>55</td>\n",
       "      <td>6</td>\n",
       "      <td>7</td>\n",
       "      <td>t</td>\n",
       "      <td>r</td>\n",
       "      <td>q</td>\n",
       "      <td>...</td>\n",
       "      <td>0</td>\n",
       "      <td>0</td>\n",
       "      <td>0</td>\n",
       "      <td>0</td>\n",
       "      <td>0</td>\n",
       "      <td>0</td>\n",
       "      <td>0</td>\n",
       "      <td>0</td>\n",
       "      <td>0</td>\n",
       "      <td>3</td>\n",
       "    </tr>\n",
       "    <tr>\n",
       "      <th>151409</th>\n",
       "      <td>26</td>\n",
       "      <td>39</td>\n",
       "      <td>1851</td>\n",
       "      <td>2</td>\n",
       "      <td>10</td>\n",
       "      <td>14</td>\n",
       "      <td>6</td>\n",
       "      <td>t</td>\n",
       "      <td>r</td>\n",
       "      <td>x</td>\n",
       "      <td>...</td>\n",
       "      <td>0</td>\n",
       "      <td>0</td>\n",
       "      <td>0</td>\n",
       "      <td>0</td>\n",
       "      <td>0</td>\n",
       "      <td>0</td>\n",
       "      <td>0</td>\n",
       "      <td>0</td>\n",
       "      <td>0</td>\n",
       "      <td>2</td>\n",
       "    </tr>\n",
       "    <tr>\n",
       "      <th>747594</th>\n",
       "      <td>21</td>\n",
       "      <td>9</td>\n",
       "      <td>9101</td>\n",
       "      <td>3</td>\n",
       "      <td>10</td>\n",
       "      <td>7</td>\n",
       "      <td>6</td>\n",
       "      <td>n</td>\n",
       "      <td>r</td>\n",
       "      <td>n</td>\n",
       "      <td>...</td>\n",
       "      <td>0</td>\n",
       "      <td>0</td>\n",
       "      <td>0</td>\n",
       "      <td>0</td>\n",
       "      <td>0</td>\n",
       "      <td>0</td>\n",
       "      <td>0</td>\n",
       "      <td>0</td>\n",
       "      <td>0</td>\n",
       "      <td>3</td>\n",
       "    </tr>\n",
       "  </tbody>\n",
       "</table>\n",
       "<p>260601 rows × 39 columns</p>\n",
       "</div>"
      ],
      "text/plain": [
       "            geo_level_1_id geo_level_2_id geo_level_3_id  count_floors_pre_eq  \\\n",
       "building_id                                                                     \n",
       "802906                   6            487          12198                    2   \n",
       "28830                    8            900           2812                    2   \n",
       "94947                   21            363           8973                    2   \n",
       "590882                  22            418          10694                    2   \n",
       "201944                  11            131           1488                    3   \n",
       "...                    ...            ...            ...                  ...   \n",
       "688636                  25           1335           1621                    1   \n",
       "669485                  17            715           2060                    2   \n",
       "602512                  17             51           8163                    3   \n",
       "151409                  26             39           1851                    2   \n",
       "747594                  21              9           9101                    3   \n",
       "\n",
       "             age  area_percentage  height_percentage land_surface_condition  \\\n",
       "building_id                                                                   \n",
       "802906        30                6                  5                      t   \n",
       "28830         10                8                  7                      o   \n",
       "94947         10                5                  5                      t   \n",
       "590882        10                6                  5                      t   \n",
       "201944        30                8                  9                      t   \n",
       "...          ...              ...                ...                    ...   \n",
       "688636        55                6                  3                      n   \n",
       "669485         0                6                  5                      t   \n",
       "602512        55                6                  7                      t   \n",
       "151409        10               14                  6                      t   \n",
       "747594        10                7                  6                      n   \n",
       "\n",
       "            foundation_type roof_type  ... has_secondary_use_hotel  \\\n",
       "building_id                            ...                           \n",
       "802906                    r         n  ...                       0   \n",
       "28830                     r         n  ...                       0   \n",
       "94947                     r         n  ...                       0   \n",
       "590882                    r         n  ...                       0   \n",
       "201944                    r         n  ...                       0   \n",
       "...                     ...       ...  ...                     ...   \n",
       "688636                    r         n  ...                       0   \n",
       "669485                    r         n  ...                       0   \n",
       "602512                    r         q  ...                       0   \n",
       "151409                    r         x  ...                       0   \n",
       "747594                    r         n  ...                       0   \n",
       "\n",
       "            has_secondary_use_rental has_secondary_use_institution  \\\n",
       "building_id                                                          \n",
       "802906                             0                             0   \n",
       "28830                              0                             0   \n",
       "94947                              0                             0   \n",
       "590882                             0                             0   \n",
       "201944                             0                             0   \n",
       "...                              ...                           ...   \n",
       "688636                             0                             0   \n",
       "669485                             0                             0   \n",
       "602512                             0                             0   \n",
       "151409                             0                             0   \n",
       "747594                             0                             0   \n",
       "\n",
       "            has_secondary_use_school  has_secondary_use_industry  \\\n",
       "building_id                                                        \n",
       "802906                             0                           0   \n",
       "28830                              0                           0   \n",
       "94947                              0                           0   \n",
       "590882                             0                           0   \n",
       "201944                             0                           0   \n",
       "...                              ...                         ...   \n",
       "688636                             0                           0   \n",
       "669485                             0                           0   \n",
       "602512                             0                           0   \n",
       "151409                             0                           0   \n",
       "747594                             0                           0   \n",
       "\n",
       "             has_secondary_use_health_post  has_secondary_use_gov_office  \\\n",
       "building_id                                                                \n",
       "802906                                   0                             0   \n",
       "28830                                    0                             0   \n",
       "94947                                    0                             0   \n",
       "590882                                   0                             0   \n",
       "201944                                   0                             0   \n",
       "...                                    ...                           ...   \n",
       "688636                                   0                             0   \n",
       "669485                                   0                             0   \n",
       "602512                                   0                             0   \n",
       "151409                                   0                             0   \n",
       "747594                                   0                             0   \n",
       "\n",
       "             has_secondary_use_use_police  has_secondary_use_other  \\\n",
       "building_id                                                          \n",
       "802906                                  0                        0   \n",
       "28830                                   0                        0   \n",
       "94947                                   0                        0   \n",
       "590882                                  0                        0   \n",
       "201944                                  0                        0   \n",
       "...                                   ...                      ...   \n",
       "688636                                  0                        0   \n",
       "669485                                  0                        0   \n",
       "602512                                  0                        0   \n",
       "151409                                  0                        0   \n",
       "747594                                  0                        0   \n",
       "\n",
       "             damage_grade  \n",
       "building_id                \n",
       "802906                  3  \n",
       "28830                   2  \n",
       "94947                   3  \n",
       "590882                  2  \n",
       "201944                  3  \n",
       "...                   ...  \n",
       "688636                  2  \n",
       "669485                  3  \n",
       "602512                  3  \n",
       "151409                  2  \n",
       "747594                  3  \n",
       "\n",
       "[260601 rows x 39 columns]"
      ]
     },
     "execution_count": 5,
     "metadata": {},
     "output_type": "execute_result"
    }
   ],
   "source": [
    "train = train_values.merge(train_labels, on='building_id')\n",
    "train"
   ]
  },
  {
   "cell_type": "code",
   "execution_count": 6,
   "metadata": {},
   "outputs": [],
   "source": [
    "train = train.drop('geo_level_1_id', axis=1)\n",
    "train = train.drop('geo_level_2_id', axis=1)\n",
    "train = train.drop('geo_level_3_id', axis=1)\n",
    "train = train.drop('land_surface_condition', axis=1)\n",
    "#train = train.drop('count_floors_pre_eq', axis=1)"
   ]
  },
  {
   "cell_type": "code",
   "execution_count": 7,
   "metadata": {},
   "outputs": [],
   "source": [
    "train = train.drop('roof_type', axis=1)\n",
    "train = train.drop('other_floor_type', axis=1)\n",
    "train = train.drop('position', axis=1)\n",
    "#train = train.drop('other_floor_type', axis=1)\n",
    "train = train.drop('plan_configuration', axis=1)\n",
    "train = train.drop('legal_ownership_status', axis=1)\n",
    "train = train.drop('ground_floor_type', axis=1)\n",
    "train = train.drop('foundation_type', axis=1)"
   ]
  },
  {
   "cell_type": "code",
   "execution_count": 8,
   "metadata": {},
   "outputs": [],
   "source": [
    "train_value = train['damage_grade']\n",
    "train_data = train.iloc[:, train.columns != 'damage_grade']"
   ]
  },
  {
   "cell_type": "code",
   "execution_count": 9,
   "metadata": {},
   "outputs": [],
   "source": [
    "from sklearn.model_selection import train_test_split\n",
    "X_train, X_validation, y_train, y_validation = train_test_split(train_data, train_value, train_size=0.7, random_state=1234)"
   ]
  },
  {
   "cell_type": "code",
   "execution_count": 26,
   "metadata": {},
   "outputs": [
    {
     "data": {
      "text/plain": [
       "KNeighborsClassifier(leaf_size=5, n_jobs=3, weights='distance')"
      ]
     },
     "execution_count": 26,
     "metadata": {},
     "output_type": "execute_result"
    }
   ],
   "source": [
    "knn = KNeighborsClassifier(n_neighbors=5,weights='distance',p=2,leaf_size=5,algorithm='auto',n_jobs=3)\n",
    "\n",
    "\n",
    "#knn = KNeighborsClassifier(leaf_size=10, n_jobs=3, n_neighbors=4, p=3, weights='distance')\n",
    "\n",
    "\n",
    "knn.fit(X_train, y_train)"
   ]
  },
  {
   "cell_type": "code",
   "execution_count": 27,
   "metadata": {},
   "outputs": [],
   "source": [
    "predic = knn.predict(X_train)\n",
    "#print(predic)\n",
    "\n",
    "damages = pd.Series(predic).rename(\"damage_grade\")\n",
    "\n",
    "ids = X_train.reset_index()['building_id']\n",
    "\n",
    "predict_train = pd.merge(ids, damages, left_index=True,right_index=True).set_index('building_id')\n",
    "pred_train2 = pd.Series(predict_train.damage_grade).rename(\"damage_grade\")\n",
    "\n",
    "#print('Accuracy training set: {:.2f}'\n",
    "     #.format(knn.score(pred_train2, y_train)))"
   ]
  },
  {
   "cell_type": "code",
   "execution_count": 28,
   "metadata": {},
   "outputs": [],
   "source": [
    "from sklearn.metrics import accuracy_score"
   ]
  },
  {
   "cell_type": "code",
   "execution_count": 29,
   "metadata": {},
   "outputs": [],
   "source": [
    "precision_test2 = accuracy_score(pred_train2, y_train)"
   ]
  },
  {
   "cell_type": "code",
   "execution_count": 30,
   "metadata": {},
   "outputs": [
    {
     "data": {
      "text/plain": [
       "0.6907850016445565"
      ]
     },
     "execution_count": 30,
     "metadata": {},
     "output_type": "execute_result"
    }
   ],
   "source": [
    "precision_test2"
   ]
  },
  {
   "cell_type": "code",
   "execution_count": 31,
   "metadata": {},
   "outputs": [],
   "source": [
    "predic = knn.predict(X_validation)\n",
    "\n",
    "damages = pd.Series(predic).rename(\"damage_grade\")\n",
    "\n",
    "ids = X_validation.reset_index()['building_id']\n",
    "\n",
    "predict_valid = pd.merge(ids, damages, left_index=True,right_index=True).set_index('building_id')\n",
    "pred_valid = pd.Series(predict_valid.damage_grade).rename(\"damage_grade\")"
   ]
  },
  {
   "cell_type": "code",
   "execution_count": 32,
   "metadata": {},
   "outputs": [],
   "source": [
    "precision_test2 = accuracy_score(pred_valid, y_validation)"
   ]
  },
  {
   "cell_type": "code",
   "execution_count": 33,
   "metadata": {},
   "outputs": [
    {
     "data": {
      "text/plain": [
       "0.5389544774305778"
      ]
     },
     "execution_count": 33,
     "metadata": {},
     "output_type": "execute_result"
    }
   ],
   "source": [
    "precision_test2"
   ]
  },
  {
   "cell_type": "code",
   "execution_count": 34,
   "metadata": {},
   "outputs": [
    {
     "data": {
      "text/plain": [
       "building_id\n",
       "17029     2\n",
       "638130    2\n",
       "123815    3\n",
       "104151    2\n",
       "188461    1\n",
       "         ..\n",
       "741937    2\n",
       "788898    2\n",
       "634397    3\n",
       "511475    2\n",
       "972228    3\n",
       "Name: damage_grade, Length: 78181, dtype: uint8"
      ]
     },
     "execution_count": 34,
     "metadata": {},
     "output_type": "execute_result"
    }
   ],
   "source": [
    "pred_valid"
   ]
  },
  {
   "cell_type": "code",
   "execution_count": null,
   "metadata": {},
   "outputs": [],
   "source": []
  },
  {
   "cell_type": "code",
   "execution_count": null,
   "metadata": {},
   "outputs": [],
   "source": []
  },
  {
   "cell_type": "code",
   "execution_count": 27,
   "metadata": {},
   "outputs": [],
   "source": [
    "params = {\n",
    "        'p': [1,2,3,4],\n",
    "        'n_neighbors': [1,2,3,4,5],\n",
    "        'leaf_size': [1,5,10,15,20]\n",
    "        }"
   ]
  },
  {
   "cell_type": "code",
   "execution_count": 28,
   "metadata": {},
   "outputs": [],
   "source": [
    "folds = 3\n",
    "param_comb = 10"
   ]
  },
  {
   "cell_type": "code",
   "execution_count": 30,
   "metadata": {},
   "outputs": [],
   "source": [
    "from sklearn.model_selection import StratifiedKFold\n",
    "skf = StratifiedKFold(n_splits=folds, shuffle = True, random_state = 1001)"
   ]
  },
  {
   "cell_type": "code",
   "execution_count": 33,
   "metadata": {},
   "outputs": [],
   "source": [
    "from sklearn.model_selection import RandomizedSearchCV, GridSearchCV\n",
    "random_search = RandomizedSearchCV(knn, param_distributions=params, \n",
    "        n_iter=param_comb, n_jobs=4, cv=skf.split(X_train,y_train), verbose=3, random_state=1001)"
   ]
  },
  {
   "cell_type": "code",
   "execution_count": 34,
   "metadata": {},
   "outputs": [
    {
     "name": "stdout",
     "output_type": "stream",
     "text": [
      "Fitting 3 folds for each of 10 candidates, totalling 30 fits\n"
     ]
    },
    {
     "name": "stderr",
     "output_type": "stream",
     "text": [
      "[Parallel(n_jobs=4)]: Using backend LokyBackend with 4 concurrent workers.\n",
      "[Parallel(n_jobs=4)]: Done  30 out of  30 | elapsed: 15.5min finished\n"
     ]
    },
    {
     "data": {
      "text/plain": [
       "RandomizedSearchCV(cv=<generator object _BaseKFold.split at 0x7f019fc159e0>,\n",
       "                   estimator=KNeighborsClassifier(leaf_size=5, n_jobs=3,\n",
       "                                                  weights='distance'),\n",
       "                   n_jobs=4,\n",
       "                   param_distributions={'leaf_size': [1, 5, 10, 15, 20],\n",
       "                                        'n_neighbors': [1, 2, 3, 4, 5],\n",
       "                                        'p': [1, 2, 3, 4]},\n",
       "                   random_state=1001, verbose=3)"
      ]
     },
     "execution_count": 34,
     "metadata": {},
     "output_type": "execute_result"
    }
   ],
   "source": [
    "random_search.fit(X_train, y_train)"
   ]
  },
  {
   "cell_type": "code",
   "execution_count": 35,
   "metadata": {},
   "outputs": [],
   "source": [
    "predic = random_search.predict_proba(X_validation)"
   ]
  },
  {
   "cell_type": "code",
   "execution_count": null,
   "metadata": {},
   "outputs": [],
   "source": [
    "print('Accuracy training set: {:.2f}'\n",
    "     .format(knn.score(X_train, y_train)))\n",
    "print('Accuracy validation set: {:.2f}'\n",
    "     .format(knn.score(predic, y_validation)))"
   ]
  },
  {
   "cell_type": "code",
   "execution_count": 36,
   "metadata": {},
   "outputs": [
    {
     "data": {
      "text/plain": [
       "array([[0.  , 0.75, 0.25],\n",
       "       [0.  , 1.  , 0.  ],\n",
       "       [0.  , 0.5 , 0.5 ],\n",
       "       ...,\n",
       "       [0.  , 0.5 , 0.5 ],\n",
       "       [0.  , 0.5 , 0.5 ],\n",
       "       [0.  , 0.25, 0.75]])"
      ]
     },
     "execution_count": 36,
     "metadata": {},
     "output_type": "execute_result"
    }
   ],
   "source": [
    "predic"
   ]
  },
  {
   "cell_type": "code",
   "execution_count": 37,
   "metadata": {},
   "outputs": [
    {
     "name": "stdout",
     "output_type": "stream",
     "text": [
      "KNeighborsClassifier(leaf_size=10, n_jobs=3, n_neighbors=4, p=3,\n",
      "                     weights='distance')\n"
     ]
    }
   ],
   "source": [
    "print(random_search.best_estimator_)"
   ]
  },
  {
   "cell_type": "code",
   "execution_count": null,
   "metadata": {},
   "outputs": [],
   "source": []
  },
  {
   "cell_type": "code",
   "execution_count": 35,
   "metadata": {},
   "outputs": [],
   "source": [
    "test = pd.read_csv('test_values.csv',low_memory=False, dtype= {\n",
    "    'geo_level_1_id':'category', \n",
    "    'geo_level_2_id':'category',\n",
    "    'geo_level_3_id':'category', \n",
    "    'count_floors_pre_eq':'uint8',\n",
    "    'age':'uint16',\n",
    "    'area_percentage':'uint16', \n",
    "    'height_percentage':'uint16', \n",
    "    'land_surface_condition':'category', \n",
    "    'foundation_type':'category',\n",
    "    'roof_type':'category',\n",
    "    'ground_floor_type':'category',\n",
    "    'other_floor_type':'category',\n",
    "    'position':'category',\n",
    "    'plan_configuration':'category', \n",
    "    'has_superstructure_adobe_mud':'uint8',\n",
    "    'has_superstructure_mud_mortar_stone':'uint8',\n",
    "    'has_superstructure_stone_flag':'uint8',\n",
    "    'has_superstructure_cement_mortar_stone':'uint8', \n",
    "    'has_superstructure_mud_mortar_brick':'uint8', \n",
    "    'has_superstructure_cement_mortar_brick':'uint8', \n",
    "    'has_superstructure_timber':'uint8', \n",
    "    'has_superstructure_bamboo':'uint8',\n",
    "    'has_superstructure_rc_non_engineered':'uint8',\n",
    "    'has_superstructure_rc_engineered':'uint8',\n",
    "    'has_superstructure_other':'uint8', \n",
    "    'legal_ownership_status':'category',\n",
    "    'count_families':'uint16', \n",
    "    'has_secondary_use':'uint8', \n",
    "    'has_secondary_use_agriculture':'uint8', \n",
    "    'has_secondary_use_hotel':'uint8',\n",
    "    'has_secondary_use_rental':'uint8',\n",
    "    'has_secondary_use_institution':'uint8',\n",
    "    'has_secondary_use_school':'uint8', \n",
    "    'has_secondary_use_industry':'uint8', \n",
    "    'has_secondary_use_health_post':'uint8', \n",
    "    'has_secondary_use_gov_office':'uint8', \n",
    "    'has_secondary_use_use_police':'uint8', \n",
    "    'has_secondary_use_other':'uint8',\n",
    "}).set_index('building_id')\n",
    "\n",
    "pd.options.display.float_format = '{:20,.2f}'.format"
   ]
  },
  {
   "cell_type": "code",
   "execution_count": 36,
   "metadata": {},
   "outputs": [],
   "source": [
    "test = test.drop('geo_level_1_id', axis=1)\n",
    "test = test.drop('geo_level_2_id', axis=1)\n",
    "test = test.drop('geo_level_3_id', axis=1)\n",
    "test = test.drop('land_surface_condition', axis=1)\n",
    "#test = test.drop('count_floors_pre_eq', axis=1)\n",
    "test = test.drop('roof_type', axis=1)\n",
    "test = test.drop('other_floor_type', axis=1)\n",
    "test = test.drop('position', axis=1)\n",
    "test = test.drop('plan_configuration', axis=1)\n",
    "test = test.drop('legal_ownership_status', axis=1)\n",
    "test = test.drop('ground_floor_type', axis=1)\n",
    "test = test.drop('foundation_type', axis=1)"
   ]
  },
  {
   "cell_type": "code",
   "execution_count": 37,
   "metadata": {},
   "outputs": [],
   "source": [
    "predic = knn.predict(test)\n",
    "\n",
    "damages = pd.Series(predic).rename(\"damage_grade\")\n",
    "\n",
    "ids = X_validation.reset_index()['building_id']\n",
    "\n",
    "predict_test = pd.merge(ids, damages, left_index=True,right_index=True).set_index('building_id')\n",
    "pred_valid = pd.Series(predict_test.damage_grade).rename(\"damage_grade\")"
   ]
  },
  {
   "cell_type": "code",
   "execution_count": 38,
   "metadata": {},
   "outputs": [
    {
     "data": {
      "text/plain": [
       "building_id\n",
       "17029     3\n",
       "638130    3\n",
       "123815    3\n",
       "104151    1\n",
       "188461    2\n",
       "         ..\n",
       "741937    3\n",
       "788898    3\n",
       "634397    2\n",
       "511475    3\n",
       "972228    2\n",
       "Name: damage_grade, Length: 78181, dtype: uint8"
      ]
     },
     "execution_count": 38,
     "metadata": {},
     "output_type": "execute_result"
    }
   ],
   "source": [
    "pred_valid"
   ]
  },
  {
   "cell_type": "code",
   "execution_count": 43,
   "metadata": {},
   "outputs": [
    {
     "data": {
      "text/plain": [
       "0         17029\n",
       "1        638130\n",
       "2        123815\n",
       "3        104151\n",
       "4        188461\n",
       "          ...  \n",
       "78176    741937\n",
       "78177    788898\n",
       "78178    634397\n",
       "78179    511475\n",
       "78180    972228\n",
       "Name: building_id, Length: 78181, dtype: int64"
      ]
     },
     "execution_count": 43,
     "metadata": {},
     "output_type": "execute_result"
    }
   ],
   "source": [
    "ids"
   ]
  },
  {
   "cell_type": "code",
   "execution_count": 44,
   "metadata": {},
   "outputs": [],
   "source": [
    "submit = pd.merge(ids, damages, left_index=True,right_index=True).set_index('building_id')"
   ]
  },
  {
   "cell_type": "code",
   "execution_count": 45,
   "metadata": {},
   "outputs": [
    {
     "data": {
      "text/html": [
       "<div>\n",
       "<style scoped>\n",
       "    .dataframe tbody tr th:only-of-type {\n",
       "        vertical-align: middle;\n",
       "    }\n",
       "\n",
       "    .dataframe tbody tr th {\n",
       "        vertical-align: top;\n",
       "    }\n",
       "\n",
       "    .dataframe thead th {\n",
       "        text-align: right;\n",
       "    }\n",
       "</style>\n",
       "<table border=\"1\" class=\"dataframe\">\n",
       "  <thead>\n",
       "    <tr style=\"text-align: right;\">\n",
       "      <th></th>\n",
       "      <th>damage_grade</th>\n",
       "    </tr>\n",
       "    <tr>\n",
       "      <th>building_id</th>\n",
       "      <th></th>\n",
       "    </tr>\n",
       "  </thead>\n",
       "  <tbody>\n",
       "    <tr>\n",
       "      <th>757764</th>\n",
       "      <td>2</td>\n",
       "    </tr>\n",
       "    <tr>\n",
       "      <th>139660</th>\n",
       "      <td>2</td>\n",
       "    </tr>\n",
       "    <tr>\n",
       "      <th>500834</th>\n",
       "      <td>2</td>\n",
       "    </tr>\n",
       "    <tr>\n",
       "      <th>50321</th>\n",
       "      <td>2</td>\n",
       "    </tr>\n",
       "    <tr>\n",
       "      <th>360305</th>\n",
       "      <td>3</td>\n",
       "    </tr>\n",
       "    <tr>\n",
       "      <th>...</th>\n",
       "      <td>...</td>\n",
       "    </tr>\n",
       "    <tr>\n",
       "      <th>53063</th>\n",
       "      <td>3</td>\n",
       "    </tr>\n",
       "    <tr>\n",
       "      <th>211506</th>\n",
       "      <td>2</td>\n",
       "    </tr>\n",
       "    <tr>\n",
       "      <th>47152</th>\n",
       "      <td>2</td>\n",
       "    </tr>\n",
       "    <tr>\n",
       "      <th>331461</th>\n",
       "      <td>3</td>\n",
       "    </tr>\n",
       "    <tr>\n",
       "      <th>559342</th>\n",
       "      <td>2</td>\n",
       "    </tr>\n",
       "  </tbody>\n",
       "</table>\n",
       "<p>6008 rows × 1 columns</p>\n",
       "</div>"
      ],
      "text/plain": [
       "             damage_grade\n",
       "building_id              \n",
       "757764                  2\n",
       "139660                  2\n",
       "500834                  2\n",
       "50321                   2\n",
       "360305                  3\n",
       "...                   ...\n",
       "53063                   3\n",
       "211506                  2\n",
       "47152                   2\n",
       "331461                  3\n",
       "559342                  2\n",
       "\n",
       "[6008 rows x 1 columns]"
      ]
     },
     "execution_count": 45,
     "metadata": {},
     "output_type": "execute_result"
    }
   ],
   "source": [
    "submit"
   ]
  },
  {
   "cell_type": "code",
   "execution_count": 46,
   "metadata": {},
   "outputs": [],
   "source": [
    "submit.to_csv('submit_knn_2.csv')"
   ]
  },
  {
   "cell_type": "code",
   "execution_count": null,
   "metadata": {},
   "outputs": [],
   "source": []
  }
 ],
 "metadata": {
  "kernelspec": {
   "display_name": "Python 3",
   "language": "python",
   "name": "python3"
  },
  "language_info": {
   "codemirror_mode": {
    "name": "ipython",
    "version": 3
   },
   "file_extension": ".py",
   "mimetype": "text/x-python",
   "name": "python",
   "nbconvert_exporter": "python",
   "pygments_lexer": "ipython3",
   "version": "3.8.3"
  }
 },
 "nbformat": 4,
 "nbformat_minor": 4
}
