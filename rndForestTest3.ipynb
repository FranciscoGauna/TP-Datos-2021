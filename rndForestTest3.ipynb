{
 "metadata": {
  "language_info": {
   "codemirror_mode": {
    "name": "ipython",
    "version": 3
   },
   "file_extension": ".py",
   "mimetype": "text/x-python",
   "name": "python",
   "nbconvert_exporter": "python",
   "pygments_lexer": "ipython3",
   "version": "3.7.4"
  },
  "orig_nbformat": 4,
  "kernelspec": {
   "name": "python3",
   "display_name": "Python 3.7.4 64-bit"
  },
  "interpreter": {
   "hash": "88ce181b8cd0eb812200b9b411a136cd9c7c972aa91497a27a228178326dd49d"
  }
 },
 "nbformat": 4,
 "nbformat_minor": 2,
 "cells": [
  {
   "cell_type": "code",
   "execution_count": 86,
   "metadata": {},
   "outputs": [],
   "source": [
    "import pandas as pd\n",
    "pd.options.display.float_format = '{:20,.2f}'.format\n",
    "import matplotlib.pyplot as plt\n",
    "import numpy as np\n",
    "import IPython"
   ]
  },
  {
   "cell_type": "code",
   "execution_count": 87,
   "metadata": {},
   "outputs": [],
   "source": [
    "# for preprocessing the data\n",
    "from sklearn.preprocessing import StandardScaler\n",
    "\n",
    "# the model\n",
    "from sklearn.ensemble import RandomForestClassifier\n",
    "\n",
    "# for combining the preprocess with model training\n",
    "from sklearn.pipeline import make_pipeline\n",
    "\n",
    "# for optimizing the hyperparameters of the pipeline\n",
    "from sklearn.model_selection import GridSearchCV\n",
    "\n",
    "from sklearn.metrics import f1_score\n",
    "\n",
    "from sklearn.tree import export_graphviz\n",
    "\n",
    "from sklearn.feature_selection import SelectFromModel"
   ]
  },
  {
   "cell_type": "code",
   "execution_count": 88,
   "metadata": {},
   "outputs": [],
   "source": [
    "from treeinterpreter import treeinterpreter as ti"
   ]
  },
  {
   "cell_type": "code",
   "execution_count": 89,
   "metadata": {},
   "outputs": [],
   "source": [
    "from fastai import *\n",
    "import graphviz\n",
    "import re"
   ]
  },
  {
   "cell_type": "code",
   "execution_count": 90,
   "metadata": {},
   "outputs": [],
   "source": [
    "df_train_labels_original = pd.read_csv('train_labels.csv',low_memory=False,index_col='building_id')\n",
    "df_train_values_original = pd.read_csv('train_values.csv',low_memory=False, index_col='building_id', dtype= {\n",
    "'geo_level_1_id':'uint8', 'geo_level_2_id':'uint16', 'geo_level_3_id':'uint16', 'count_floors_pre_eq':'uint8','age':'uint16', 'area_percentage':'uint16', 'height_percentage':'uint16', \n",
    "'land_surface_condition':'category', 'foundation_type':'category', 'roof_type':'category', 'ground_floor_type':'category', 'other_floor_type':'category', 'position':'category','plan_configuration':'category', \n",
    "'has_superstructure_adobe_mud':'bool', 'has_superstructure_mud_mortar_stone':'bool','has_superstructure_stone_flag':'bool', 'has_superstructure_cement_mortar_stone':'bool', 'has_superstructure_mud_mortar_brick':'bool', 'has_superstructure_cement_mortar_brick':'bool', 'has_superstructure_timber':'bool', 'has_superstructure_bamboo':'bool', 'has_superstructure_rc_non_engineered':'bool', 'has_superstructure_rc_engineered':'bool', 'has_superstructure_other':'bool', \n",
    "'legal_ownership_status':'category', 'count_families':'uint16', \n",
    "'has_secondary_use':'bool', 'has_secondary_use_agriculture':'bool', 'has_secondary_use_hotel':'bool', 'has_secondary_use_rental':'bool', 'has_secondary_use_institution':'bool', 'has_secondary_use_school':'bool', 'has_secondary_use_industry':'bool', 'has_secondary_use_health_post':'bool', 'has_secondary_use_gov_office':'bool', 'has_secondary_use_use_police':'bool', 'has_secondary_use_other':'bool',})\n",
    "df_test_values_original = pd.read_csv('test_values.csv',low_memory=False, index_col='building_id', dtype= {\n",
    "'geo_level_1_id':'uint8', 'geo_level_2_id':'uint16', 'geo_level_3_id':'uint16', 'count_floors_pre_eq':'uint8','age':'uint16', 'area_percentage':'uint16', 'height_percentage':'uint16', \n",
    "'land_surface_condition':'category', 'foundation_type':'category', 'roof_type':'category', 'ground_floor_type':'category', 'other_floor_type':'category', 'position':'category','plan_configuration':'category', \n",
    "'has_superstructure_adobe_mud':'bool', 'has_superstructure_mud_mortar_stone':'bool','has_superstructure_stone_flag':'bool', 'has_superstructure_cement_mortar_stone':'bool', 'has_superstructure_mud_mortar_brick':'bool', 'has_superstructure_cement_mortar_brick':'bool', 'has_superstructure_timber':'bool', 'has_superstructure_bamboo':'bool', 'has_superstructure_rc_non_engineered':'bool', 'has_superstructure_rc_engineered':'bool', 'has_superstructure_other':'bool', \n",
    "'legal_ownership_status':'category', 'count_families':'uint16', \n",
    "'has_secondary_use':'bool', 'has_secondary_use_agriculture':'bool', 'has_secondary_use_hotel':'bool', 'has_secondary_use_rental':'bool', 'has_secondary_use_institution':'bool', 'has_secondary_use_school':'bool', 'has_secondary_use_industry':'bool', 'has_secondary_use_health_post':'bool', 'has_secondary_use_gov_office':'bool', 'has_secondary_use_use_police':'bool', 'has_secondary_use_other':'bool',})"
   ]
  },
  {
   "cell_type": "code",
   "execution_count": 91,
   "metadata": {},
   "outputs": [],
   "source": [
    "train_values_subset = pd.get_dummies(df_train_values_original)\n",
    "train_labels_subset = df_train_labels_original['damage_grade']\n",
    "\n",
    "validation_size = df_train_values_original.index.size - df_test_values_original.index.size"
   ]
  },
  {
   "cell_type": "code",
   "execution_count": 92,
   "metadata": {},
   "outputs": [],
   "source": [
    "train_values, validation_values = (train_values_subset.iloc[0:173733], train_values_subset.iloc[173733:-1])\n",
    "train_labels, validation_labels = (train_labels_subset.iloc[0:173733], train_labels_subset.iloc[173733:-1])"
   ]
  },
  {
   "cell_type": "code",
   "execution_count": 61,
   "metadata": {},
   "outputs": [
    {
     "output_type": "execute_result",
     "data": {
      "text/plain": [
       "SelectFromModel(estimator=RandomForestClassifier())"
      ]
     },
     "metadata": {},
     "execution_count": 61
    }
   ],
   "source": [
    "sel = SelectFromModel(RandomForestClassifier(n_estimators = 100))\n",
    "sel.fit(train_values, train_labels)"
   ]
  },
  {
   "cell_type": "code",
   "execution_count": 62,
   "metadata": {},
   "outputs": [
    {
     "output_type": "execute_result",
     "data": {
      "text/plain": [
       "array([ True,  True,  True,  True,  True,  True,  True, False, False,\n",
       "       False, False, False, False, False, False, False, False, False,\n",
       "        True, False, False, False, False, False, False, False, False,\n",
       "       False, False, False, False, False, False, False, False,  True,\n",
       "       False, False, False, False, False, False, False, False, False,\n",
       "       False, False, False, False, False, False, False, False, False,\n",
       "       False, False, False, False, False, False, False, False, False,\n",
       "       False, False, False, False, False])"
      ]
     },
     "metadata": {},
     "execution_count": 62
    }
   ],
   "source": [
    "sel.get_support()"
   ]
  },
  {
   "cell_type": "code",
   "execution_count": 63,
   "metadata": {},
   "outputs": [
    {
     "output_type": "execute_result",
     "data": {
      "text/plain": [
       "Index(['geo_level_1_id', 'geo_level_2_id', 'geo_level_3_id',\n",
       "       'count_floors_pre_eq', 'age', 'area_percentage', 'height_percentage',\n",
       "       'count_families', 'foundation_type_r'],\n",
       "      dtype='object')"
      ]
     },
     "metadata": {},
     "execution_count": 63
    }
   ],
   "source": [
    "selected_feat= train_values.columns[(sel.get_support())]\n",
    "selected_feat"
   ]
  },
  {
   "cell_type": "code",
   "execution_count": 64,
   "metadata": {},
   "outputs": [],
   "source": [
    "rndfor = RandomForestClassifier(n_jobs=-1)"
   ]
  },
  {
   "cell_type": "code",
   "execution_count": 84,
   "metadata": {},
   "outputs": [
    {
     "output_type": "display_data",
     "data": {
      "text/plain": "<graphviz.files.Source at 0x1ea248e9d08>",
      "image/svg+xml": "<?xml version=\"1.0\" encoding=\"UTF-8\" standalone=\"no\"?>\r\n<!DOCTYPE svg PUBLIC \"-//W3C//DTD SVG 1.1//EN\"\r\n \"http://www.w3.org/Graphics/SVG/1.1/DTD/svg11.dtd\">\r\n<!-- Generated by graphviz version 2.38.0 (20140413.2041)\r\n -->\r\n<!-- Title: Tree Pages: 1 -->\r\n<svg width=\"720pt\" height=\"434pt\"\r\n viewBox=\"0.00 0.00 720.00 434.49\" xmlns=\"http://www.w3.org/2000/svg\" xmlns:xlink=\"http://www.w3.org/1999/xlink\">\r\n<g id=\"graph0\" class=\"graph\" transform=\"scale(0.778659 0.778659) rotate(0) translate(4 554)\">\r\n<title>Tree</title>\r\n<polygon fill=\"white\" stroke=\"none\" points=\"-4,4 -4,-554 920.667,-554 920.667,4 -4,4\"/>\r\n<!-- 0 -->\r\n<g id=\"node1\" class=\"node\"><title>0</title>\r\n<polygon fill=\"#b9f6d3\" stroke=\"black\" points=\"195.667,-308.5 9.66667,-308.5 9.66667,-240.5 195.667,-240.5 195.667,-308.5\"/>\r\n<text text-anchor=\"start\" x=\"34.6667\" y=\"-293.3\" font-family=\"Times New Roman,serif\" font-size=\"14.00\">foundation_type_r ≤ 0.5</text>\r\n<text text-anchor=\"start\" x=\"69.1667\" y=\"-278.3\" font-family=\"Times New Roman,serif\" font-size=\"14.00\">gini = 0.555</text>\r\n<text text-anchor=\"start\" x=\"51.6667\" y=\"-263.3\" font-family=\"Times New Roman,serif\" font-size=\"14.00\">samples = 173733</text>\r\n<text text-anchor=\"start\" x=\"17.6667\" y=\"-248.3\" font-family=\"Times New Roman,serif\" font-size=\"14.00\">value = [16769, 98836, 58128]</text>\r\n</g>\r\n<!-- 1 -->\r\n<g id=\"node2\" class=\"node\"><title>1</title>\r\n<polygon fill=\"#c2f7d8\" stroke=\"black\" points=\"430.167,-361.5 257.167,-361.5 257.167,-293.5 430.167,-293.5 430.167,-361.5\"/>\r\n<text text-anchor=\"start\" x=\"276.167\" y=\"-346.3\" font-family=\"Times New Roman,serif\" font-size=\"14.00\">foundation_type_i ≤ 0.5</text>\r\n<text text-anchor=\"start\" x=\"310.167\" y=\"-331.3\" font-family=\"Times New Roman,serif\" font-size=\"14.00\">gini = 0.566</text>\r\n<text text-anchor=\"start\" x=\"296.167\" y=\"-316.3\" font-family=\"Times New Roman,serif\" font-size=\"14.00\">samples = 27575</text>\r\n<text text-anchor=\"start\" x=\"265.167\" y=\"-301.3\" font-family=\"Times New Roman,serif\" font-size=\"14.00\">value = [9625, 15139, 2811]</text>\r\n</g>\r\n<!-- 0&#45;&gt;1 -->\r\n<g id=\"edge1\" class=\"edge\"><title>0&#45;&gt;1</title>\r\n<path fill=\"none\" stroke=\"black\" d=\"M195.728,-294.915C212.547,-298.645 230.132,-302.545 247.051,-306.297\"/>\r\n<polygon fill=\"black\" stroke=\"black\" points=\"246.404,-309.738 256.925,-308.486 247.92,-302.904 246.404,-309.738\"/>\r\n<text text-anchor=\"middle\" x=\"235.839\" y=\"-318.217\" font-family=\"Times New Roman,serif\" font-size=\"14.00\">True</text>\r\n</g>\r\n<!-- 8 -->\r\n<g id=\"node9\" class=\"node\"><title>8</title>\r\n<polygon fill=\"#c1f7d8\" stroke=\"black\" points=\"433.167,-255.5 254.167,-255.5 254.167,-187.5 433.167,-187.5 433.167,-255.5\"/>\r\n<text text-anchor=\"start\" x=\"284.667\" y=\"-240.3\" font-family=\"Times New Roman,serif\" font-size=\"14.00\">geo_level_1_id ≤ 6.5</text>\r\n<text text-anchor=\"start\" x=\"310.167\" y=\"-225.3\" font-family=\"Times New Roman,serif\" font-size=\"14.00\">gini = 0.526</text>\r\n<text text-anchor=\"start\" x=\"292.667\" y=\"-210.3\" font-family=\"Times New Roman,serif\" font-size=\"14.00\">samples = 146158</text>\r\n<text text-anchor=\"start\" x=\"262.167\" y=\"-195.3\" font-family=\"Times New Roman,serif\" font-size=\"14.00\">value = [7144, 83697, 55317]</text>\r\n</g>\r\n<!-- 0&#45;&gt;8 -->\r\n<g id=\"edge8\" class=\"edge\"><title>0&#45;&gt;8</title>\r\n<path fill=\"none\" stroke=\"black\" d=\"M195.728,-254.085C211.519,-250.583 227.984,-246.932 243.94,-243.393\"/>\r\n<polygon fill=\"black\" stroke=\"black\" points=\"244.794,-246.789 253.799,-241.207 243.278,-239.955 244.794,-246.789\"/>\r\n<text text-anchor=\"middle\" x=\"232.713\" y=\"-224.076\" font-family=\"Times New Roman,serif\" font-size=\"14.00\">False</text>\r\n</g>\r\n<!-- 2 -->\r\n<g id=\"node3\" class=\"node\"><title>2</title>\r\n<polygon fill=\"#a7f3c7\" stroke=\"black\" points=\"667.167,-486.5 494.167,-486.5 494.167,-418.5 667.167,-418.5 667.167,-486.5\"/>\r\n<text text-anchor=\"start\" x=\"509.667\" y=\"-471.3\" font-family=\"Times New Roman,serif\" font-size=\"14.00\">other_floor_type_q ≤ 0.5</text>\r\n<text text-anchor=\"start\" x=\"547.167\" y=\"-456.3\" font-family=\"Times New Roman,serif\" font-size=\"14.00\">gini = 0.552</text>\r\n<text text-anchor=\"start\" x=\"533.167\" y=\"-441.3\" font-family=\"Times New Roman,serif\" font-size=\"14.00\">samples = 20549</text>\r\n<text text-anchor=\"start\" x=\"502.167\" y=\"-426.3\" font-family=\"Times New Roman,serif\" font-size=\"14.00\">value = [5632, 12254, 2663]</text>\r\n</g>\r\n<!-- 1&#45;&gt;2 -->\r\n<g id=\"edge2\" class=\"edge\"><title>1&#45;&gt;2</title>\r\n<path fill=\"none\" stroke=\"black\" d=\"M408.881,-361.657C439.061,-377.71 475.191,-396.928 506.431,-413.545\"/>\r\n<polygon fill=\"black\" stroke=\"black\" points=\"505.057,-416.778 515.53,-418.384 508.344,-410.598 505.057,-416.778\"/>\r\n</g>\r\n<!-- 5 -->\r\n<g id=\"node6\" class=\"node\"><title>5</title>\r\n<polygon fill=\"#f8ddca\" stroke=\"black\" points=\"660.167,-361.5 501.167,-361.5 501.167,-293.5 660.167,-293.5 660.167,-361.5\"/>\r\n<text text-anchor=\"start\" x=\"521.667\" y=\"-346.3\" font-family=\"Times New Roman,serif\" font-size=\"14.00\">geo_level_1_id ≤ 6.5</text>\r\n<text text-anchor=\"start\" x=\"547.167\" y=\"-331.3\" font-family=\"Times New Roman,serif\" font-size=\"14.00\">gini = 0.508</text>\r\n<text text-anchor=\"start\" x=\"536.667\" y=\"-316.3\" font-family=\"Times New Roman,serif\" font-size=\"14.00\">samples = 7026</text>\r\n<text text-anchor=\"start\" x=\"509.167\" y=\"-301.3\" font-family=\"Times New Roman,serif\" font-size=\"14.00\">value = [3993, 2885, 148]</text>\r\n</g>\r\n<!-- 1&#45;&gt;5 -->\r\n<g id=\"edge5\" class=\"edge\"><title>1&#45;&gt;5</title>\r\n<path fill=\"none\" stroke=\"black\" d=\"M430.172,-327.5C449.841,-327.5 470.804,-327.5 490.619,-327.5\"/>\r\n<polygon fill=\"black\" stroke=\"black\" points=\"490.864,-331 500.864,-327.5 490.864,-324 490.864,-331\"/>\r\n</g>\r\n<!-- 3 -->\r\n<g id=\"node4\" class=\"node\"><title>3</title>\r\n<polygon fill=\"#c4f7d9\" stroke=\"black\" points=\"900.667,-550 734.667,-550 734.667,-497 900.667,-497 900.667,-550\"/>\r\n<text text-anchor=\"start\" x=\"784.167\" y=\"-534.8\" font-family=\"Times New Roman,serif\" font-size=\"14.00\">gini = 0.572</text>\r\n<text text-anchor=\"start\" x=\"770.167\" y=\"-519.8\" font-family=\"Times New Roman,serif\" font-size=\"14.00\">samples = 13042</text>\r\n<text text-anchor=\"start\" x=\"742.667\" y=\"-504.8\" font-family=\"Times New Roman,serif\" font-size=\"14.00\">value = [4530, 7083, 1429]</text>\r\n</g>\r\n<!-- 2&#45;&gt;3 -->\r\n<g id=\"edge3\" class=\"edge\"><title>2&#45;&gt;3</title>\r\n<path fill=\"none\" stroke=\"black\" d=\"M667.172,-478.333C685.835,-483.972 705.664,-489.963 724.571,-495.675\"/>\r\n<polygon fill=\"black\" stroke=\"black\" points=\"723.778,-499.092 734.363,-498.634 725.803,-492.391 723.778,-499.092\"/>\r\n</g>\r\n<!-- 4 -->\r\n<g id=\"node5\" class=\"node\"><title>4</title>\r\n<polygon fill=\"#83efb0\" stroke=\"black\" points=\"900.667,-479 734.667,-479 734.667,-426 900.667,-426 900.667,-479\"/>\r\n<text text-anchor=\"start\" x=\"784.167\" y=\"-463.8\" font-family=\"Times New Roman,serif\" font-size=\"14.00\">gini = 0.477</text>\r\n<text text-anchor=\"start\" x=\"773.667\" y=\"-448.8\" font-family=\"Times New Roman,serif\" font-size=\"14.00\">samples = 7507</text>\r\n<text text-anchor=\"start\" x=\"742.667\" y=\"-433.8\" font-family=\"Times New Roman,serif\" font-size=\"14.00\">value = [1102, 5171, 1234]</text>\r\n</g>\r\n<!-- 2&#45;&gt;4 -->\r\n<g id=\"edge4\" class=\"edge\"><title>2&#45;&gt;4</title>\r\n<path fill=\"none\" stroke=\"black\" d=\"M667.172,-452.5C685.749,-452.5 705.482,-452.5 724.311,-452.5\"/>\r\n<polygon fill=\"black\" stroke=\"black\" points=\"724.363,-456 734.363,-452.5 724.363,-449 724.363,-456\"/>\r\n</g>\r\n<!-- 6 -->\r\n<g id=\"node7\" class=\"node\"><title>6</title>\r\n<polygon fill=\"#f0b58a\" stroke=\"black\" points=\"890.667,-408 744.667,-408 744.667,-355 890.667,-355 890.667,-408\"/>\r\n<text text-anchor=\"start\" x=\"784.167\" y=\"-392.8\" font-family=\"Times New Roman,serif\" font-size=\"14.00\">gini = 0.418</text>\r\n<text text-anchor=\"start\" x=\"773.667\" y=\"-377.8\" font-family=\"Times New Roman,serif\" font-size=\"14.00\">samples = 1491</text>\r\n<text text-anchor=\"start\" x=\"752.667\" y=\"-362.8\" font-family=\"Times New Roman,serif\" font-size=\"14.00\">value = [1055, 425, 11]</text>\r\n</g>\r\n<!-- 5&#45;&gt;6 -->\r\n<g id=\"edge6\" class=\"edge\"><title>5&#45;&gt;6</title>\r\n<path fill=\"none\" stroke=\"black\" d=\"M660.245,-345.556C684.169,-351.054 710.519,-357.109 734.663,-362.657\"/>\r\n<polygon fill=\"black\" stroke=\"black\" points=\"733.974,-366.09 744.504,-364.918 735.542,-359.267 733.974,-366.09\"/>\r\n</g>\r\n<!-- 7 -->\r\n<g id=\"node8\" class=\"node\"><title>7</title>\r\n<polygon fill=\"#fbebe0\" stroke=\"black\" points=\"897.167,-337 738.167,-337 738.167,-284 897.167,-284 897.167,-337\"/>\r\n<text text-anchor=\"start\" x=\"787.667\" y=\"-321.8\" font-family=\"Times New Roman,serif\" font-size=\"14.00\">gini = 0.52</text>\r\n<text text-anchor=\"start\" x=\"773.667\" y=\"-306.8\" font-family=\"Times New Roman,serif\" font-size=\"14.00\">samples = 5535</text>\r\n<text text-anchor=\"start\" x=\"746.167\" y=\"-291.8\" font-family=\"Times New Roman,serif\" font-size=\"14.00\">value = [2938, 2460, 137]</text>\r\n</g>\r\n<!-- 5&#45;&gt;7 -->\r\n<g id=\"edge7\" class=\"edge\"><title>5&#45;&gt;7</title>\r\n<path fill=\"none\" stroke=\"black\" d=\"M660.245,-321.816C681.998,-320.242 705.758,-318.523 728.041,-316.911\"/>\r\n<polygon fill=\"black\" stroke=\"black\" points=\"728.441,-320.392 738.162,-316.179 727.936,-313.41 728.441,-320.392\"/>\r\n</g>\r\n<!-- 9 -->\r\n<g id=\"node10\" class=\"node\"><title>9</title>\r\n<polygon fill=\"#83efb0\" stroke=\"black\" points=\"667.167,-255.5 494.167,-255.5 494.167,-187.5 667.167,-187.5 667.167,-255.5\"/>\r\n<text text-anchor=\"start\" x=\"511.667\" y=\"-240.3\" font-family=\"Times New Roman,serif\" font-size=\"14.00\">geo_level_2_id ≤ 1004.0</text>\r\n<text text-anchor=\"start\" x=\"547.167\" y=\"-225.3\" font-family=\"Times New Roman,serif\" font-size=\"14.00\">gini = 0.424</text>\r\n<text text-anchor=\"start\" x=\"533.167\" y=\"-210.3\" font-family=\"Times New Roman,serif\" font-size=\"14.00\">samples = 34290</text>\r\n<text text-anchor=\"start\" x=\"502.167\" y=\"-195.3\" font-family=\"Times New Roman,serif\" font-size=\"14.00\">value = [1252, 24595, 8443]</text>\r\n</g>\r\n<!-- 8&#45;&gt;9 -->\r\n<g id=\"edge9\" class=\"edge\"><title>8&#45;&gt;9</title>\r\n<path fill=\"none\" stroke=\"black\" d=\"M433.175,-221.5C449.66,-221.5 466.958,-221.5 483.655,-221.5\"/>\r\n<polygon fill=\"black\" stroke=\"black\" points=\"483.962,-225 493.962,-221.5 483.962,-218 483.962,-225\"/>\r\n</g>\r\n<!-- 12 -->\r\n<g id=\"node13\" class=\"node\"><title>12</title>\r\n<polygon fill=\"#dafae7\" stroke=\"black\" points=\"670.167,-131.5 491.167,-131.5 491.167,-63.5 670.167,-63.5 670.167,-131.5\"/>\r\n<text text-anchor=\"start\" x=\"505.167\" y=\"-116.3\" font-family=\"Times New Roman,serif\" font-size=\"14.00\">count_floors_pre_eq ≤ 2.5</text>\r\n<text text-anchor=\"start\" x=\"547.167\" y=\"-101.3\" font-family=\"Times New Roman,serif\" font-size=\"14.00\">gini = 0.543</text>\r\n<text text-anchor=\"start\" x=\"529.667\" y=\"-86.3\" font-family=\"Times New Roman,serif\" font-size=\"14.00\">samples = 111868</text>\r\n<text text-anchor=\"start\" x=\"499.167\" y=\"-71.3\" font-family=\"Times New Roman,serif\" font-size=\"14.00\">value = [5892, 59102, 46874]</text>\r\n</g>\r\n<!-- 8&#45;&gt;12 -->\r\n<g id=\"edge12\" class=\"edge\"><title>8&#45;&gt;12</title>\r\n<path fill=\"none\" stroke=\"black\" d=\"M409.192,-187.452C439.12,-171.661 474.848,-152.809 505.846,-136.452\"/>\r\n<polygon fill=\"black\" stroke=\"black\" points=\"507.666,-139.449 514.877,-131.687 504.4,-133.258 507.666,-139.449\"/>\r\n</g>\r\n<!-- 10 -->\r\n<g id=\"node11\" class=\"node\"><title>10</title>\r\n<polygon fill=\"#7beeab\" stroke=\"black\" points=\"900.667,-266 734.667,-266 734.667,-213 900.667,-213 900.667,-266\"/>\r\n<text text-anchor=\"start\" x=\"791.167\" y=\"-250.8\" font-family=\"Times New Roman,serif\" font-size=\"14.00\">gini = 0.4</text>\r\n<text text-anchor=\"start\" x=\"770.167\" y=\"-235.8\" font-family=\"Times New Roman,serif\" font-size=\"14.00\">samples = 23265</text>\r\n<text text-anchor=\"start\" x=\"742.667\" y=\"-220.8\" font-family=\"Times New Roman,serif\" font-size=\"14.00\">value = [898, 17254, 5113]</text>\r\n</g>\r\n<!-- 9&#45;&gt;10 -->\r\n<g id=\"edge10\" class=\"edge\"><title>9&#45;&gt;10</title>\r\n<path fill=\"none\" stroke=\"black\" d=\"M667.172,-228.049C685.749,-229.472 705.482,-230.984 724.311,-232.426\"/>\r\n<polygon fill=\"black\" stroke=\"black\" points=\"724.125,-235.922 734.363,-233.196 724.659,-228.942 724.125,-235.922\"/>\r\n</g>\r\n<!-- 11 -->\r\n<g id=\"node12\" class=\"node\"><title>11</title>\r\n<polygon fill=\"#98f1bd\" stroke=\"black\" points=\"897.167,-195 738.167,-195 738.167,-142 897.167,-142 897.167,-195\"/>\r\n<text text-anchor=\"start\" x=\"784.167\" y=\"-179.8\" font-family=\"Times New Roman,serif\" font-size=\"14.00\">gini = 0.464</text>\r\n<text text-anchor=\"start\" x=\"770.167\" y=\"-164.8\" font-family=\"Times New Roman,serif\" font-size=\"14.00\">samples = 11025</text>\r\n<text text-anchor=\"start\" x=\"746.167\" y=\"-149.8\" font-family=\"Times New Roman,serif\" font-size=\"14.00\">value = [354, 7341, 3330]</text>\r\n</g>\r\n<!-- 9&#45;&gt;11 -->\r\n<g id=\"edge11\" class=\"edge\"><title>9&#45;&gt;11</title>\r\n<path fill=\"none\" stroke=\"black\" d=\"M667.172,-202.216C686.931,-197.76 707.997,-193.009 727.892,-188.522\"/>\r\n<polygon fill=\"black\" stroke=\"black\" points=\"728.879,-191.887 737.864,-186.273 727.339,-185.059 728.879,-191.887\"/>\r\n</g>\r\n<!-- 13 -->\r\n<g id=\"node14\" class=\"node\"><title>13</title>\r\n<polygon fill=\"#caf8dd\" stroke=\"black\" points=\"907.167,-124 728.167,-124 728.167,-71 907.167,-71 907.167,-124\"/>\r\n<text text-anchor=\"start\" x=\"784.167\" y=\"-108.8\" font-family=\"Times New Roman,serif\" font-size=\"14.00\">gini = 0.546</text>\r\n<text text-anchor=\"start\" x=\"770.167\" y=\"-93.8\" font-family=\"Times New Roman,serif\" font-size=\"14.00\">samples = 83676</text>\r\n<text text-anchor=\"start\" x=\"736.167\" y=\"-78.8\" font-family=\"Times New Roman,serif\" font-size=\"14.00\">value = [5498, 45946, 32232]</text>\r\n</g>\r\n<!-- 12&#45;&gt;13 -->\r\n<g id=\"edge13\" class=\"edge\"><title>12&#45;&gt;13</title>\r\n<path fill=\"none\" stroke=\"black\" d=\"M670.175,-97.5C685.651,-97.5 701.842,-97.5 717.582,-97.5\"/>\r\n<polygon fill=\"black\" stroke=\"black\" points=\"717.847,-101 727.847,-97.5 717.847,-94.0001 717.847,-101\"/>\r\n</g>\r\n<!-- 14 -->\r\n<g id=\"node15\" class=\"node\"><title>14</title>\r\n<polygon fill=\"#f3ebfc\" stroke=\"black\" points=\"904.167,-53 731.167,-53 731.167,-0 904.167,-0 904.167,-53\"/>\r\n<text text-anchor=\"start\" x=\"784.167\" y=\"-37.8\" font-family=\"Times New Roman,serif\" font-size=\"14.00\">gini = 0.512</text>\r\n<text text-anchor=\"start\" x=\"770.167\" y=\"-22.8\" font-family=\"Times New Roman,serif\" font-size=\"14.00\">samples = 28192</text>\r\n<text text-anchor=\"start\" x=\"739.167\" y=\"-7.8\" font-family=\"Times New Roman,serif\" font-size=\"14.00\">value = [394, 13156, 14642]</text>\r\n</g>\r\n<!-- 12&#45;&gt;14 -->\r\n<g id=\"edge14\" class=\"edge\"><title>12&#45;&gt;14</title>\r\n<path fill=\"none\" stroke=\"black\" d=\"M670.175,-70.7591C686.816,-65.7315 704.284,-60.4539 721.128,-55.3649\"/>\r\n<polygon fill=\"black\" stroke=\"black\" points=\"722.402,-58.6364 730.962,-52.3937 720.377,-51.9356 722.402,-58.6364\"/>\r\n</g>\r\n</g>\r\n</svg>\r\n"
     },
     "metadata": {}
    }
   ],
   "source": [
    "m = RandomForestClassifier(n_estimators=40, min_samples_leaf=25, max_features=0.5, \n",
    "                        max_depth=3, bootstrap=False, n_jobs=-1)\n",
    "m.fit(train_values, train_labels)\n",
    "\n",
    "draw_tree(m.estimators_[0], train_values, precision=3)"
   ]
  },
  {
   "cell_type": "code",
   "execution_count": 81,
   "metadata": {},
   "outputs": [
    {
     "output_type": "display_data",
     "data": {
      "text/plain": "<graphviz.files.Source at 0x1ea40226848>",
      "image/svg+xml": "<?xml version=\"1.0\" encoding=\"UTF-8\" standalone=\"no\"?>\r\n<!DOCTYPE svg PUBLIC \"-//W3C//DTD SVG 1.1//EN\"\r\n \"http://www.w3.org/Graphics/SVG/1.1/DTD/svg11.dtd\">\r\n<!-- Generated by graphviz version 2.38.0 (20140413.2041)\r\n -->\r\n<!-- Title: Tree Pages: 1 -->\r\n<svg width=\"720pt\" height=\"434pt\"\r\n viewBox=\"0.00 0.00 720.00 434.45\" xmlns=\"http://www.w3.org/2000/svg\" xmlns:xlink=\"http://www.w3.org/1999/xlink\">\r\n<g id=\"graph0\" class=\"graph\" transform=\"scale(0.765143 0.765143) rotate(0) translate(4 563.8)\">\r\n<title>Tree</title>\r\n<polygon fill=\"white\" stroke=\"none\" points=\"-4,4 -4,-563.8 937,-563.8 937,4 -4,4\"/>\r\n<!-- 0 -->\r\n<g id=\"node1\" class=\"node\"><title>0</title>\r\n<polygon fill=\"#b9f6d3\" stroke=\"black\" points=\"186,-312.972 0,-312.972 0,-244.972 186,-244.972 186,-312.972\"/>\r\n<text text-anchor=\"start\" x=\"25.5\" y=\"-297.772\" font-family=\"Times New Roman,serif\" font-size=\"14.00\">foundation_type_i ≤ 0.5</text>\r\n<text text-anchor=\"start\" x=\"59.5\" y=\"-282.772\" font-family=\"Times New Roman,serif\" font-size=\"14.00\">gini = 0.555</text>\r\n<text text-anchor=\"start\" x=\"42\" y=\"-267.772\" font-family=\"Times New Roman,serif\" font-size=\"14.00\">samples = 173733</text>\r\n<text text-anchor=\"start\" x=\"8\" y=\"-252.772\" font-family=\"Times New Roman,serif\" font-size=\"14.00\">value = [16769, 98836, 58128]</text>\r\n</g>\r\n<!-- 1 -->\r\n<g id=\"node2\" class=\"node\"><title>1</title>\r\n<polygon fill=\"#baf6d3\" stroke=\"black\" points=\"435,-366.972 249,-366.972 249,-298.972 435,-298.972 435,-366.972\"/>\r\n<text text-anchor=\"start\" x=\"272.5\" y=\"-351.772\" font-family=\"Times New Roman,serif\" font-size=\"14.00\">foundation_type_u ≤ 0.5</text>\r\n<text text-anchor=\"start\" x=\"308.5\" y=\"-336.772\" font-family=\"Times New Roman,serif\" font-size=\"14.00\">gini = 0.542</text>\r\n<text text-anchor=\"start\" x=\"291\" y=\"-321.772\" font-family=\"Times New Roman,serif\" font-size=\"14.00\">samples = 166707</text>\r\n<text text-anchor=\"start\" x=\"257\" y=\"-306.772\" font-family=\"Times New Roman,serif\" font-size=\"14.00\">value = [12776, 95951, 57980]</text>\r\n</g>\r\n<!-- 0&#45;&gt;1 -->\r\n<g id=\"edge1\" class=\"edge\"><title>0&#45;&gt;1</title>\r\n<path fill=\"none\" stroke=\"black\" d=\"M186.325,-299.157C203.392,-302.888 221.309,-306.805 238.652,-310.597\"/>\r\n<polygon fill=\"black\" stroke=\"black\" points=\"238.27,-314.096 248.787,-312.812 239.765,-307.257 238.27,-314.096\"/>\r\n<text text-anchor=\"middle\" x=\"227.742\" y=\"-322.606\" font-family=\"Times New Roman,serif\" font-size=\"14.00\">True</text>\r\n</g>\r\n<!-- 8 -->\r\n<g id=\"node9\" class=\"node\"><title>8</title>\r\n<polygon fill=\"#f8ddca\" stroke=\"black\" points=\"462,-258.972 222,-258.972 222,-190.972 462,-190.972 462,-258.972\"/>\r\n<text text-anchor=\"start\" x=\"230\" y=\"-243.772\" font-family=\"Times New Roman,serif\" font-size=\"14.00\">has_superstructure_rc_engineered ≤ 0.5</text>\r\n<text text-anchor=\"start\" x=\"308.5\" y=\"-228.772\" font-family=\"Times New Roman,serif\" font-size=\"14.00\">gini = 0.508</text>\r\n<text text-anchor=\"start\" x=\"298\" y=\"-213.772\" font-family=\"Times New Roman,serif\" font-size=\"14.00\">samples = 7026</text>\r\n<text text-anchor=\"start\" x=\"270.5\" y=\"-198.772\" font-family=\"Times New Roman,serif\" font-size=\"14.00\">value = [3993, 2885, 148]</text>\r\n</g>\r\n<!-- 0&#45;&gt;8 -->\r\n<g id=\"edge8\" class=\"edge\"><title>0&#45;&gt;8</title>\r\n<path fill=\"none\" stroke=\"black\" d=\"M186.325,-258.788C194.598,-256.979 203.07,-255.127 211.581,-253.266\"/>\r\n<polygon fill=\"black\" stroke=\"black\" points=\"212.557,-256.636 221.578,-251.081 211.061,-249.797 212.557,-256.636\"/>\r\n<text text-anchor=\"middle\" x=\"200.533\" y=\"-233.886\" font-family=\"Times New Roman,serif\" font-size=\"14.00\">False</text>\r\n</g>\r\n<!-- 2 -->\r\n<g id=\"node3\" class=\"node\"><title>2</title>\r\n<polygon fill=\"#bdf6d5\" stroke=\"black\" points=\"701,-494.972 515,-494.972 515,-426.972 701,-426.972 701,-494.972\"/>\r\n<text text-anchor=\"start\" x=\"556.5\" y=\"-479.772\" font-family=\"Times New Roman,serif\" font-size=\"14.00\">roof_type_x ≤ 0.5</text>\r\n<text text-anchor=\"start\" x=\"574.5\" y=\"-464.772\" font-family=\"Times New Roman,serif\" font-size=\"14.00\">gini = 0.536</text>\r\n<text text-anchor=\"start\" x=\"557\" y=\"-449.772\" font-family=\"Times New Roman,serif\" font-size=\"14.00\">samples = 157243</text>\r\n<text text-anchor=\"start\" x=\"523\" y=\"-434.772\" font-family=\"Times New Roman,serif\" font-size=\"14.00\">value = [10323, 90285, 56635]</text>\r\n</g>\r\n<!-- 1&#45;&gt;2 -->\r\n<g id=\"edge2\" class=\"edge\"><title>1&#45;&gt;2</title>\r\n<path fill=\"none\" stroke=\"black\" d=\"M413.4,-367.106C448.604,-384.174 491.342,-404.895 527.699,-422.523\"/>\r\n<polygon fill=\"black\" stroke=\"black\" points=\"526.271,-425.72 536.796,-426.934 529.325,-419.422 526.271,-425.72\"/>\r\n</g>\r\n<!-- 5 -->\r\n<g id=\"node6\" class=\"node\"><title>5</title>\r\n<polygon fill=\"#a4f3c5\" stroke=\"black\" points=\"691,-366.972 525,-366.972 525,-298.972 691,-298.972 691,-366.972\"/>\r\n<text text-anchor=\"start\" x=\"546\" y=\"-351.772\" font-family=\"Times New Roman,serif\" font-size=\"14.00\">geo_level_2_id ≤ 39.5</text>\r\n<text text-anchor=\"start\" x=\"574.5\" y=\"-336.772\" font-family=\"Times New Roman,serif\" font-size=\"14.00\">gini = 0.554</text>\r\n<text text-anchor=\"start\" x=\"564\" y=\"-321.772\" font-family=\"Times New Roman,serif\" font-size=\"14.00\">samples = 9464</text>\r\n<text text-anchor=\"start\" x=\"533\" y=\"-306.772\" font-family=\"Times New Roman,serif\" font-size=\"14.00\">value = [2453, 5666, 1345]</text>\r\n</g>\r\n<!-- 1&#45;&gt;5 -->\r\n<g id=\"edge5\" class=\"edge\"><title>1&#45;&gt;5</title>\r\n<path fill=\"none\" stroke=\"black\" d=\"M435.334,-332.972C461.063,-332.972 489.007,-332.972 514.732,-332.972\"/>\r\n<polygon fill=\"black\" stroke=\"black\" points=\"514.848,-336.472 524.848,-332.972 514.848,-329.472 514.848,-336.472\"/>\r\n</g>\r\n<!-- 3 -->\r\n<g id=\"node4\" class=\"node\"><title>3</title>\r\n<polygon fill=\"#bef6d5\" stroke=\"black\" points=\"932.5,-559.472 753.5,-559.472 753.5,-506.472 932.5,-506.472 932.5,-559.472\"/>\r\n<text text-anchor=\"start\" x=\"809.5\" y=\"-544.272\" font-family=\"Times New Roman,serif\" font-size=\"14.00\">gini = 0.536</text>\r\n<text text-anchor=\"start\" x=\"792\" y=\"-529.272\" font-family=\"Times New Roman,serif\" font-size=\"14.00\">samples = 155555</text>\r\n<text text-anchor=\"start\" x=\"761.5\" y=\"-514.272\" font-family=\"Times New Roman,serif\" font-size=\"14.00\">value = [9975, 89150, 56430]</text>\r\n</g>\r\n<!-- 2&#45;&gt;3 -->\r\n<g id=\"edge3\" class=\"edge\"><title>2&#45;&gt;3</title>\r\n<path fill=\"none\" stroke=\"black\" d=\"M701.088,-489.428C715.905,-494.007 731.274,-498.756 746.176,-503.361\"/>\r\n<polygon fill=\"black\" stroke=\"black\" points=\"745.303,-506.755 755.891,-506.363 747.37,-500.067 745.303,-506.755\"/>\r\n</g>\r\n<!-- 4 -->\r\n<g id=\"node5\" class=\"node\"><title>4</title>\r\n<polygon fill=\"#8bf0b5\" stroke=\"black\" points=\"919,-487.472 767,-487.472 767,-434.472 919,-434.472 919,-487.472\"/>\r\n<text text-anchor=\"start\" x=\"809.5\" y=\"-472.272\" font-family=\"Times New Roman,serif\" font-size=\"14.00\">gini = 0.491</text>\r\n<text text-anchor=\"start\" x=\"799\" y=\"-457.272\" font-family=\"Times New Roman,serif\" font-size=\"14.00\">samples = 1688</text>\r\n<text text-anchor=\"start\" x=\"775\" y=\"-442.272\" font-family=\"Times New Roman,serif\" font-size=\"14.00\">value = [348, 1135, 205]</text>\r\n</g>\r\n<!-- 2&#45;&gt;4 -->\r\n<g id=\"edge4\" class=\"edge\"><title>2&#45;&gt;4</title>\r\n<path fill=\"none\" stroke=\"black\" d=\"M701.088,-460.972C719.356,-460.972 738.462,-460.972 756.499,-460.972\"/>\r\n<polygon fill=\"black\" stroke=\"black\" points=\"756.688,-464.472 766.688,-460.972 756.688,-457.472 756.688,-464.472\"/>\r\n</g>\r\n<!-- 6 -->\r\n<g id=\"node7\" class=\"node\"><title>6</title>\r\n<polygon fill=\"#e7fcef\" stroke=\"black\" points=\"912.5,-414.472 773.5,-414.472 773.5,-361.472 912.5,-361.472 912.5,-414.472\"/>\r\n<text text-anchor=\"start\" x=\"809.5\" y=\"-399.272\" font-family=\"Times New Roman,serif\" font-size=\"14.00\">gini = 0.529</text>\r\n<text text-anchor=\"start\" x=\"799\" y=\"-384.272\" font-family=\"Times New Roman,serif\" font-size=\"14.00\">samples = 1327</text>\r\n<text text-anchor=\"start\" x=\"781.5\" y=\"-369.272\" font-family=\"Times New Roman,serif\" font-size=\"14.00\">value = [597, 687, 43]</text>\r\n</g>\r\n<!-- 5&#45;&gt;6 -->\r\n<g id=\"edge6\" class=\"edge\"><title>5&#45;&gt;6</title>\r\n<path fill=\"none\" stroke=\"black\" d=\"M691.147,-352.363C714.649,-357.911 740.199,-363.942 763.477,-369.437\"/>\r\n<polygon fill=\"black\" stroke=\"black\" points=\"762.766,-372.865 773.302,-371.756 764.374,-366.052 762.766,-372.865\"/>\r\n</g>\r\n<!-- 7 -->\r\n<g id=\"node8\" class=\"node\"><title>7</title>\r\n<polygon fill=\"#9df2c0\" stroke=\"black\" points=\"926,-342.472 760,-342.472 760,-289.472 926,-289.472 926,-342.472\"/>\r\n<text text-anchor=\"start\" x=\"809.5\" y=\"-327.272\" font-family=\"Times New Roman,serif\" font-size=\"14.00\">gini = 0.548</text>\r\n<text text-anchor=\"start\" x=\"799\" y=\"-312.272\" font-family=\"Times New Roman,serif\" font-size=\"14.00\">samples = 8137</text>\r\n<text text-anchor=\"start\" x=\"768\" y=\"-297.272\" font-family=\"Times New Roman,serif\" font-size=\"14.00\">value = [1856, 4979, 1302]</text>\r\n</g>\r\n<!-- 5&#45;&gt;7 -->\r\n<g id=\"edge7\" class=\"edge\"><title>5&#45;&gt;7</title>\r\n<path fill=\"none\" stroke=\"black\" d=\"M691.147,-326.979C710.114,-325.595 730.416,-324.114 749.78,-322.701\"/>\r\n<polygon fill=\"black\" stroke=\"black\" points=\"750.091,-326.187 759.809,-321.969 749.581,-319.206 750.091,-326.187\"/>\r\n</g>\r\n<!-- 9 -->\r\n<g id=\"node10\" class=\"node\"><title>9</title>\r\n<polygon fill=\"#fceee5\" stroke=\"black\" points=\"718,-258.972 498,-258.972 498,-190.972 718,-190.972 718,-258.972\"/>\r\n<text text-anchor=\"start\" x=\"506\" y=\"-243.772\" font-family=\"Times New Roman,serif\" font-size=\"14.00\">has_superstructure_stone_flag ≤ 0.5</text>\r\n<text text-anchor=\"start\" x=\"574.5\" y=\"-228.772\" font-family=\"Times New Roman,serif\" font-size=\"14.00\">gini = 0.522</text>\r\n<text text-anchor=\"start\" x=\"564\" y=\"-213.772\" font-family=\"Times New Roman,serif\" font-size=\"14.00\">samples = 4591</text>\r\n<text text-anchor=\"start\" x=\"536.5\" y=\"-198.772\" font-family=\"Times New Roman,serif\" font-size=\"14.00\">value = [2404, 2070, 117]</text>\r\n</g>\r\n<!-- 8&#45;&gt;9 -->\r\n<g id=\"edge9\" class=\"edge\"><title>8&#45;&gt;9</title>\r\n<path fill=\"none\" stroke=\"black\" d=\"M462.256,-224.972C470.708,-224.972 479.23,-224.972 487.682,-224.972\"/>\r\n<polygon fill=\"black\" stroke=\"black\" points=\"487.947,-228.472 497.947,-224.972 487.947,-221.472 487.947,-228.472\"/>\r\n</g>\r\n<!-- 12 -->\r\n<g id=\"node13\" class=\"node\"><title>12</title>\r\n<polygon fill=\"#f3c3a0\" stroke=\"black\" points=\"681.5,-132.972 534.5,-132.972 534.5,-64.9722 681.5,-64.9722 681.5,-132.972\"/>\r\n<text text-anchor=\"start\" x=\"542.5\" y=\"-117.772\" font-family=\"Times New Roman,serif\" font-size=\"14.00\">geo_level_3_id ≤ 588.5</text>\r\n<text text-anchor=\"start\" x=\"574.5\" y=\"-102.772\" font-family=\"Times New Roman,serif\" font-size=\"14.00\">gini = 0.462</text>\r\n<text text-anchor=\"start\" x=\"564\" y=\"-87.7722\" font-family=\"Times New Roman,serif\" font-size=\"14.00\">samples = 2435</text>\r\n<text text-anchor=\"start\" x=\"543\" y=\"-72.7722\" font-family=\"Times New Roman,serif\" font-size=\"14.00\">value = [1589, 815, 31]</text>\r\n</g>\r\n<!-- 8&#45;&gt;12 -->\r\n<g id=\"edge12\" class=\"edge\"><title>8&#45;&gt;12</title>\r\n<path fill=\"none\" stroke=\"black\" d=\"M414.442,-190.875C448.926,-174.417 490.449,-154.599 526.095,-137.586\"/>\r\n<polygon fill=\"black\" stroke=\"black\" points=\"527.983,-140.563 535.501,-133.097 524.968,-134.246 527.983,-140.563\"/>\r\n</g>\r\n<!-- 10 -->\r\n<g id=\"node11\" class=\"node\"><title>10</title>\r\n<polygon fill=\"#fbeee4\" stroke=\"black\" points=\"922.5,-270.472 763.5,-270.472 763.5,-217.472 922.5,-217.472 922.5,-270.472\"/>\r\n<text text-anchor=\"start\" x=\"809.5\" y=\"-255.272\" font-family=\"Times New Roman,serif\" font-size=\"14.00\">gini = 0.521</text>\r\n<text text-anchor=\"start\" x=\"799\" y=\"-240.272\" font-family=\"Times New Roman,serif\" font-size=\"14.00\">samples = 4572</text>\r\n<text text-anchor=\"start\" x=\"771.5\" y=\"-225.272\" font-family=\"Times New Roman,serif\" font-size=\"14.00\">value = [2404, 2055, 113]</text>\r\n</g>\r\n<!-- 9&#45;&gt;10 -->\r\n<g id=\"edge10\" class=\"edge\"><title>9&#45;&gt;10</title>\r\n<path fill=\"none\" stroke=\"black\" d=\"M718.337,-233.888C729.924,-234.833 741.606,-235.786 752.922,-236.708\"/>\r\n<polygon fill=\"black\" stroke=\"black\" points=\"752.947,-240.222 763.198,-237.546 753.516,-233.245 752.947,-240.222\"/>\r\n</g>\r\n<!-- 11 -->\r\n<g id=\"node12\" class=\"node\"><title>11</title>\r\n<polygon fill=\"#6eeca3\" stroke=\"black\" points=\"899,-198.472 787,-198.472 787,-145.472 899,-145.472 899,-198.472\"/>\r\n<text text-anchor=\"start\" x=\"809.5\" y=\"-183.272\" font-family=\"Times New Roman,serif\" font-size=\"14.00\">gini = 0.332</text>\r\n<text text-anchor=\"start\" x=\"805.5\" y=\"-168.272\" font-family=\"Times New Roman,serif\" font-size=\"14.00\">samples = 19</text>\r\n<text text-anchor=\"start\" x=\"795\" y=\"-153.272\" font-family=\"Times New Roman,serif\" font-size=\"14.00\">value = [0, 15, 4]</text>\r\n</g>\r\n<!-- 9&#45;&gt;11 -->\r\n<g id=\"edge11\" class=\"edge\"><title>9&#45;&gt;11</title>\r\n<path fill=\"none\" stroke=\"black\" d=\"M718.337,-200.102C738.389,-195.54 758.725,-190.915 776.957,-186.767\"/>\r\n<polygon fill=\"black\" stroke=\"black\" points=\"777.88,-190.147 786.854,-184.516 776.327,-183.321 777.88,-190.147\"/>\r\n</g>\r\n<!-- 13 -->\r\n<g id=\"node14\" class=\"node\"><title>13</title>\r\n<polygon fill=\"#9cf2c0\" stroke=\"black\" points=\"902.5,-125.472 783.5,-125.472 783.5,-72.4722 902.5,-72.4722 902.5,-125.472\"/>\r\n<text text-anchor=\"start\" x=\"809.5\" y=\"-110.272\" font-family=\"Times New Roman,serif\" font-size=\"14.00\">gini = 0.444</text>\r\n<text text-anchor=\"start\" x=\"805.5\" y=\"-95.2722\" font-family=\"Times New Roman,serif\" font-size=\"14.00\">samples = 72</text>\r\n<text text-anchor=\"start\" x=\"791.5\" y=\"-80.2722\" font-family=\"Times New Roman,serif\" font-size=\"14.00\">value = [24, 48, 0]</text>\r\n</g>\r\n<!-- 12&#45;&gt;13 -->\r\n<g id=\"edge13\" class=\"edge\"><title>12&#45;&gt;13</title>\r\n<path fill=\"none\" stroke=\"black\" d=\"M681.764,-98.9722C710.9,-98.9722 744.305,-98.9722 773.048,-98.9722\"/>\r\n<polygon fill=\"black\" stroke=\"black\" points=\"773.411,-102.472 783.41,-98.9722 773.41,-95.4723 773.411,-102.472\"/>\r\n</g>\r\n<!-- 14 -->\r\n<g id=\"node15\" class=\"node\"><title>14</title>\r\n<polygon fill=\"#f2c09c\" stroke=\"black\" points=\"916,-53.4722 770,-53.4722 770,-0.472182 916,-0.472182 916,-53.4722\"/>\r\n<text text-anchor=\"start\" x=\"809.5\" y=\"-38.2722\" font-family=\"Times New Roman,serif\" font-size=\"14.00\">gini = 0.456</text>\r\n<text text-anchor=\"start\" x=\"799\" y=\"-23.2722\" font-family=\"Times New Roman,serif\" font-size=\"14.00\">samples = 2363</text>\r\n<text text-anchor=\"start\" x=\"778\" y=\"-8.27218\" font-family=\"Times New Roman,serif\" font-size=\"14.00\">value = [1565, 767, 31]</text>\r\n</g>\r\n<!-- 12&#45;&gt;14 -->\r\n<g id=\"edge14\" class=\"edge\"><title>12&#45;&gt;14</title>\r\n<path fill=\"none\" stroke=\"black\" d=\"M681.764,-76.4871C706.628,-68.8038 734.601,-60.1598 760.133,-52.2701\"/>\r\n<polygon fill=\"black\" stroke=\"black\" points=\"761.266,-55.5833 769.787,-49.2869 759.2,-48.8953 761.266,-55.5833\"/>\r\n</g>\r\n</g>\r\n</svg>\r\n"
     },
     "metadata": {}
    }
   ],
   "source": [
    "m = RandomForestClassifier(n_estimators=1, max_depth=3, \n",
    "                          bootstrap=False, n_jobs=-1)\n",
    "m.fit(train_values, train_labels)\n",
    "\n",
    "draw_tree(m.estimators_[0], train_values, precision=3)"
   ]
  },
  {
   "cell_type": "code",
   "execution_count": null,
   "metadata": {},
   "outputs": [],
   "source": []
  }
 ]
}