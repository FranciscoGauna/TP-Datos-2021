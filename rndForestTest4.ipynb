{
 "metadata": {
  "language_info": {
   "codemirror_mode": {
    "name": "ipython",
    "version": 3
   },
   "file_extension": ".py",
   "mimetype": "text/x-python",
   "name": "python",
   "nbconvert_exporter": "python",
   "pygments_lexer": "ipython3",
   "version": "3.7.4"
  },
  "orig_nbformat": 4,
  "kernelspec": {
   "name": "python3",
   "display_name": "Python 3.7.4 64-bit"
  },
  "interpreter": {
   "hash": "88ce181b8cd0eb812200b9b411a136cd9c7c972aa91497a27a228178326dd49d"
  }
 },
 "nbformat": 4,
 "nbformat_minor": 2,
 "cells": [
  {
   "cell_type": "code",
   "execution_count": 1,
   "source": [
    "import pandas as pd\r\n",
    "pd.options.display.float_format = '{:20,.2f}'.format\r\n",
    "import matplotlib.pyplot as plt\r\n",
    "import numpy as np\r\n",
    "import IPython"
   ],
   "outputs": [],
   "metadata": {}
  },
  {
   "cell_type": "code",
   "execution_count": 2,
   "source": [
    "# for preprocessing the data\r\n",
    "from sklearn.preprocessing import StandardScaler\r\n",
    "\r\n",
    "# the model\r\n",
    "from sklearn.ensemble import RandomForestClassifier\r\n",
    "\r\n",
    "# for combining the preprocess with model training\r\n",
    "from sklearn.pipeline import make_pipeline\r\n",
    "\r\n",
    "# for optimizing the hyperparameters of the pipeline\r\n",
    "from sklearn.model_selection import GridSearchCV\r\n",
    "\r\n",
    "from sklearn.metrics import f1_score\r\n",
    "\r\n",
    "from sklearn.tree import export_graphviz\r\n",
    "\r\n",
    "from sklearn.feature_selection import SelectFromModel"
   ],
   "outputs": [],
   "metadata": {}
  },
  {
   "cell_type": "code",
   "execution_count": 3,
   "source": [
    "from treeinterpreter import treeinterpreter as ti"
   ],
   "outputs": [],
   "metadata": {}
  },
  {
   "cell_type": "code",
   "execution_count": 4,
   "source": [
    "df_train_labels_original = pd.read_csv('train_labels.csv',low_memory=False,index_col='building_id')\r\n",
    "df_train_values_original = pd.read_csv('train_values.csv',low_memory=False, index_col='building_id', dtype= {\r\n",
    "'geo_level_1_id':'uint8', 'geo_level_2_id':'uint16', 'geo_level_3_id':'uint16', 'count_floors_pre_eq':'uint8','age':'uint16', 'area_percentage':'uint16', 'height_percentage':'uint16', \r\n",
    "'land_surface_condition':'category', 'foundation_type':'category', 'roof_type':'category', 'ground_floor_type':'category', 'other_floor_type':'category', 'position':'category','plan_configuration':'category', \r\n",
    "'has_superstructure_adobe_mud':'bool', 'has_superstructure_mud_mortar_stone':'bool','has_superstructure_stone_flag':'bool', 'has_superstructure_cement_mortar_stone':'bool', 'has_superstructure_mud_mortar_brick':'bool', 'has_superstructure_cement_mortar_brick':'bool', 'has_superstructure_timber':'bool', 'has_superstructure_bamboo':'bool', 'has_superstructure_rc_non_engineered':'bool', 'has_superstructure_rc_engineered':'bool', 'has_superstructure_other':'bool', \r\n",
    "'legal_ownership_status':'category', 'count_families':'uint16', \r\n",
    "'has_secondary_use':'bool', 'has_secondary_use_agriculture':'bool', 'has_secondary_use_hotel':'bool', 'has_secondary_use_rental':'bool', 'has_secondary_use_institution':'bool', 'has_secondary_use_school':'bool', 'has_secondary_use_industry':'bool', 'has_secondary_use_health_post':'bool', 'has_secondary_use_gov_office':'bool', 'has_secondary_use_use_police':'bool', 'has_secondary_use_other':'bool',})\r\n",
    "df_test_values_original = pd.read_csv('test_values.csv',low_memory=False, index_col='building_id', dtype= {\r\n",
    "'geo_level_1_id':'uint8', 'geo_level_2_id':'uint16', 'geo_level_3_id':'uint16', 'count_floors_pre_eq':'uint8','age':'uint16', 'area_percentage':'uint16', 'height_percentage':'uint16', \r\n",
    "'land_surface_condition':'category', 'foundation_type':'category', 'roof_type':'category', 'ground_floor_type':'category', 'other_floor_type':'category', 'position':'category','plan_configuration':'category', \r\n",
    "'has_superstructure_adobe_mud':'bool', 'has_superstructure_mud_mortar_stone':'bool','has_superstructure_stone_flag':'bool', 'has_superstructure_cement_mortar_stone':'bool', 'has_superstructure_mud_mortar_brick':'bool', 'has_superstructure_cement_mortar_brick':'bool', 'has_superstructure_timber':'bool', 'has_superstructure_bamboo':'bool', 'has_superstructure_rc_non_engineered':'bool', 'has_superstructure_rc_engineered':'bool', 'has_superstructure_other':'bool', \r\n",
    "'legal_ownership_status':'category', 'count_families':'uint16', \r\n",
    "'has_secondary_use':'bool', 'has_secondary_use_agriculture':'bool', 'has_secondary_use_hotel':'bool', 'has_secondary_use_rental':'bool', 'has_secondary_use_institution':'bool', 'has_secondary_use_school':'bool', 'has_secondary_use_industry':'bool', 'has_secondary_use_health_post':'bool', 'has_secondary_use_gov_office':'bool', 'has_secondary_use_use_police':'bool', 'has_secondary_use_other':'bool',})"
   ],
   "outputs": [],
   "metadata": {}
  },
  {
   "cell_type": "code",
   "execution_count": 5,
   "source": [
    "train_values_subset = pd.get_dummies(df_train_values_original)\r\n",
    "train_labels_subset = df_train_labels_original['damage_grade']\r\n",
    "\r\n",
    "validation_size = df_train_values_original.index.size - df_test_values_original.index.size"
   ],
   "outputs": [],
   "metadata": {}
  },
  {
   "cell_type": "code",
   "execution_count": 6,
   "source": [
    "geo1 = pd.get_dummies(train_values_subset[\"geo_level_1_id\"])\r\n",
    "geo1Names = {}\r\n",
    "for x in geo1.columns: geo1Names[x] = ('geo1_'+ str(x))\r\n",
    "geo1 = geo1.rename(geo1Names, axis=1)"
   ],
   "outputs": [],
   "metadata": {}
  },
  {
   "cell_type": "code",
   "execution_count": 7,
   "source": [
    "geo2 = pd.get_dummies(train_values_subset[\"geo_level_2_id\"])\r\n",
    "geo2Names = {}\r\n",
    "for x in geo2.columns: geo2Names[x] = ('geo2_'+ str(x))\r\n",
    "geo2 = geo2.rename(geo2Names, axis=1)"
   ],
   "outputs": [],
   "metadata": {}
  },
  {
   "cell_type": "code",
   "execution_count": 8,
   "source": [
    "train_values_subset = train_values_subset.drop([\"geo_level_2_id\", \"geo_level_1_id\"], axis=1)\r\n",
    "train_values_subset = pd.concat([train_values_subset, geo1, geo2], axis=1)"
   ],
   "outputs": [],
   "metadata": {}
  },
  {
   "cell_type": "code",
   "execution_count": 10,
   "source": [
    "train_values_subset = train_values_subset[['geo_level_3_id', 'count_floors_pre_eq', 'age', 'area_percentage',\r\n",
    "       'height_percentage', 'has_superstructure_adobe_mud',\r\n",
    "       'has_superstructure_mud_mortar_stone', 'has_superstructure_stone_flag',\r\n",
    "       'has_superstructure_cement_mortar_stone',\r\n",
    "       'has_superstructure_mud_mortar_brick',\r\n",
    "       'has_superstructure_cement_mortar_brick', 'has_superstructure_timber',\r\n",
    "       'has_superstructure_bamboo', 'has_superstructure_rc_non_engineered',\r\n",
    "       'has_superstructure_rc_engineered', 'has_superstructure_other',\r\n",
    "       'count_families', 'has_secondary_use', 'has_secondary_use_agriculture',\r\n",
    "       'has_secondary_use_hotel', 'has_secondary_use_rental',\r\n",
    "       'has_secondary_use_other', 'land_surface_condition_n',\r\n",
    "       'land_surface_condition_o', 'land_surface_condition_t',\r\n",
    "       'foundation_type_h', 'foundation_type_i', 'foundation_type_r',\r\n",
    "       'foundation_type_u', 'foundation_type_w', 'roof_type_n', 'roof_type_q',\r\n",
    "       'roof_type_x', 'ground_floor_type_f', 'ground_floor_type_v',\r\n",
    "       'ground_floor_type_x', 'other_floor_type_j', 'other_floor_type_q',\r\n",
    "       'other_floor_type_s', 'other_floor_type_x', 'position_j', 'position_o',\r\n",
    "       'position_s', 'position_t', 'plan_configuration_d',\r\n",
    "       'plan_configuration_q', 'plan_configuration_u',\r\n",
    "       'legal_ownership_status_a', 'legal_ownership_status_r',\r\n",
    "       'legal_ownership_status_v', 'legal_ownership_status_w', 'geo1_0',\r\n",
    "       'geo1_1', 'geo1_3', 'geo1_4', 'geo1_5', 'geo1_6', 'geo1_7', 'geo1_8',\r\n",
    "       'geo1_9', 'geo1_10', 'geo1_11', 'geo1_12', 'geo1_13', 'geo1_14',\r\n",
    "       'geo1_15', 'geo1_16', 'geo1_17', 'geo1_18', 'geo1_20', 'geo1_21',\r\n",
    "       'geo1_22', 'geo1_24', 'geo1_25', 'geo1_26', 'geo1_27', 'geo1_30',\r\n",
    "       'geo2_36', 'geo2_39', 'geo2_87', 'geo2_105', 'geo2_142', 'geo2_157',\r\n",
    "       'geo2_158', 'geo2_181', 'geo2_258', 'geo2_363', 'geo2_417', 'geo2_421',\r\n",
    "       'geo2_463', 'geo2_477', 'geo2_487', 'geo2_533', 'geo2_548', 'geo2_617',\r\n",
    "       'geo2_641', 'geo2_673', 'geo2_765', 'geo2_819', 'geo2_838', 'geo2_869',\r\n",
    "       'geo2_886', 'geo2_896', 'geo2_937', 'geo2_1006', 'geo2_1023',\r\n",
    "       'geo2_1050', 'geo2_1074', 'geo2_1127', 'geo2_1132', 'geo2_1149',\r\n",
    "       'geo2_1155', 'geo2_1181', 'geo2_1265', 'geo2_1287', 'geo2_1394',\r\n",
    "       'geo2_1401', 'geo2_1421']]"
   ],
   "outputs": [],
   "metadata": {}
  },
  {
   "cell_type": "code",
   "execution_count": 11,
   "source": [
    "train_values, validation_values = (train_values_subset.iloc[0:173733], train_values_subset.iloc[173733:-1])\r\n",
    "train_labels, validation_labels = (train_labels_subset.iloc[0:173733], train_labels_subset.iloc[173733:-1])"
   ],
   "outputs": [],
   "metadata": {}
  },
  {
   "cell_type": "code",
   "execution_count": 14,
   "source": [
    "rndfor = RandomForestClassifier(n_estimators=100, max_features=None, bootstrap=True, n_jobs=2)    "
   ],
   "outputs": [],
   "metadata": {}
  },
  {
   "cell_type": "code",
   "execution_count": 15,
   "source": [
    "rndfor.fit(train_values, train_labels)"
   ],
   "outputs": [],
   "metadata": {}
  },
  {
   "cell_type": "code",
   "execution_count": null,
   "source": [
    "predictions = rndfor.predict(validation_values) "
   ],
   "outputs": [],
   "metadata": {}
  },
  {
   "cell_type": "code",
   "execution_count": null,
   "source": [
    "f1_score(validation_labels, predictions, average='micro')"
   ],
   "outputs": [],
   "metadata": {}
  }
 ]
}