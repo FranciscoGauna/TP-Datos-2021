{
 "cells": [
  {
   "cell_type": "code",
   "execution_count": 118,
   "source": [
    "import pandas as pd\r\n",
    "pd.options.display.float_format = '{:20,.2f}'.format\r\n",
    "import matplotlib.pyplot as plt\r\n",
    "import numpy as np"
   ],
   "outputs": [],
   "metadata": {}
  },
  {
   "cell_type": "code",
   "execution_count": 119,
   "source": [
    "# for preprocessing the data\r\n",
    "from sklearn.preprocessing import StandardScaler\r\n",
    "\r\n",
    "# the model\r\n",
    "from sklearn.ensemble import RandomForestClassifier\r\n",
    "\r\n",
    "# for combining the preprocess with model training\r\n",
    "from sklearn.pipeline import make_pipeline\r\n",
    "\r\n",
    "# for optimizing the hyperparameters of the pipeline\r\n",
    "from sklearn.model_selection import GridSearchCV\r\n",
    "\r\n",
    "from sklearn.metrics import f1_score\r\n",
    "from sklearn.tree import export_graphviz\r\n",
    "\r\n",
    "from sklearn.feature_selection import SelectFromModel\r\n",
    "from sklearn.metrics import accuracy_score"
   ],
   "outputs": [],
   "metadata": {}
  },
  {
   "cell_type": "code",
   "execution_count": 120,
   "source": [
    "import xgboost as xgb\r\n",
    "from xgboost.sklearn import XGBClassifier"
   ],
   "outputs": [],
   "metadata": {}
  },
  {
   "cell_type": "code",
   "execution_count": 121,
   "source": [
    "pd.options.display.max_seq_items = 200\r\n"
   ],
   "outputs": [],
   "metadata": {}
  },
  {
   "cell_type": "code",
   "execution_count": 122,
   "source": [
    "df_train_labels_original = pd.read_csv('train_labels.csv',low_memory=False,index_col='building_id')\r\n",
    "df_train_values_original = pd.read_csv('train_values.csv',low_memory=False, index_col='building_id', dtype= {\r\n",
    "'geo_level_1_id':'uint8', 'geo_level_2_id':'uint16', 'geo_level_3_id':'uint16', 'count_floors_pre_eq':'uint8','age':'uint16', 'area_percentage':'uint16', 'height_percentage':'uint16', \r\n",
    "'land_surface_condition':'category', 'foundation_type':'category', 'roof_type':'category', 'ground_floor_type':'category', 'other_floor_type':'category', 'position':'category','plan_configuration':'category', \r\n",
    "'has_superstructure_adobe_mud':'bool', 'has_superstructure_mud_mortar_stone':'bool','has_superstructure_stone_flag':'bool', 'has_superstructure_cement_mortar_stone':'bool', 'has_superstructure_mud_mortar_brick':'bool', 'has_superstructure_cement_mortar_brick':'bool', 'has_superstructure_timber':'bool', 'has_superstructure_bamboo':'bool', 'has_superstructure_rc_non_engineered':'bool', 'has_superstructure_rc_engineered':'bool', 'has_superstructure_other':'bool', \r\n",
    "'legal_ownership_status':'category', 'count_families':'uint16', \r\n",
    "'has_secondary_use':'bool', 'has_secondary_use_agriculture':'bool', 'has_secondary_use_hotel':'bool', 'has_secondary_use_rental':'bool', 'has_secondary_use_institution':'bool', 'has_secondary_use_school':'bool', 'has_secondary_use_industry':'bool', 'has_secondary_use_health_post':'bool', 'has_secondary_use_gov_office':'bool', 'has_secondary_use_use_police':'bool', 'has_secondary_use_other':'bool',})\r\n",
    "df_test_values_original = pd.read_csv('test_values.csv',low_memory=False, index_col='building_id', dtype= {\r\n",
    "'geo_level_1_id':'uint8', 'geo_level_2_id':'uint16', 'geo_level_3_id':'uint16', 'count_floors_pre_eq':'uint8','age':'uint16', 'area_percentage':'uint16', 'height_percentage':'uint16', \r\n",
    "'land_surface_condition':'category', 'foundation_type':'category', 'roof_type':'category', 'ground_floor_type':'category', 'other_floor_type':'category', 'position':'category','plan_configuration':'category', \r\n",
    "'has_superstructure_adobe_mud':'bool', 'has_superstructure_mud_mortar_stone':'bool','has_superstructure_stone_flag':'bool', 'has_superstructure_cement_mortar_stone':'bool', 'has_superstructure_mud_mortar_brick':'bool', 'has_superstructure_cement_mortar_brick':'bool', 'has_superstructure_timber':'bool', 'has_superstructure_bamboo':'bool', 'has_superstructure_rc_non_engineered':'bool', 'has_superstructure_rc_engineered':'bool', 'has_superstructure_other':'bool', \r\n",
    "'legal_ownership_status':'category', 'count_families':'uint16', \r\n",
    "'has_secondary_use':'bool', 'has_secondary_use_agriculture':'bool', 'has_secondary_use_hotel':'bool', 'has_secondary_use_rental':'bool', 'has_secondary_use_institution':'bool', 'has_secondary_use_school':'bool', 'has_secondary_use_industry':'bool', 'has_secondary_use_health_post':'bool', 'has_secondary_use_gov_office':'bool', 'has_secondary_use_use_police':'bool', 'has_secondary_use_other':'bool',})"
   ],
   "outputs": [],
   "metadata": {}
  },
  {
   "cell_type": "code",
   "execution_count": 123,
   "source": [
    "train_values_subset = pd.get_dummies(df_train_values_original)\r\n",
    "train_labels_subset = df_train_labels_original['damage_grade']\r\n",
    "\r\n",
    "validation_size = df_train_values_original.index.size - df_test_values_original.index.size"
   ],
   "outputs": [],
   "metadata": {}
  },
  {
   "cell_type": "code",
   "execution_count": 124,
   "source": [
    "test_values_subset = pd.get_dummies(df_test_values_original)\r\n",
    "geo1Test = pd.get_dummies(test_values_subset[\"geo_level_1_id\"])\r\n",
    "geo1TestNames = {}\r\n",
    "for x in geo1Test.columns: geo1TestNames[x] = ('geo1Test_'+ str(x))\r\n",
    "geo1Test = geo1Test.rename(geo1TestNames, axis=1)\r\n",
    "test_values_subset = pd.concat([test_values_subset, geo1Test], axis=1)"
   ],
   "outputs": [],
   "metadata": {}
  },
  {
   "cell_type": "code",
   "execution_count": 125,
   "source": [
    "# normal features selected\r\n",
    "#  train_values_subset = train_values_subset[['geo_level_1_id', 'has_superstructure_mud_mortar_stone',\r\n",
    "#        'has_superstructure_cement_mortar_brick', 'foundation_type_i',\r\n",
    "#        'foundation_type_r', 'foundation_type_w', 'roof_type_x',\r\n",
    "#        'ground_floor_type_v', 'other_floor_type_q']]"
   ],
   "outputs": [],
   "metadata": {}
  },
  {
   "cell_type": "code",
   "execution_count": 126,
   "source": [
    "geo1 = pd.get_dummies(train_values_subset[\"geo_level_1_id\"])\r\n",
    "geo1Names = {}\r\n",
    "for x in geo1.columns: geo1Names[x] = ('geo1_'+ str(x))\r\n",
    "geo1 = geo1.rename(geo1Names, axis=1)"
   ],
   "outputs": [],
   "metadata": {}
  },
  {
   "cell_type": "code",
   "execution_count": 127,
   "source": [
    "# geo2 = pd.get_dummies(train_values_subset[\"geo_level_2_id\"])\r\n",
    "# geo2Names = {}\r\n",
    "# for x in geo2.columns: geo2Names[x] = ('geo2_'+ str(x))\r\n",
    "# geo2 = geo2.rename(geo2Names, axis=1)"
   ],
   "outputs": [],
   "metadata": {}
  },
  {
   "cell_type": "code",
   "execution_count": 128,
   "source": [
    "train_values_subset = pd.concat([train_values_subset, geo1], axis=1)"
   ],
   "outputs": [],
   "metadata": {}
  },
  {
   "cell_type": "code",
   "execution_count": 129,
   "source": [
    "# train_values_subset = train_values_subset[['has_superstructure_mud_mortar_stone',\r\n",
    "#        'has_superstructure_cement_mortar_brick', 'foundation_type_i',\r\n",
    "#        'foundation_type_r', 'roof_type_x', 'ground_floor_type_v',\r\n",
    "#        'other_floor_type_q', 'geo1_1', 'geo1_4', 'geo1_5', 'geo1_8', 'geo1_10',\r\n",
    "#        'geo1_11', 'geo1_13', 'geo1_17', 'geo1_18', 'geo1_20', 'geo1_21',\r\n",
    "#        'geo1_22', 'geo1_24', 'geo1_25', 'geo1_26', 'geo1_27', 'geo1_30']]"
   ],
   "outputs": [],
   "metadata": {}
  },
  {
   "cell_type": "code",
   "execution_count": 13,
   "source": [
    "train_values, validation_values = (train_values_subset.iloc[0:173733], train_values_subset.iloc[173733:-1])\r\n",
    "train_labels, validation_labels = (train_labels_subset.iloc[0:173733], train_labels_subset.iloc[173733:-1])"
   ],
   "outputs": [],
   "metadata": {}
  },
  {
   "cell_type": "code",
   "execution_count": 139,
   "source": [
    "# 'importance_gain': ['gain'],\r\n",
    "# 'kearning_rate': [0.5],\r\n",
    "\r\n",
    "param_grid = {'booster': ['gbtree'],\r\n",
    "'eta': [0.37, 0.4, 0.43, 0.7],\r\n",
    "'max_depth': [6, 7, 8],\r\n",
    "'subsample': [1],\r\n",
    "'base_score': [0.5],\r\n",
    "'gpu_id': [-1],\r\n",
    "'n_estimators': [200, 250, 300],\r\n",
    "'n_jobs': [16],\r\n",
    "'objective': ['multi:softprob'],\r\n",
    "'random_state': [0],\r\n",
    "'reg_alpha': [0],\r\n",
    "'reg_lambda': [0],\r\n",
    "'validate_parameters': [1]}\r\n",
    "gs = GridSearchCV(XGBClassifier(), param_grid)"
   ],
   "outputs": [],
   "metadata": {}
  },
  {
   "cell_type": "code",
   "execution_count": null,
   "source": [
    "gs.fit(train_values, train_labels)"
   ],
   "outputs": [],
   "metadata": {}
  },
  {
   "cell_type": "code",
   "execution_count": 141,
   "source": [
    "gs.best_params_"
   ],
   "outputs": [
    {
     "output_type": "execute_result",
     "data": {
      "text/plain": [
       "{'base_score': 0.5,\n",
       " 'booster': 'gbtree',\n",
       " 'eta': 0.43,\n",
       " 'gpu_id': -1,\n",
       " 'max_depth': 6,\n",
       " 'n_estimators': 300,\n",
       " 'n_jobs': 16,\n",
       " 'objective': 'multi:softprob',\n",
       " 'random_state': 0,\n",
       " 'reg_alpha': 0,\n",
       " 'reg_lambda': 0,\n",
       " 'subsample': 1,\n",
       " 'validate_parameters': 1}"
      ]
     },
     "metadata": {},
     "execution_count": 141
    }
   ],
   "metadata": {}
  },
  {
   "cell_type": "code",
   "execution_count": 142,
   "source": [
    "modelo = xgb.XGBClassifier(eta=0.43, n_estimators=300)"
   ],
   "outputs": [],
   "metadata": {}
  },
  {
   "cell_type": "code",
   "execution_count": 144,
   "source": [
    "modelo.fit(train_values, train_labels)"
   ],
   "outputs": [
    {
     "output_type": "stream",
     "name": "stdout",
     "text": [
      "[00:12:06] WARNING: C:/Users/Administrator/workspace/xgboost-win64_release_1.4.0/src/learner.cc:1095: Starting in XGBoost 1.3.0, the default evaluation metric used with the objective 'multi:softprob' was changed from 'merror' to 'mlogloss'. Explicitly set eval_metric if you'd like to restore the old behavior.\n"
     ]
    },
    {
     "output_type": "execute_result",
     "data": {
      "text/plain": [
       "XGBClassifier(base_score=0.5, booster='gbtree', colsample_bylevel=1,\n",
       "              colsample_bynode=1, colsample_bytree=1, eta=0.43, gamma=0,\n",
       "              gpu_id=-1, importance_type='gain', interaction_constraints='',\n",
       "              learning_rate=0.430000007, max_delta_step=0, max_depth=6,\n",
       "              min_child_weight=1, missing=nan, monotone_constraints='()',\n",
       "              n_estimators=300, n_jobs=16, num_parallel_tree=1,\n",
       "              objective='multi:softprob', random_state=0, reg_alpha=0,\n",
       "              reg_lambda=1, scale_pos_weight=None, subsample=1,\n",
       "              tree_method='exact', validate_parameters=1, verbosity=None)"
      ]
     },
     "metadata": {},
     "execution_count": 144
    }
   ],
   "metadata": {}
  },
  {
   "cell_type": "code",
   "execution_count": 145,
   "source": [
    "predictions = modelo.predict(validation_values) "
   ],
   "outputs": [],
   "metadata": {}
  },
  {
   "cell_type": "code",
   "execution_count": 146,
   "source": [
    "f1_score(validation_labels, predictions, average='micro')\r\n",
    "# 0.7237961481345045 normal features + geolevel 1 y 2 categorizado\r\n",
    "# 0.7129174485132443 selected features del anterior\r\n",
    "# 0.7275720354104551 new best, normal features. solo get dummys\r\n",
    "# 0.6717856032785753 normal features, selected. muy pocas categorias\r\n",
    "# 0.7248322147651006 normal features + geoLevel1 categorizado.\r\n",
    "# 0.6693450907709487 normal features + geolevel1 categorizado selected (solo 24 features)\r\n",
    "# 0.7398513436249285 score con todos los datos, con normal features + geolevel1 categorizado\r\n",
    "# Score real con lo de arriba: 0.7249\r\n",
    "# cambiar a dart no trae mejoras\r\n",
    "# cambiar a gblinear empeora\r\n",
    "\r\n",
    "# 0.7262596843450332 baseline \r\n",
    "# 0.738093867636732 eta 0.7\r\n",
    "# 0.7415474230720526 eta 0.7, n_estimators = 200\r\n",
    "# 0.7438152578079132 eta=0.43, n_estimators=300\r\n",
    "# esta fue la ultima entrega\r\n",
    "\r\n",
    "# usar randomized search y probar otros algoritmos"
   ],
   "outputs": [
    {
     "output_type": "execute_result",
     "data": {
      "text/plain": [
       "0.7438152578079132"
      ]
     },
     "metadata": {},
     "execution_count": 146
    }
   ],
   "metadata": {}
  },
  {
   "cell_type": "code",
   "execution_count": 134,
   "source": [
    "submission_format = pd.read_csv('submission_format.csv', index_col='building_id')\r\n",
    "my_submission = pd.DataFrame(data=predictions,\r\n",
    "                             columns=submission_format.columns,\r\n",
    "                             index=submission_format.index)\r\n",
    "my_submission.to_csv('submission7.csv')"
   ],
   "outputs": [],
   "metadata": {}
  },
  {
   "cell_type": "code",
   "execution_count": 23,
   "source": [
    "# train_values_subset = train_values_subset[['has_superstructure_adobe_mud', 'has_superstructure_mud_mortar_stone',\r\n",
    "#        'has_superstructure_stone_flag', 'has_superstructure_mud_mortar_brick',\r\n",
    "#        'has_superstructure_cement_mortar_brick',\r\n",
    "#        'has_superstructure_rc_engineered', 'has_superstructure_other',\r\n",
    "#        'foundation_type_h', 'foundation_type_i', 'foundation_type_r',\r\n",
    "#        'foundation_type_w', 'roof_type_q', 'roof_type_x',\r\n",
    "#        'ground_floor_type_v', 'other_floor_type_j', 'other_floor_type_q',\r\n",
    "#        'other_floor_type_s', 'plan_configuration_u', 'geo1_0', 'geo1_1',\r\n",
    "#        'geo1_2', 'geo1_3', 'geo1_4', 'geo1_5', 'geo1_6', 'geo1_7', 'geo1_8',\r\n",
    "#        'geo1_9', 'geo1_10', 'geo1_11', 'geo1_12', 'geo1_13', 'geo1_14',\r\n",
    "#        'geo1_15', 'geo1_16', 'geo1_17', 'geo1_18', 'geo1_19', 'geo1_20',\r\n",
    "#        'geo1_21', 'geo1_22', 'geo1_24', 'geo1_25', 'geo1_26', 'geo1_27',\r\n",
    "#        'geo1_28', 'geo1_29', 'geo1_30', 'geo2_4', 'geo2_9', 'geo2_10',\r\n",
    "#        'geo2_13', 'geo2_14', 'geo2_20', 'geo2_21', 'geo2_26', 'geo2_27',\r\n",
    "#        'geo2_30', 'geo2_31', 'geo2_36', 'geo2_38', 'geo2_41', 'geo2_46',\r\n",
    "#        'geo2_48', 'geo2_49', 'geo2_50', 'geo2_52', 'geo2_57', 'geo2_64',\r\n",
    "#        'geo2_65', 'geo2_66', 'geo2_70', 'geo2_74', 'geo2_76', 'geo2_79',\r\n",
    "#        'geo2_87', 'geo2_88', 'geo2_91', 'geo2_94', 'geo2_95', 'geo2_96',\r\n",
    "#        'geo2_103', 'geo2_104', 'geo2_105', 'geo2_107', 'geo2_108', 'geo2_109',\r\n",
    "#        'geo2_110', 'geo2_123', 'geo2_126', 'geo2_127', 'geo2_128', 'geo2_138',\r\n",
    "#        'geo2_142', 'geo2_144', 'geo2_147', 'geo2_148', 'geo2_151', 'geo2_155',\r\n",
    "#        'geo2_157', 'geo2_158', 'geo2_161', 'geo2_162', 'geo2_164', 'geo2_165',\r\n",
    "#        'geo2_167', 'geo2_169', 'geo2_170', 'geo2_171', 'geo2_172', 'geo2_173',\r\n",
    "#        'geo2_177', 'geo2_178', 'geo2_181', 'geo2_192', 'geo2_195', 'geo2_197',\r\n",
    "#        'geo2_199', 'geo2_203', 'geo2_208', 'geo2_211', 'geo2_213', 'geo2_214',\r\n",
    "#        'geo2_217', 'geo2_221', 'geo2_223', 'geo2_225', 'geo2_239', 'geo2_240',\r\n",
    "#        'geo2_241', 'geo2_244', 'geo2_254', 'geo2_255', 'geo2_257', 'geo2_258',\r\n",
    "#        'geo2_260', 'geo2_261', 'geo2_269', 'geo2_270', 'geo2_275', 'geo2_276',\r\n",
    "#        'geo2_282', 'geo2_287', 'geo2_296', 'geo2_302', 'geo2_305', 'geo2_310',\r\n",
    "#        'geo2_314', 'geo2_322', 'geo2_323', 'geo2_326', 'geo2_327', 'geo2_328',\r\n",
    "#        'geo2_337', 'geo2_339', 'geo2_345', 'geo2_347', 'geo2_349', 'geo2_358',\r\n",
    "#        'geo2_363', 'geo2_366', 'geo2_369', 'geo2_373', 'geo2_376', 'geo2_381',\r\n",
    "#        'geo2_382', 'geo2_384', 'geo2_385', 'geo2_390', 'geo2_395', 'geo2_396',\r\n",
    "#        'geo2_400', 'geo2_405', 'geo2_408', 'geo2_414', 'geo2_417', 'geo2_421',\r\n",
    "#        'geo2_422', 'geo2_423', 'geo2_432', 'geo2_438', 'geo2_445', 'geo2_447',\r\n",
    "#        'geo2_451', 'geo2_452', 'geo2_457', 'geo2_459', 'geo2_461', 'geo2_466',\r\n",
    "#        'geo2_469', 'geo2_471', 'geo2_474', 'geo2_477', 'geo2_480', 'geo2_487',\r\n",
    "#        'geo2_488', 'geo2_489', 'geo2_491', 'geo2_499', 'geo2_506', 'geo2_508',\r\n",
    "#        'geo2_512', 'geo2_514', 'geo2_517', 'geo2_519', 'geo2_521', 'geo2_526',\r\n",
    "#        'geo2_527', 'geo2_529', 'geo2_533', 'geo2_539', 'geo2_543', 'geo2_545',\r\n",
    "#        'geo2_546', 'geo2_548', 'geo2_555', 'geo2_556', 'geo2_557', 'geo2_561',\r\n",
    "#        'geo2_562', 'geo2_568', 'geo2_572', 'geo2_574', 'geo2_575', 'geo2_587',\r\n",
    "#        'geo2_591', 'geo2_592', 'geo2_600', 'geo2_603', 'geo2_605', 'geo2_613',\r\n",
    "#        'geo2_616', 'geo2_617', 'geo2_619', 'geo2_621', 'geo2_622', 'geo2_623',\r\n",
    "#        'geo2_625', 'geo2_628', 'geo2_630', 'geo2_634', 'geo2_639', 'geo2_640',\r\n",
    "#        'geo2_641', 'geo2_645', 'geo2_647', 'geo2_648', 'geo2_649', 'geo2_651',\r\n",
    "#        'geo2_652', 'geo2_658', 'geo2_659', 'geo2_661', 'geo2_667', 'geo2_673',\r\n",
    "#        'geo2_675', 'geo2_676', 'geo2_682', 'geo2_685', 'geo2_689', 'geo2_690',\r\n",
    "#        'geo2_694', 'geo2_700', 'geo2_701', 'geo2_704', 'geo2_706', 'geo2_715',\r\n",
    "#        'geo2_716', 'geo2_719', 'geo2_721', 'geo2_726', 'geo2_727', 'geo2_728',\r\n",
    "#        'geo2_729', 'geo2_730', 'geo2_732', 'geo2_733', 'geo2_735', 'geo2_746',\r\n",
    "#        'geo2_747', 'geo2_749', 'geo2_751', 'geo2_753', 'geo2_760', 'geo2_761',\r\n",
    "#        'geo2_763', 'geo2_765', 'geo2_770', 'geo2_772', 'geo2_773', 'geo2_777',\r\n",
    "#        'geo2_788', 'geo2_799', 'geo2_800', 'geo2_803', 'geo2_804', 'geo2_812',\r\n",
    "#        'geo2_816', 'geo2_818', 'geo2_819', 'geo2_825', 'geo2_826', 'geo2_828',\r\n",
    "#        'geo2_838', 'geo2_839', 'geo2_842', 'geo2_843', 'geo2_845', 'geo2_852',\r\n",
    "#        'geo2_855', 'geo2_856', 'geo2_863', 'geo2_864', 'geo2_867', 'geo2_869',\r\n",
    "#        'geo2_873', 'geo2_874', 'geo2_891', 'geo2_892', 'geo2_896', 'geo2_898',\r\n",
    "#        'geo2_902', 'geo2_907', 'geo2_909', 'geo2_912', 'geo2_922', 'geo2_923',\r\n",
    "#        'geo2_926', 'geo2_929', 'geo2_930', 'geo2_931', 'geo2_932', 'geo2_933',\r\n",
    "#        'geo2_935', 'geo2_936', 'geo2_937', 'geo2_942', 'geo2_943', 'geo2_946',\r\n",
    "#        'geo2_949', 'geo2_953', 'geo2_957', 'geo2_958', 'geo2_963', 'geo2_972',\r\n",
    "#        'geo2_974', 'geo2_981', 'geo2_987', 'geo2_991', 'geo2_992', 'geo2_1005',\r\n",
    "#        'geo2_1006', 'geo2_1007', 'geo2_1009', 'geo2_1012', 'geo2_1015',\r\n",
    "#        'geo2_1019', 'geo2_1021', 'geo2_1023', 'geo2_1024', 'geo2_1031',\r\n",
    "#        'geo2_1033', 'geo2_1035', 'geo2_1038', 'geo2_1039', 'geo2_1041',\r\n",
    "#        'geo2_1046', 'geo2_1047', 'geo2_1049', 'geo2_1050', 'geo2_1051',\r\n",
    "#        'geo2_1055', 'geo2_1056', 'geo2_1060', 'geo2_1062', 'geo2_1065',\r\n",
    "#        'geo2_1073', 'geo2_1074', 'geo2_1076', 'geo2_1082', 'geo2_1085',\r\n",
    "#        'geo2_1087', 'geo2_1088', 'geo2_1090', 'geo2_1091', 'geo2_1095',\r\n",
    "#        'geo2_1101', 'geo2_1108', 'geo2_1114', 'geo2_1115', 'geo2_1126',\r\n",
    "#        'geo2_1127', 'geo2_1128', 'geo2_1131', 'geo2_1133', 'geo2_1134',\r\n",
    "#        'geo2_1137', 'geo2_1138', 'geo2_1140', 'geo2_1142', 'geo2_1147',\r\n",
    "#        'geo2_1149', 'geo2_1154', 'geo2_1155', 'geo2_1156', 'geo2_1160',\r\n",
    "#        'geo2_1161', 'geo2_1166', 'geo2_1168', 'geo2_1170', 'geo2_1181',\r\n",
    "#        'geo2_1182', 'geo2_1183', 'geo2_1188', 'geo2_1194', 'geo2_1205',\r\n",
    "#        'geo2_1206', 'geo2_1210', 'geo2_1211', 'geo2_1213', 'geo2_1215',\r\n",
    "#        'geo2_1217', 'geo2_1218', 'geo2_1219', 'geo2_1221', 'geo2_1222',\r\n",
    "#        'geo2_1223', 'geo2_1227', 'geo2_1228', 'geo2_1229', 'geo2_1234',\r\n",
    "#        'geo2_1240', 'geo2_1241', 'geo2_1251', 'geo2_1253', 'geo2_1259',\r\n",
    "#        'geo2_1265', 'geo2_1275', 'geo2_1277', 'geo2_1278', 'geo2_1282',\r\n",
    "#        'geo2_1287', 'geo2_1289', 'geo2_1294', 'geo2_1297', 'geo2_1300',\r\n",
    "#        'geo2_1308', 'geo2_1310', 'geo2_1313', 'geo2_1320', 'geo2_1322',\r\n",
    "#        'geo2_1357', 'geo2_1359', 'geo2_1365', 'geo2_1366', 'geo2_1374',\r\n",
    "#        'geo2_1376', 'geo2_1377', 'geo2_1378', 'geo2_1381', 'geo2_1382',\r\n",
    "#        'geo2_1385', 'geo2_1386', 'geo2_1389', 'geo2_1394', 'geo2_1398',\r\n",
    "#        'geo2_1399', 'geo2_1401', 'geo2_1402', 'geo2_1411', 'geo2_1415',\r\n",
    "#        'geo2_1416', 'geo2_1417', 'geo2_1418', 'geo2_1421', 'geo2_1425',\r\n",
    "#        'geo2_1426']]"
   ],
   "outputs": [],
   "metadata": {}
  }
 ],
 "metadata": {
  "orig_nbformat": 4,
  "language_info": {
   "name": "python",
   "version": "3.7.4",
   "mimetype": "text/x-python",
   "codemirror_mode": {
    "name": "ipython",
    "version": 3
   },
   "pygments_lexer": "ipython3",
   "nbconvert_exporter": "python",
   "file_extension": ".py"
  },
  "kernelspec": {
   "name": "python3",
   "display_name": "Python 3.7.4 64-bit"
  },
  "interpreter": {
   "hash": "88ce181b8cd0eb812200b9b411a136cd9c7c972aa91497a27a228178326dd49d"
  }
 },
 "nbformat": 4,
 "nbformat_minor": 2
}